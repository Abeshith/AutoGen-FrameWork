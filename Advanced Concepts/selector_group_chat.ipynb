{
 "cells": [
  {
   "cell_type": "code",
   "execution_count": 1,
   "id": "5f29d0c7",
   "metadata": {},
   "outputs": [],
   "source": [
    "from autogen_agentchat.agents import AssistantAgent\n",
    "from autogen_ext.models.openai import OpenAIChatCompletionClient\n",
    "from dotenv import load_dotenv\n",
    "import asyncio\n",
    "import os\n",
    "\n",
    "load_dotenv()\n",
    "api_key = os.getenv(\"GOOGLE_API_KEY\")\n",
    "open_router_key = os.getenv(\"OPEN_ROUTER_API_KEY\")"
   ]
  },
  {
   "cell_type": "code",
   "execution_count": 3,
   "id": "c040b4c4",
   "metadata": {},
   "outputs": [],
   "source": [
    "model_client = OpenAIChatCompletionClient(\n",
    "    model=\"gemini-1.5-flash\",\n",
    "    api_key=api_key,\n",
    ")"
   ]
  },
  {
   "cell_type": "code",
   "execution_count": 5,
   "id": "85298fbc",
   "metadata": {},
   "outputs": [],
   "source": [
    "planning_agent = AssistantAgent(\n",
    "    name=\"PlanningAgent\",\n",
    "    model_client=model_client,\n",
    "    description=\"An agent that plans tasks, This agent should be first engage when a new task is defined.\",\n",
    "    system_message=\"\"\"\n",
    "    You are a planning agent and you are first to execute no matter what when a task comes and plan it. \n",
    "    Your role is to break down complex tasks into smaller and managable subtasks.\n",
    "    Your Team Members are:\n",
    "    - WebSearhAgent: Conducts web searches to gather information.\n",
    "    - DataAnalystAgent: do calculations.\n",
    "\n",
    "    Your only plan and delicate tasks - you do not execute them yourself.\n",
    "    When Assigning tasks, use the following format:\n",
    "    1. <agent_name>: <task>\n",
    "\n",
    "    After the task is completed, and also in planning after everything is done tell the last agent which is going the perform the final task and gte answer to end the conversation with \"TERMINATE\".\n",
    "    \"\"\",\n",
    ")\n"
   ]
  },
  {
   "cell_type": "code",
   "execution_count": 6,
   "id": "cf6d8a39",
   "metadata": {},
   "outputs": [],
   "source": [
    "def web_search_tool(query: str) -> str:\n",
    "    \"\"\"A mock web search tool that simulates a web search.\"\"\"\n",
    "    if \"2006-2007\" in query:\n",
    "        return \"\"\"Here are the total points scored by Miami Heat players in the 2006-2007 season:\n",
    "        Udonis Haslem: 844 points\n",
    "        Dwayne Wade: 1397 points\n",
    "        James Posey: 550 points\n",
    "        ...\n",
    "        \"\"\"\n",
    "    elif \"2007-2008\" in query:\n",
    "        return \"The number of total rebounds for Dwayne Wade in the Miami Heat season 2007-2008 is 214.\"\n",
    "    elif \"2008-2009\" in query:\n",
    "        return \"The number of total rebounds for Dwayne Wade in the Miami Heat season 2008-2009 is 398.\"\n",
    "    return \"No data found.\"\n",
    "\n",
    "\n",
    "web_search_agent = AssistantAgent(\n",
    "    name=\"WebSearchAgent\",\n",
    "    model_client=model_client,\n",
    "    description=\"An agent that conducts web searches to gather information.\",\n",
    "    tools=[web_search_tool],\n",
    "    system_message=\"\"\"\n",
    "    You are a web search agent and your only job is to conduct web searches to gather information.\n",
    "    Your only tool is web_search_tool, which simulates a web search.\n",
    "    Use the web_search_tool function to simulate a web search.\n",
    "    You make only one web search per query.\n",
    "    Your role is to conduct web searches to gather information. \n",
    "    You will be provided with queries, and you should return the relevant information.\n",
    "    Once you have the information, You don't or never do data analysis or planing in the team.\n",
    "    \"\"\", \n",
    ")"
   ]
  },
  {
   "cell_type": "code",
   "execution_count": 7,
   "id": "fbec9a9e",
   "metadata": {},
   "outputs": [],
   "source": [
    "def percentage_change_tool(start: float, end: float) -> float:\n",
    "    \"\"\"Calculate the percentage change from old_value to new_value.\"\"\"\n",
    "    if start == 0:\n",
    "        return float('inf') \n",
    "    return ((end - start) / start) * 100\n",
    "   \n",
    "\n",
    "\n",
    "data_analyst_agent = AssistantAgent(\n",
    "    name=\"DataAnalystAgent\",\n",
    "    model_client=model_client,\n",
    "    description=\"An agent that analyzes data and provides insights.\",\n",
    "    tools=[percentage_change_tool],\n",
    "    system_message=\"\"\"\n",
    "    You are a data analyst agent and your only job is to analyze data based only the tools given to you you should only perform when you get an task.\n",
    "    Your role is to analyze data and analyse the data and provide results using the tools provided.\n",
    "    You will be provided with data, and you should return the relevant insights.\n",
    "    You do not conduct web searches or planning in the team.\n",
    "\n",
    "    if you not seen the data you should ask to provide you with the data.\n",
    "    \"\"\",\n",
    ")"
   ]
  },
  {
   "cell_type": "code",
   "execution_count": 8,
   "id": "2a3a486d",
   "metadata": {},
   "outputs": [],
   "source": [
    "from autogen_agentchat.conditions import TextMentionTermination, MaxMessageTermination\n",
    "text_mention_termination = TextMentionTermination(\"TERMINATE\")\n",
    "max_message_termination = MaxMessageTermination(10)\n",
    "termination_condition = text_mention_termination | max_message_termination"
   ]
  },
  {
   "cell_type": "code",
   "execution_count": 9,
   "id": "2f2949e8",
   "metadata": {},
   "outputs": [],
   "source": [
    "selector_prompt = \"\"\"\n",
    "Select an agent to perform an task.\n",
    "And Always as the planning agent as first to assign the task first.\n",
    "and then the selected agent will perform the task.\n",
    "\n",
    "\n",
    "{roles}\n",
    "\n",
    "current conversation history:\n",
    "{history}\n",
    "\n",
    "Read the conversation history and then select the most appropriate agent from {participants} to perform the task.\n",
    "Make sure the planner agent has assigned task before other agents start working.\n",
    "Only select one agent to perform the task.\n",
    "\"\"\""
   ]
  },
  {
   "cell_type": "code",
   "execution_count": 10,
   "id": "82a23b2f",
   "metadata": {},
   "outputs": [],
   "source": [
    "from autogen_agentchat.teams import SelectorGroupChat\n",
    "team = SelectorGroupChat(\n",
    "    participants=[planning_agent, web_search_agent, data_analyst_agent],\n",
    "    model_client=model_client,\n",
    "    selector_prompt=selector_prompt,\n",
    "    termination_condition=termination_condition,\n",
    "    allow_repeated_speaker=True\n",
    ")"
   ]
  },
  {
   "cell_type": "code",
   "execution_count": null,
   "id": "88d43750",
   "metadata": {},
   "outputs": [],
   "source": [
    "from autogen_agentchat.ui import Console\n",
    "task = \"Who was the top scorer for Miami Heat in the 2006-2007 season? What was the total points scored by each player? and what was the percentage change in points scored by Dwayne Wade from 2006-2007 to 2007-2008 season?\"\n",
    "\n",
    "await Console(team.run_stream(task=task))"
   ]
  },
  {
   "cell_type": "markdown",
   "id": "9fe5e28a",
   "metadata": {},
   "source": [
    "## Custom Selector Agent"
   ]
  },
  {
   "cell_type": "code",
   "execution_count": 12,
   "id": "5018aff2",
   "metadata": {},
   "outputs": [],
   "source": [
    "from typing import Sequence\n",
    "from autogen_agentchat.messages import BaseAgentEvent, BaseChatMessage\n",
    "def selector_func(messages: Sequence[BaseAgentEvent | BaseChatMessage]) -> str | None:\n",
    "    if(messages[-1].source != planning_agent.name):\n",
    "        return planning_agent.name\n",
    "    return None"
   ]
  },
  {
   "cell_type": "code",
   "execution_count": null,
   "id": "dc4c5e61",
   "metadata": {},
   "outputs": [],
   "source": [
    "await team.reset()"
   ]
  },
  {
   "cell_type": "code",
   "execution_count": null,
   "id": "0a2c4ee3",
   "metadata": {},
   "outputs": [],
   "source": [
    "from autogen_agentchat.teams import SelectorGroupChat\n",
    "team = SelectorGroupChat(\n",
    "    participants=[planning_agent, web_search_agent, data_analyst_agent],\n",
    "    model_client=model_client,\n",
    "    selector_prompt=selector_prompt,\n",
    "    termination_condition=termination_condition,\n",
    "    allow_repeated_speaker=True,\n",
    "    selector_func=selector_func\n",
    ")"
   ]
  },
  {
   "cell_type": "code",
   "execution_count": null,
   "id": "09d1d8c2",
   "metadata": {},
   "outputs": [],
   "source": [
    "from autogen_agentchat.ui import Console\n",
    "task = \"Who was the top scorer for Miami Heat in the 2006-2007 season?what was the percentage change in total between 2006-2007 to 2007-2008 seasons?\"\n",
    "\n",
    "await Console(team.run_stream(task=task))"
   ]
  }
 ],
 "metadata": {
  "kernelspec": {
   "display_name": "autogen-env",
   "language": "python",
   "name": "python3"
  },
  "language_info": {
   "codemirror_mode": {
    "name": "ipython",
    "version": 3
   },
   "file_extension": ".py",
   "mimetype": "text/x-python",
   "name": "python",
   "nbconvert_exporter": "python",
   "pygments_lexer": "ipython3",
   "version": "3.11.1"
  }
 },
 "nbformat": 4,
 "nbformat_minor": 5
}
