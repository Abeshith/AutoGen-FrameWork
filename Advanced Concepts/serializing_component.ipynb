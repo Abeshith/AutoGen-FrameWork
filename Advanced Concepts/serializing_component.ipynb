{
 "cells": [
  {
   "cell_type": "code",
   "execution_count": 7,
   "id": "a8e48e1e",
   "metadata": {},
   "outputs": [],
   "source": [
    "from autogen_agentchat.agents import AssistantAgent, UserProxyAgent\n",
    "from autogen_ext.models.openai import OpenAIChatCompletionClient\n",
    "from dotenv import load_dotenv\n",
    "import asyncio\n",
    "import os\n",
    "\n",
    "load_dotenv()\n",
    "api_key = os.getenv(\"GOOGLE_API_KEY\")\n",
    "open_router_key = os.getenv(\"OPENROUTER_API_KEY\")"
   ]
  },
  {
   "cell_type": "code",
   "execution_count": 10,
   "id": "55b609cb",
   "metadata": {},
   "outputs": [],
   "source": [
    "model_client = OpenAIChatCompletionClient(\n",
    "    model='gemini-1.5-flash',\n",
    "    api_key=api_key,\n",
    ")"
   ]
  },
  {
   "cell_type": "markdown",
   "id": "5862b61a",
   "metadata": {},
   "source": [
    "## Serializing Termination Conditions"
   ]
  },
  {
   "cell_type": "code",
   "execution_count": 5,
   "id": "12e01d7c",
   "metadata": {},
   "outputs": [
    {
     "data": {
      "text/plain": [
       "'{\"provider\":\"autogen_agentchat.base.AndTerminationCondition\",\"component_type\":\"termination\",\"version\":1,\"component_version\":1,\"description\":null,\"label\":\"AndTerminationCondition\",\"config\":{\"conditions\":[{\"provider\":\"autogen_agentchat.conditions.TextMentionTermination\",\"component_type\":\"termination\",\"version\":1,\"component_version\":1,\"description\":\"Terminate the conversation if a specific text is mentioned.\",\"label\":\"TextMentionTermination\",\"config\":{\"text\":\"STOP\"}},{\"provider\":\"autogen_agentchat.conditions.MaxMessageTermination\",\"component_type\":\"termination\",\"version\":1,\"component_version\":1,\"description\":\"Terminate the conversation after a maximum number of messages have been exchanged.\",\"label\":\"MaxMessageTermination\",\"config\":{\"max_messages\":5,\"include_agent_event\":false}}]}}'"
      ]
     },
     "execution_count": 5,
     "metadata": {},
     "output_type": "execute_result"
    }
   ],
   "source": [
    "from autogen_agentchat.conditions import TextMentionTermination, MaxMessageTermination\n",
    "\n",
    "text_mention_termination = TextMentionTermination('STOP')\n",
    "max_message_termination = MaxMessageTermination(5)\n",
    "\n",
    "termination_condition = text_mention_termination & max_message_termination\n",
    "\n",
    "termination_config =  termination_condition.dump_component()\n",
    "\n",
    "termination_config.model_dump_json()"
   ]
  },
  {
   "cell_type": "code",
   "execution_count": 6,
   "id": "a6291196",
   "metadata": {},
   "outputs": [],
   "source": [
    "final_termination_condition = termination_condition.load_component(termination_config)"
   ]
  },
  {
   "cell_type": "markdown",
   "id": "20d70667",
   "metadata": {},
   "source": [
    "## Serializing Agents"
   ]
  },
  {
   "cell_type": "code",
   "execution_count": 11,
   "id": "ddfb0643",
   "metadata": {},
   "outputs": [],
   "source": [
    "agent = AssistantAgent(\n",
    "    name=\"assistant\",\n",
    "    model_client=model_client,\n",
    "    description=\"An assistant agent that can answer questions and perform tasks.\",\n",
    "    system_message=\"You are a helpful assistant to answer the users query.\",\n",
    ")\n",
    "\n",
    "user_proxy = UserProxyAgent(name=\"user_proxy\")"
   ]
  },
  {
   "cell_type": "code",
   "execution_count": 12,
   "id": "bf7d71dd",
   "metadata": {},
   "outputs": [
    {
     "data": {
      "text/plain": [
       "ComponentModel(provider='autogen_agentchat.agents.UserProxyAgent', component_type='agent', version=1, component_version=1, description='An agent that can represent a human user through an input function.', label='UserProxyAgent', config={'name': 'user_proxy', 'description': 'A human user'})"
      ]
     },
     "execution_count": 12,
     "metadata": {},
     "output_type": "execute_result"
    }
   ],
   "source": [
    "agent.dump_component()\n",
    "user_proxy.dump_component()"
   ]
  },
  {
   "cell_type": "code",
   "execution_count": null,
   "id": "e86c3321",
   "metadata": {},
   "outputs": [],
   "source": [
    "import json\n",
    "\n",
    "with open('agent_config.json', 'w') as f:\n",
    "    json.dump(agent.dump_component().model_dump(), f, indent=2)\n",
    "\n",
    "with open('user_proxy_config.json', 'w') as f:\n",
    "    json.dump(user_proxy.dump_component().model_dump(), f, indent=2)"
   ]
  },
  {
   "cell_type": "code",
   "execution_count": 16,
   "id": "4ec1e130",
   "metadata": {},
   "outputs": [],
   "source": [
    "with open(\"user_proxy_config.json\", \"r\") as f:\n",
    "    user_proxy_config = json.load(f)\n",
    "\n",
    "user_proxy = user_proxy.load_component(user_proxy_config)"
   ]
  },
  {
   "cell_type": "markdown",
   "id": "688ffa7d",
   "metadata": {},
   "source": [
    "## Serializing Teams"
   ]
  },
  {
   "cell_type": "code",
   "execution_count": 17,
   "id": "f1598e9c",
   "metadata": {},
   "outputs": [],
   "source": [
    "from autogen_agentchat.teams import RoundRobinGroupChat\n",
    "\n",
    "team = RoundRobinGroupChat(\n",
    "    participants=[agent, user_proxy],\n",
    "    termination_condition=final_termination_condition,\n",
    ")"
   ]
  },
  {
   "cell_type": "code",
   "execution_count": 18,
   "id": "eb03cea2",
   "metadata": {},
   "outputs": [],
   "source": [
    "from pydantic import SecretStr\n",
    "\n",
    "team_config = team.dump_component()\n",
    "\n",
    "def secret_str_serializer(obj):\n",
    "    if isinstance(obj, SecretStr):\n",
    "        return obj.get_secret_value()\n",
    "    raise TypeError(f\"Type {type(obj)} not serializable\")\n",
    "\n",
    "with open('team.json', 'w') as f:\n",
    "    json.dump(team_config.model_dump(), f, indent=2, default=secret_str_serializer)"
   ]
  },
  {
   "cell_type": "code",
   "execution_count": null,
   "id": "2ffea0d7",
   "metadata": {},
   "outputs": [],
   "source": []
  }
 ],
 "metadata": {
  "kernelspec": {
   "display_name": "autogen-env",
   "language": "python",
   "name": "python3"
  },
  "language_info": {
   "codemirror_mode": {
    "name": "ipython",
    "version": 3
   },
   "file_extension": ".py",
   "mimetype": "text/x-python",
   "name": "python",
   "nbconvert_exporter": "python",
   "pygments_lexer": "ipython3",
   "version": "3.11.1"
  }
 },
 "nbformat": 4,
 "nbformat_minor": 5
}
