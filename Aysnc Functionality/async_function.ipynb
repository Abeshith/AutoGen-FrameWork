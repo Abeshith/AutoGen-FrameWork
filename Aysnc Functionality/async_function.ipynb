{
 "cells": [
  {
   "cell_type": "markdown",
   "id": "e4091576",
   "metadata": {},
   "source": [
    "### Synchronous or Normal Fucntionality"
   ]
  },
  {
   "cell_type": "code",
   "execution_count": 18,
   "id": "edd49a60",
   "metadata": {},
   "outputs": [
    {
     "name": "stdout",
     "output_type": "stream",
     "text": [
      "Starting to brew coffee...\n",
      "Coffee is ready!\n",
      "Starting to toast bread...\n",
      "Bread is toasted!\n",
      "\n",
      "Total time taken:5.00 Minutes\n"
     ]
    }
   ],
   "source": [
    "import time\n",
    "\n",
    "def brew_coffee():\n",
    "    print(\"Starting to brew coffee...\")\n",
    "    time.sleep(3) ## 3 Minutes\n",
    "    print(\"Coffee is ready!\")\n",
    "\n",
    "\n",
    "def toast_bread():\n",
    "    print(\"Starting to toast bread...\")\n",
    "    time.sleep(2) ## 2 Minutes\n",
    "    print(\"Bread is toasted!\")\n",
    "\n",
    "\n",
    "def main():\n",
    "    start = time.time()\n",
    "\n",
    "    coffee = brew_coffee()\n",
    "    #time.sleep(2)  # Simulating a short wait before starting to toast bread\n",
    "    bread = toast_bread()\n",
    "\n",
    "    end = time.time()\n",
    "\n",
    "    print(f\"\\nTotal time taken:{end - start:.2f} Minutes\")\n",
    "\n",
    "main()"
   ]
  },
  {
   "cell_type": "markdown",
   "id": "8ac58306",
   "metadata": {},
   "source": [
    "### Aysnchronous Version"
   ]
  },
  {
   "cell_type": "code",
   "execution_count": 21,
   "id": "47a595ea",
   "metadata": {},
   "outputs": [
    {
     "name": "stdout",
     "output_type": "stream",
     "text": [
      "Starting to brew coffee...\n",
      "Starting to toast bread...\n",
      "Bread is toasted!\n",
      "Coffee is ready!\n",
      "\n",
      "Total time taken: 2.99 Minutes\n"
     ]
    }
   ],
   "source": [
    "import asyncio\n",
    "import time\n",
    "\n",
    "async def brew_coffee():\n",
    "    print(\"Starting to brew coffee...\")\n",
    "    await asyncio.sleep(3)  # Simulating a 3-minute coffee brewing time\n",
    "    print(\"Coffee is ready!\")\n",
    "\n",
    "\n",
    "async def toast_bread():\n",
    "    print(\"Starting to toast bread...\")\n",
    "    await asyncio.sleep(2)  # Simulating a 2-minute bread toasting time\n",
    "    print(\"Bread is toasted!\")\n",
    "\n",
    "\n",
    "async def main():\n",
    "    start = time.time()\n",
    "\n",
    "    # Run both tasks concurrently\n",
    "    await asyncio.gather(\n",
    "        brew_coffee(),\n",
    "        toast_bread()\n",
    "    )\n",
    "\n",
    "    end = time.time()\n",
    "\n",
    "    print(f\"\\nTotal time taken: {end - start:.2f} Minutes\")\n",
    "\n",
    "await main()"
   ]
  },
  {
   "cell_type": "markdown",
   "id": "cf47f44f",
   "metadata": {},
   "source": [
    "### With Tasks"
   ]
  },
  {
   "cell_type": "code",
   "execution_count": 22,
   "id": "e5646a2f",
   "metadata": {},
   "outputs": [
    {
     "name": "stdout",
     "output_type": "stream",
     "text": [
      "Starting to brew coffee...\n",
      "Starting to toast bread...\n",
      "Bread is toasted!\n",
      "Coffee is ready!\n",
      "\n",
      "Total time taken: 3.00 Minutes\n"
     ]
    }
   ],
   "source": [
    "async def brew_coffee_aysnc():\n",
    "    print(\"Starting to brew coffee...\")\n",
    "    await asyncio.sleep(3)  # Simulating a 3-minute coffee brewing time\n",
    "    print(\"Coffee is ready!\")\n",
    "\n",
    "\n",
    "async def toast_bread_aysnc():\n",
    "    print(\"Starting to toast bread...\")\n",
    "    await asyncio.sleep(2)  # Simulating a 2-minute bread toasting time\n",
    "    print(\"Bread is toasted!\")\n",
    "\n",
    "\n",
    "async def main_aysnc():\n",
    "    start = time.time()\n",
    "\n",
    "    coffee_task = asyncio.create_task(brew_coffee_aysnc())\n",
    "    bread_task = asyncio.create_task(toast_bread_aysnc())\n",
    "\n",
    "    coffee = await coffee_task\n",
    "    bread = await bread_task\n",
    "\n",
    "    end = time.time()\n",
    "\n",
    "    print(f\"\\nTotal time taken: {end - start:.2f} Minutes\")\n",
    "\n",
    "await main_aysnc()"
   ]
  },
  {
   "cell_type": "code",
   "execution_count": null,
   "id": "8bf0eb69",
   "metadata": {},
   "outputs": [],
   "source": []
  },
  {
   "cell_type": "code",
   "execution_count": null,
   "id": "cb196c20",
   "metadata": {},
   "outputs": [],
   "source": []
  }
 ],
 "metadata": {
  "kernelspec": {
   "display_name": "autogen-env",
   "language": "python",
   "name": "python3"
  },
  "language_info": {
   "codemirror_mode": {
    "name": "ipython",
    "version": 3
   },
   "file_extension": ".py",
   "mimetype": "text/x-python",
   "name": "python",
   "nbconvert_exporter": "python",
   "pygments_lexer": "ipython3",
   "version": "3.11.1"
  }
 },
 "nbformat": 4,
 "nbformat_minor": 5
}
