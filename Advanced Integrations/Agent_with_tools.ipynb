{
 "cells": [
  {
   "cell_type": "code",
   "execution_count": 1,
   "id": "a84b2167",
   "metadata": {},
   "outputs": [],
   "source": [
    "from autogen_agentchat.agents import AssistantAgent\n",
    "from autogen_ext.models.openai import OpenAIChatCompletionClient\n",
    "from dotenv import load_dotenv\n",
    "import asyncio\n",
    "import os\n",
    "\n",
    "load_dotenv()\n",
    "api_key = os.getenv(\"GOOGLE_API_KEY\")\n",
    "tavily_api_key = os.getenv(\"TAVILY_API_KEY\")\n",
    "os.environ['TAVILY_API_KEY'] = os.getenv('TAVILY_API_KEY')\n",
    "openrouter_api_key = os.getenv(\"OPEN_ROUTER_API_KEY\")\n",
    "os.environ['OPENWEATHER_API_KEY'] = os.getenv('OPENWEATHER_API_KEY')"
   ]
  },
  {
   "cell_type": "code",
   "execution_count": null,
   "id": "7d5c7012",
   "metadata": {},
   "outputs": [],
   "source": []
  },
  {
   "cell_type": "code",
   "execution_count": 2,
   "id": "0378eecc",
   "metadata": {},
   "outputs": [],
   "source": [
    "model_client= OpenAIChatCompletionClient(\n",
    "  model=\"gemini-1.5-flash-8b\",\n",
    "  api_key=api_key,\n",
    ")"
   ]
  },
  {
   "cell_type": "code",
   "execution_count": 5,
   "id": "1d17403b",
   "metadata": {},
   "outputs": [],
   "source": [
    "from langchain_tavily import TavilySearch\n",
    "web_search = TavilySearch(max_results=3, api_key=tavily_api_key)\n",
    "\n",
    "def web_search_tool(query: str) -> str:\n",
    "    \"\"\"Search the web for the given query and return the results.\"\"\"\n",
    "    results = web_search.invoke(query)\n",
    "    return results"
   ]
  },
  {
   "cell_type": "code",
   "execution_count": 6,
   "id": "6d09da14",
   "metadata": {},
   "outputs": [
    {
     "data": {
      "text/plain": [
       "{'query': 'What is the capital of France?',\n",
       " 'follow_up_questions': None,\n",
       " 'answer': None,\n",
       " 'images': [],\n",
       " 'results': [{'url': 'https://en.wikipedia.org/wiki/Paris',\n",
       "   'title': 'Paris - Wikipedia',\n",
       "   'content': 'Paris is the capital and largest city of France. With an estimated population of 2,048,472 in January 2025 in an area of more than 105 km2 (41 sq mi),',\n",
       "   'score': 0.86024034,\n",
       "   'raw_content': None},\n",
       "  {'url': 'https://home.adelphi.edu/~ca19535/page%204.html',\n",
       "   'title': 'Paris facts: the capital of France in history',\n",
       "   'content': 'Paris, France   ## Paris facts: Paris, the **capital of France** Paris is the **capital of France**, Paris has 2.234 million inhabitants ## Paris facts: Paris history Republic, Paris has a rich 2000 year history. See details of Paris churches, including Notre ## Paris facts: Paris, a world city Paris is a world capital city of shopping french fashion brands. All of this turns Paris into a ## Paris facts: the capital of France in history Before Paris, the capital of France Paris first became the capital of France in France, Paris retrieved its status of capital of France under King can see remains of the Philippe August Paris walls in the parking and Louvre Museum Paris remained the capital of',\n",
       "   'score': 0.8286204,\n",
       "   'raw_content': None},\n",
       "  {'url': 'https://www.coe.int/en/web/interculturalcities/paris',\n",
       "   'title': 'Paris, France - Intercultural Cities Programme - The Council of Europe',\n",
       "   'content': 'Paris, France - Intercultural City - Intercultural Cities Programme Council of Europe Human Rights Human Rights Online resources Human Rights Online resources # Intercultural Cities Programme - What is an intercultural city? - Intercultural Regions - Index reports per city - Intercultural profiles 2. Intercultural Cities Programme 4. Paris # Paris, France - Intercultural City Paris is the capital and most populous city of France. The City of Paris has an area of 105\\xa0km² and a population of 2,241,346 (2014 estimate). #### International Intercultural Cities Network - Paris Intercultural profile Intercultural Cities Index - Paris\\xa0city official website - Paris Facebook page - Private office of the Secretary General - Online bookshop - Online resources **Council of Europe**,',\n",
       "   'score': 0.6952351,\n",
       "   'raw_content': None}],\n",
       " 'response_time': 0.94}"
      ]
     },
     "execution_count": 6,
     "metadata": {},
     "output_type": "execute_result"
    }
   ],
   "source": [
    "web_search_tool(\"What is the capital of France?\")"
   ]
  },
  {
   "cell_type": "code",
   "execution_count": 9,
   "id": "2d8c6433",
   "metadata": {},
   "outputs": [
    {
     "data": {
      "text/plain": [
       "'The current temperature in India is 14.3°C with overcast clouds.'"
      ]
     },
     "execution_count": 9,
     "metadata": {},
     "output_type": "execute_result"
    }
   ],
   "source": [
    "def weather_tool(city: str) -> str:\n",
    "    \"\"\"Get the current weather for the given city.\"\"\"\n",
    "    import requests\n",
    "    api_key = os.getenv(\"OPENWEATHER_API_KEY\")\n",
    "    url = f\"http://api.openweathermap.org/data/2.5/weather?q={city}&appid={api_key}&units=metric\"\n",
    "    response = requests.get(url)\n",
    "    data = response.json()\n",
    "    if response.status_code == 200:\n",
    "        return f\"The current temperature in {city} is {data['main']['temp']}°C with {data['weather'][0]['description']}.\"\n",
    "    else:\n",
    "        return f\"Could not retrieve weather data for {city}: {data.get('message', 'Unknown error')}\"\n",
    "    \n",
    "\n",
    "weather_tool(\"India\")"
   ]
  },
  {
   "cell_type": "code",
   "execution_count": 20,
   "id": "16a2ed53",
   "metadata": {},
   "outputs": [
    {
     "data": {
      "text/plain": [
       "'Published: 2024-07-26\\nTitle: Modular RAG: Transforming RAG Systems into LEGO-like Reconfigurable Frameworks\\nAuthors: Yunfan Gao, Yun Xiong, Meng Wang, Haofen Wang\\nSummary: Retrieval-augmented Generation (RAG) has markedly enhanced the capabilities\\nof Large Language Models (LLMs) in tackling knowledge-intensive tasks. The\\nincreasing demands of application scenarios have driven the evolution of RAG,\\nleading to the integration of advanced retrievers, LLMs and other complementary\\ntechnologies, which in turn has amplified the intricacy of RAG systems.\\nHowever, the rapid advancements are outpacing the foundational RAG paradigm,\\nwith many methods struggling to be unified under the process of\\n\"retrieve-then-generate\". In this context, this paper examines the limitations\\nof the existing RAG paradigm and introduces the modular RAG framework. By\\ndecomposing complex RAG systems into independent modules and specialized\\noperators, it facilitates a highly reconfigurable framework. Modular RAG\\ntranscends the traditional linear architecture, embracing a more advanced\\ndesign that integrates routing, scheduling, and fusion mechanisms. Drawing on\\nextensive research, this paper further identifies prevalent RAG\\npatterns-linear, conditional, branching, and looping-and offers a comprehensive\\nanalysis of their respective implementation nuances. Modular RAG presents\\ninnovative opportunities for the conceptualization and deployment of RAG\\nsystems. Finally, the paper explores the potential emergence of new operators\\nand paradigms, establishing a solid theoretical foundation and a practical\\nroadmap for the continued evolution and practical deployment of RAG\\ntechnologies.\\n\\nPublished: 2024-12-31\\nTitle: RAG-Instruct: Boosting LLMs with Diverse Retrieval-Augmented Instructions\\nAuthors: Wanlong Liu, Junying Chen, Ke Ji, Li Zhou, Wenyu Chen, Benyou Wang\\nSummary: Retrieval-Augmented Generation (RAG) has emerged as a key paradigm for\\nenhancing large language models (LLMs) by incorporating external knowledge.\\nHowever, current RAG methods face two limitations: (1) they only cover limited\\nRAG scenarios. (2) They suffer from limited task diversity due to the lack of a\\ngeneral RAG dataset. To address these limitations, we propose RAG-Instruct, a\\ngeneral method for synthesizing diverse and high-quality RAG instruction data\\nbased on any source corpus. Our approach leverages (1) five RAG paradigms,\\nwhich encompass diverse query-document relationships, and (2) instruction\\nsimulation, which enhances instruction diversity and quality by utilizing the\\nstrengths of existing instruction datasets. Using this method, we construct a\\n40K instruction dataset from Wikipedia, comprehensively covering diverse RAG\\nscenarios and tasks. Experiments demonstrate that RAG-Instruct effectively\\nenhances LLMs\\' RAG capabilities, achieving strong zero-shot performance and\\nsignificantly outperforming various RAG baselines across a diverse set of\\ntasks. RAG-Instruct is publicly available at\\nhttps://github.com/FreedomIntelligence/RAG-Instruct.\\n\\nPublished: 2025-05-19\\nTitle: Evaluating the Performance of RAG Methods for Conversational AI in the Airport Domain\\nAuthors: Yuyang Li, Philip J. M. Kerbusch, Raimon H. R. Pruim, Tobias Käfer\\nSummary: Airports from the top 20 in terms of annual passengers are highly dynamic\\nenvironments with thousands of flights daily, and they aim to increase the\\ndegree of automation. To contribute to this, we implemented a Conversational AI\\nsystem that enables staff in an airport to communicate with flight information\\nsystems. This system not only answers standard airport queries but also\\nresolves airport terminology, jargon, abbreviations, and dynamic questions\\ninvolving reasoning. In this paper, we built three different\\nRetrieval-Augmented Generation (RAG) methods, including traditional RAG, SQL\\nRAG, and Knowledge Graph-based RAG (Graph RAG). Experiments showed that\\ntraditional RAG achieved 84.84% accuracy using BM25 + GPT-4 but occasionally\\nproduced hallucinations, which'"
      ]
     },
     "execution_count": 20,
     "metadata": {},
     "output_type": "execute_result"
    }
   ],
   "source": [
    "from langchain_community.utilities import ArxivAPIWrapper\n",
    "arxiv = ArxivAPIWrapper(top_k_results=3)\n",
    "arxiv.run(\"RAG\")"
   ]
  },
  {
   "cell_type": "code",
   "execution_count": 21,
   "id": "67b523aa",
   "metadata": {},
   "outputs": [],
   "source": [
    "def research_tool(query: str) -> str:\n",
    "    \"\"\"Search for research papers related to the query.\"\"\"\n",
    "    results = arxiv.run(query)\n",
    "    return results"
   ]
  },
  {
   "cell_type": "code",
   "execution_count": 25,
   "id": "d59faeaa",
   "metadata": {},
   "outputs": [],
   "source": [
    "assistant = AssistantAgent(\n",
    "    name=\"Assistant\",\n",
    "    model_client=model_client,\n",
    "    tools=[\n",
    "        web_search_tool,\n",
    "        weather_tool,\n",
    "        research_tool,\n",
    "    ],\n",
    "    system_message=\"You are a helpful assistant that can answer questions and perform tasks using web_search_tool for web related information and use weather_tool weather information and for research paper realed use the research_tool to fetch the research papers and only provide the relevant content and make sure to use the provided tools wisely.\",\n",
    ")"
   ]
  },
  {
   "cell_type": "code",
   "execution_count": 23,
   "id": "4011759b",
   "metadata": {},
   "outputs": [
    {
     "name": "stdout",
     "output_type": "stream",
     "text": [
      "Agent Response: messages=[TextMessage(source='user', models_usage=None, metadata={}, content='What is the current weather in Paris?', type='TextMessage'), ToolCallRequestEvent(source='Assistant', models_usage=RequestUsage(prompt_tokens=125, completion_tokens=5), metadata={}, content=[FunctionCall(id='', arguments='{\"city\":\"Paris\"}', name='weather_tool')], type='ToolCallRequestEvent'), ToolCallExecutionEvent(source='Assistant', models_usage=None, metadata={}, content=[FunctionExecutionResult(content='The current temperature in Paris is 20.01°C with scattered clouds.', name='weather_tool', call_id='', is_error=False)], type='ToolCallExecutionEvent'), ToolCallSummaryMessage(source='Assistant', models_usage=None, metadata={}, content='The current temperature in Paris is 20.01°C with scattered clouds.', type='ToolCallSummaryMessage')] stop_reason=None\n"
     ]
    }
   ],
   "source": [
    "task = \"What is the current weather in Paris?\"\n",
    "async def main():\n",
    "    response = await assistant.run(task=task)\n",
    "\n",
    "    print(f\"Agent Response: {response}\")\n",
    "\n",
    "await main()"
   ]
  },
  {
   "cell_type": "code",
   "execution_count": 26,
   "id": "ab703f9a",
   "metadata": {},
   "outputs": [
    {
     "name": "stdout",
     "output_type": "stream",
     "text": [
      "Agent Response: messages=[TextMessage(source='user', models_usage=None, metadata={}, content='What is the current status of ICC Champions league?', type='TextMessage'), ToolCallRequestEvent(source='Assistant', models_usage=RequestUsage(prompt_tokens=127, completion_tokens=10), metadata={}, content=[FunctionCall(id='', arguments='{\"query\":\"ICC Champions League status\"}', name='web_search_tool')], type='ToolCallRequestEvent'), ToolCallExecutionEvent(source='Assistant', models_usage=None, metadata={}, content=[FunctionExecutionResult(content=\"{'query': 'ICC Champions League status', 'follow_up_questions': None, 'answer': None, 'images': [], 'results': [{'url': 'https://www.icc-cricket.com/tournaments/champions-trophy-2025/standings', 'title': 'Standings | ICC Champions Trophy, 2025', 'content': 'ICC STANDINGS PREDICTOR\\\\u200b\\\\u200b Click here to access the Official ICC tournament predictor. Find out what your team needs to do to make the Semi-Finals stage of the', 'score': 0.16178352, 'raw_content': None}, {'url': 'https://en.wikipedia.org/wiki/2025_ICC_Champions_Trophy', 'title': '2025 ICC Champions Trophy - Wikipedia', 'content': 'The 2025 ICC Champions Trophy was the ninth edition of the ICC Champions Trophy. It was hosted by Pakistan Cricket Board from 19 February to 9 March 2025', 'score': 0.15800568, 'raw_content': None}, {'url': 'https://www.espncricinfo.com/series/icc-champions-trophy-2024-25-1459031', 'title': 'ICC Champions Trophy 2025 | Live Score, Schedule, News', 'content': 'Check ICC Champions Trophy 2025 live score, squads, match schedules, points table, fixtures, updates, photos, and videos on ESPNcricinfo.', 'score': 0.11876296, 'raw_content': None}], 'response_time': 0.74}\", name='web_search_tool', call_id='', is_error=False)], type='ToolCallExecutionEvent'), ToolCallSummaryMessage(source='Assistant', models_usage=None, metadata={}, content=\"{'query': 'ICC Champions League status', 'follow_up_questions': None, 'answer': None, 'images': [], 'results': [{'url': 'https://www.icc-cricket.com/tournaments/champions-trophy-2025/standings', 'title': 'Standings | ICC Champions Trophy, 2025', 'content': 'ICC STANDINGS PREDICTOR\\\\u200b\\\\u200b Click here to access the Official ICC tournament predictor. Find out what your team needs to do to make the Semi-Finals stage of the', 'score': 0.16178352, 'raw_content': None}, {'url': 'https://en.wikipedia.org/wiki/2025_ICC_Champions_Trophy', 'title': '2025 ICC Champions Trophy - Wikipedia', 'content': 'The 2025 ICC Champions Trophy was the ninth edition of the ICC Champions Trophy. It was hosted by Pakistan Cricket Board from 19 February to 9 March 2025', 'score': 0.15800568, 'raw_content': None}, {'url': 'https://www.espncricinfo.com/series/icc-champions-trophy-2024-25-1459031', 'title': 'ICC Champions Trophy 2025 | Live Score, Schedule, News', 'content': 'Check ICC Champions Trophy 2025 live score, squads, match schedules, points table, fixtures, updates, photos, and videos on ESPNcricinfo.', 'score': 0.11876296, 'raw_content': None}], 'response_time': 0.74}\", type='ToolCallSummaryMessage')] stop_reason=None\n"
     ]
    }
   ],
   "source": [
    "task = \"What is the current status of ICC Champions league?\"\n",
    "async def main():\n",
    "    response = await assistant.run(task=task)\n",
    "\n",
    "    print(f\"Agent Response: {response}\")\n",
    "\n",
    "await main()"
   ]
  },
  {
   "cell_type": "code",
   "execution_count": 27,
   "id": "7ad776f3",
   "metadata": {},
   "outputs": [
    {
     "name": "stdout",
     "output_type": "stream",
     "text": [
      "Agent Response: messages=[TextMessage(source='user', models_usage=None, metadata={}, content='Tell About the recent Research on RAG?', type='TextMessage'), ToolCallRequestEvent(source='Assistant', models_usage=RequestUsage(prompt_tokens=535, completion_tokens=8), metadata={}, content=[FunctionCall(id='', arguments='{\"query\":\"Recent research on RAG\"}', name='research_tool')], type='ToolCallRequestEvent'), ToolCallExecutionEvent(source='Assistant', models_usage=None, metadata={}, content=[FunctionExecutionResult(content=\"Published: 2025-06-26\\nTitle: Response Quality Assessment for Retrieval-Augmented Generation via Conditional Conformal Factuality\\nAuthors: Naihe Feng, Yi Sui, Shiyi Hou, Jesse C. Cresswell, Ga Wu\\nSummary: Existing research on Retrieval-Augmented Generation (RAG) primarily focuses\\non improving overall question-answering accuracy, often overlooking the quality\\nof sub-claims within generated responses. Recent methods that attempt to\\nimprove RAG trustworthiness, such as through auto-evaluation metrics, lack\\nprobabilistic guarantees or require ground truth answers. To address these\\nlimitations, we propose Conformal-RAG, a novel framework inspired by recent\\napplications of conformal prediction (CP) on large language models (LLMs).\\nConformal-RAG leverages CP and internal information from the RAG mechanism to\\noffer statistical guarantees on response quality. It ensures group-conditional\\ncoverage spanning multiple sub-domains without requiring manual labelling of\\nconformal sets, making it suitable for complex RAG applications. Compared to\\nexisting RAG auto-evaluation methods, Conformal-RAG offers statistical\\nguarantees on the quality of refined sub-claims, ensuring response reliability\\nwithout the need for ground truth answers. Additionally, our experiments\\ndemonstrate that by leveraging information from the RAG system, Conformal-RAG\\nretains up to 60\\\\% more high-quality sub-claims from the response compared to\\ndirect applications of CP to LLMs, while maintaining the same reliability\\nguarantee.\\n\\nPublished: 2025-06-07\\nTitle: Dynamic and Parametric Retrieval-Augmented Generation\\nAuthors: Weihang Su, Qingyao Ai, Jingtao Zhan, Qian Dong, Yiqun Liu\\nSummary: Retrieval-Augmented Generation (RAG) has become a foundational paradigm for\\nequipping large language models (LLMs) with external knowledge, playing a\\ncritical role in information retrieval and knowledge-intensive applications.\\nHowever, conventional RAG systems typically adopt a static\\nretrieve-then-generate pipeline and rely on in-context knowledge injection,\\nwhich can be suboptimal for complex tasks that require multihop reasoning,\\nadaptive information access, and deeper integration of external knowledge.\\nMotivated by these limitations, the research community has moved beyond static\\nretrieval and in-context knowledge injection. Among the emerging directions,\\nthis tutorial delves into two rapidly growing and complementary research areas\\non RAG: Dynamic RAG and Parametric RAG. Dynamic RAG adaptively determines when\\nand what to retrieve during the LLM's generation process, enabling real-time\\nadaptation to the LLM's evolving information needs. Parametric RAG rethinks how\\nretrieved knowledge should be injected into LLMs, transitioning from\\ninput-level to parameter-level knowledge injection for enhanced efficiency and\\neffectiveness. This tutorial offers a comprehensive overview of recent advances\\nin these emerging research areas. It also shares theoretical foundations and\\npractical insights to support and inspire further research in RAG.\\n\\nPublished: 2024-10-03\\nTitle: A Comprehensive Survey of Retrieval-Augmented Generation (RAG): Evolution, Current Landscape and Future Directions\\nAuthors: Shailja Gupta, Rajesh Ranjan, Surya Narayan Singh\\nSummary: This paper presents a comprehensive study of Retrieval-Augmented Generation\\n(RAG), tracing its evolution from foundational concepts to the current state of\\nthe art. RAG combines retrieval mechanisms with generative language models to\\nenhance the accuracy of outputs, addressing key limitations of LLMs. The study\\nexplores the basic architecture of RAG, focusing on how retrieval and\\ngeneration are integrated to handle knowledge-intensive tasks. A detailed\\nreview of the significant technological advancements in RAG is provided,\\nincluding key innovations in retrieval-augmented language models and\\napplications across various domains such as question-answering, summarization,\\nand knowledge-based tasks. Recent research breakthroughs are discussed,\\nhighlighting\", name='research_tool', call_id='', is_error=False)], type='ToolCallExecutionEvent'), ToolCallSummaryMessage(source='Assistant', models_usage=None, metadata={}, content=\"Published: 2025-06-26\\nTitle: Response Quality Assessment for Retrieval-Augmented Generation via Conditional Conformal Factuality\\nAuthors: Naihe Feng, Yi Sui, Shiyi Hou, Jesse C. Cresswell, Ga Wu\\nSummary: Existing research on Retrieval-Augmented Generation (RAG) primarily focuses\\non improving overall question-answering accuracy, often overlooking the quality\\nof sub-claims within generated responses. Recent methods that attempt to\\nimprove RAG trustworthiness, such as through auto-evaluation metrics, lack\\nprobabilistic guarantees or require ground truth answers. To address these\\nlimitations, we propose Conformal-RAG, a novel framework inspired by recent\\napplications of conformal prediction (CP) on large language models (LLMs).\\nConformal-RAG leverages CP and internal information from the RAG mechanism to\\noffer statistical guarantees on response quality. It ensures group-conditional\\ncoverage spanning multiple sub-domains without requiring manual labelling of\\nconformal sets, making it suitable for complex RAG applications. Compared to\\nexisting RAG auto-evaluation methods, Conformal-RAG offers statistical\\nguarantees on the quality of refined sub-claims, ensuring response reliability\\nwithout the need for ground truth answers. Additionally, our experiments\\ndemonstrate that by leveraging information from the RAG system, Conformal-RAG\\nretains up to 60\\\\% more high-quality sub-claims from the response compared to\\ndirect applications of CP to LLMs, while maintaining the same reliability\\nguarantee.\\n\\nPublished: 2025-06-07\\nTitle: Dynamic and Parametric Retrieval-Augmented Generation\\nAuthors: Weihang Su, Qingyao Ai, Jingtao Zhan, Qian Dong, Yiqun Liu\\nSummary: Retrieval-Augmented Generation (RAG) has become a foundational paradigm for\\nequipping large language models (LLMs) with external knowledge, playing a\\ncritical role in information retrieval and knowledge-intensive applications.\\nHowever, conventional RAG systems typically adopt a static\\nretrieve-then-generate pipeline and rely on in-context knowledge injection,\\nwhich can be suboptimal for complex tasks that require multihop reasoning,\\nadaptive information access, and deeper integration of external knowledge.\\nMotivated by these limitations, the research community has moved beyond static\\nretrieval and in-context knowledge injection. Among the emerging directions,\\nthis tutorial delves into two rapidly growing and complementary research areas\\non RAG: Dynamic RAG and Parametric RAG. Dynamic RAG adaptively determines when\\nand what to retrieve during the LLM's generation process, enabling real-time\\nadaptation to the LLM's evolving information needs. Parametric RAG rethinks how\\nretrieved knowledge should be injected into LLMs, transitioning from\\ninput-level to parameter-level knowledge injection for enhanced efficiency and\\neffectiveness. This tutorial offers a comprehensive overview of recent advances\\nin these emerging research areas. It also shares theoretical foundations and\\npractical insights to support and inspire further research in RAG.\\n\\nPublished: 2024-10-03\\nTitle: A Comprehensive Survey of Retrieval-Augmented Generation (RAG): Evolution, Current Landscape and Future Directions\\nAuthors: Shailja Gupta, Rajesh Ranjan, Surya Narayan Singh\\nSummary: This paper presents a comprehensive study of Retrieval-Augmented Generation\\n(RAG), tracing its evolution from foundational concepts to the current state of\\nthe art. RAG combines retrieval mechanisms with generative language models to\\nenhance the accuracy of outputs, addressing key limitations of LLMs. The study\\nexplores the basic architecture of RAG, focusing on how retrieval and\\ngeneration are integrated to handle knowledge-intensive tasks. A detailed\\nreview of the significant technological advancements in RAG is provided,\\nincluding key innovations in retrieval-augmented language models and\\napplications across various domains such as question-answering, summarization,\\nand knowledge-based tasks. Recent research breakthroughs are discussed,\\nhighlighting\", type='ToolCallSummaryMessage')] stop_reason=None\n"
     ]
    }
   ],
   "source": [
    "task = \"Tell About the recent Research on RAG?\"\n",
    "async def main():\n",
    "    response = await assistant.run(task=task)\n",
    "\n",
    "    print(f\"Agent Response: {response}\")\n",
    "\n",
    "await main()"
   ]
  },
  {
   "cell_type": "code",
   "execution_count": null,
   "id": "de1efc72",
   "metadata": {},
   "outputs": [],
   "source": []
  }
 ],
 "metadata": {
  "kernelspec": {
   "display_name": "autogen-env",
   "language": "python",
   "name": "python3"
  },
  "language_info": {
   "codemirror_mode": {
    "name": "ipython",
    "version": 3
   },
   "file_extension": ".py",
   "mimetype": "text/x-python",
   "name": "python",
   "nbconvert_exporter": "python",
   "pygments_lexer": "ipython3",
   "version": "3.11.1"
  }
 },
 "nbformat": 4,
 "nbformat_minor": 5
}
