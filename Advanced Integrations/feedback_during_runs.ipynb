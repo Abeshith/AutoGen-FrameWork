{
 "cells": [
  {
   "cell_type": "markdown",
   "id": "c58e4539",
   "metadata": {},
   "source": [
    "### Human In the Loop"
   ]
  },
  {
   "cell_type": "code",
   "execution_count": 21,
   "id": "16e3096a",
   "metadata": {},
   "outputs": [],
   "source": [
    "from autogen_agentchat.agents import AssistantAgent\n",
    "from autogen_ext.models.openai import OpenAIChatCompletionClient\n",
    "from dotenv import load_dotenv\n",
    "import asyncio\n",
    "import os\n",
    "\n",
    "load_dotenv()\n",
    "api_key = os.getenv(\"GOOGLE_API_KEY\")"
   ]
  },
  {
   "cell_type": "code",
   "execution_count": 22,
   "id": "3ed53031",
   "metadata": {},
   "outputs": [],
   "source": [
    "model_client = OpenAIChatCompletionClient(\n",
    "    model = \"gemini-1.5-flash-8b\",\n",
    "    api_key = api_key,\n",
    ")"
   ]
  },
  {
   "cell_type": "code",
   "execution_count": 23,
   "id": "96676d24",
   "metadata": {},
   "outputs": [],
   "source": [
    "from autogen_agentchat.agents import UserProxyAgent\n",
    "assistant = AssistantAgent(\n",
    "    name = \"Assistant\",\n",
    "    model_client = model_client,\n",
    "    system_message = \"You are a helpful assistant.\",\n",
    ")\n",
    "\n",
    "user_proxy_agent = UserProxyAgent(\n",
    "    name= \"UserProxy\",\n",
    "    description=\"A proxy Agent that represents a user in the system.\",\n",
    "    input_func= input\n",
    ")   "
   ]
  },
  {
   "cell_type": "code",
   "execution_count": 24,
   "id": "20b8cf0e",
   "metadata": {},
   "outputs": [],
   "source": [
    "from autogen_agentchat.conditions import TextMentionTermination\n",
    "termination_condition = TextMentionTermination('APPROVE')"
   ]
  },
  {
   "cell_type": "code",
   "execution_count": 25,
   "id": "ba5a1202",
   "metadata": {},
   "outputs": [],
   "source": [
    "from autogen_agentchat.teams import RoundRobinGroupChat\n",
    "\n",
    "team = RoundRobinGroupChat(\n",
    "    participants= [assistant, user_proxy_agent],\n",
    "    termination_condition=termination_condition\n",
    ")"
   ]
  },
  {
   "cell_type": "code",
   "execution_count": 26,
   "id": "836d5a48",
   "metadata": {},
   "outputs": [],
   "source": [
    "from autogen_agentchat.ui import Console\n",
    "stream =  team.run_stream(task=\"Write a four lines summary about the anime 'Attack on Titan'.\")\n",
    "\n",
    "async def main():\n",
    "    await Console(stream)"
   ]
  },
  {
   "cell_type": "code",
   "execution_count": 27,
   "id": "39f18c55",
   "metadata": {},
   "outputs": [
    {
     "name": "stdout",
     "output_type": "stream",
     "text": [
      "---------- TextMessage (user) ----------\n",
      "Write a four lines summary about the anime 'Attack on Titan'.\n",
      "---------- TextMessage (Assistant) ----------\n",
      "In a world besieged by giant humanoid creatures, Eren Yeager embarks on a quest for revenge.  He joins the military, battling Titans and uncovering the secrets behind their existence.  His journey is marked by immense loss and shocking revelations about humanity's past.  Ultimately, Eren's actions have profound consequences for the world and himself.\n",
      "\n",
      "---------- TextMessage (UserProxy) ----------\n",
      "Write a four line summary about one piece anime\n",
      "---------- TextMessage (Assistant) ----------\n",
      "Luffy, a rubber-man, sets sail to become the King of the Pirates.  He gathers a diverse crew, facing perilous adventures and fierce rivals.  Their journey explores a vast world filled with hidden treasures and mythical creatures.  Luffy's unwavering determination drives him forward, despite numerous setbacks.\n",
      "\n",
      "---------- TextMessage (UserProxy) ----------\n",
      "add zoro and sanji\n",
      "---------- TextMessage (Assistant) ----------\n",
      "Luffy, a rubber-man, sets sail to become the King of the Pirates, accompanied by his loyal crew, including the sword-wielding Zoro and the culinary expert Sanji.  They face perilous adventures and fierce rivals in a vast world filled with hidden treasures and mythical creatures.  Luffy's unwavering determination drives them forward, despite numerous setbacks.\n",
      "\n",
      "---------- TextMessage (UserProxy) ----------\n",
      "add nami and ussop as well\n",
      "---------- TextMessage (Assistant) ----------\n",
      "Luffy, a rubber-man, sets sail to become the King of the Pirates, with his crew including the navigator Nami, the marksman Usopp, the sword-wielding Zoro, and the culinary expert Sanji.  Their perilous adventures explore a vast world, filled with hidden treasures and mythical creatures.  Luffy's determination drives them forward, despite numerous setbacks.\n",
      "\n",
      "---------- TextMessage (UserProxy) ----------\n",
      "add dr tony tony chopper ans nico robin\n",
      "---------- TextMessage (Assistant) ----------\n",
      "Luffy, a rubber-man, sets sail to become the King of the Pirates, accompanied by his diverse crew, including the navigator Nami, the marksman Usopp, the sword-wielding Zoro, the culinary expert Sanji, the reindeer-doctor Tony Tony Chopper, and the archaeologist Nico Robin.  Their perilous adventures explore a vast world filled with hidden treasures and mythical creatures, driven by Luffy's unwavering determination.\n",
      "\n",
      "---------- TextMessage (UserProxy) ----------\n",
      "approve\n",
      "---------- TextMessage (Assistant) ----------\n",
      "Okay.\n",
      "\n",
      "---------- TextMessage (UserProxy) ----------\n",
      "APPROVE\n"
     ]
    }
   ],
   "source": [
    "await main()"
   ]
  },
  {
   "cell_type": "code",
   "execution_count": null,
   "id": "1dec00e7",
   "metadata": {},
   "outputs": [],
   "source": []
  }
 ],
 "metadata": {
  "kernelspec": {
   "display_name": "autogen-env",
   "language": "python",
   "name": "python3"
  },
  "language_info": {
   "codemirror_mode": {
    "name": "ipython",
    "version": 3
   },
   "file_extension": ".py",
   "mimetype": "text/x-python",
   "name": "python",
   "nbconvert_exporter": "python",
   "pygments_lexer": "ipython3",
   "version": "3.11.1"
  }
 },
 "nbformat": 4,
 "nbformat_minor": 5
}
