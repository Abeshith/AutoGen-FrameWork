{
 "cells": [
  {
   "cell_type": "code",
   "execution_count": 1,
   "id": "4de6c7e7",
   "metadata": {},
   "outputs": [],
   "source": [
    "from autogen_agentchat.agents import AssistantAgent\n",
    "from autogen_ext.models.openai import OpenAIChatCompletionClient\n",
    "from dotenv import load_dotenv\n",
    "import asyncio\n",
    "import os\n",
    "\n",
    "load_dotenv()\n",
    "api_key = os.getenv(\"GOOGLE_API_KEY\")"
   ]
  },
  {
   "cell_type": "code",
   "execution_count": 2,
   "id": "b5767b96",
   "metadata": {},
   "outputs": [],
   "source": [
    "model_client = OpenAIChatCompletionClient(\n",
    "    model = \"gemini-1.5-flash-8b\",\n",
    "    api_key = api_key,\n",
    ")"
   ]
  },
  {
   "cell_type": "code",
   "execution_count": 4,
   "id": "6900c37a",
   "metadata": {},
   "outputs": [],
   "source": [
    "narrator = AssistantAgent(\n",
    "    name=\"narrator\",\n",
    "    model_client=model_client,\n",
    ")\n",
    "\n",
    "hero = AssistantAgent(\n",
    "    name=\"hero\",\n",
    "    model_client=model_client,\n",
    ")\n",
    "\n",
    "guide = AssistantAgent(\n",
    "    name=\"guide\",\n",
    "    model_client=model_client,\n",
    ")"
   ]
  },
  {
   "cell_type": "markdown",
   "id": "5af56609",
   "metadata": {},
   "source": [
    "### FeedBack in Max Turns "
   ]
  },
  {
   "cell_type": "code",
   "execution_count": 6,
   "id": "3d8dbb81",
   "metadata": {},
   "outputs": [],
   "source": [
    "from autogen_agentchat.teams import RoundRobinGroupChat\n",
    "\n",
    "team = RoundRobinGroupChat(\n",
    "    participants = [narrator, hero, guide],\n",
    "    max_turns = 1,\n",
    ")"
   ]
  },
  {
   "cell_type": "code",
   "execution_count": 13,
   "id": "1657665d",
   "metadata": {},
   "outputs": [],
   "source": [
    "from autogen_agentchat.ui import Console\n",
    "async def main():\n",
    "    task = \"Write a story about a hero and his passion less than 30 words.\"\n",
    "    \n",
    "    while True:\n",
    "        stream = team.run_stream(task=task)\n",
    "        await Console(stream)\n",
    "\n",
    "        feedback = input('Provide feedback to the hero(type \"exit\" to stop): ')\n",
    "\n",
    "        if feedback.lower().strip() == \"exit\":\n",
    "            break\n",
    "\n",
    "        task = f\"Revise the story based on the feedback: {feedback}\""
   ]
  },
  {
   "cell_type": "code",
   "execution_count": 14,
   "id": "9de94a2a",
   "metadata": {},
   "outputs": [
    {
     "name": "stdout",
     "output_type": "stream",
     "text": [
      "---------- TextMessage (user) ----------\n",
      "Write a story about a hero and his passion less than 30 words.\n",
      "---------- TextMessage (narrator) ----------\n",
      "Kael, a blacksmith, found his passion forging hope.  A fallen star's fire fueled a weapon—a world-altering choice.\n",
      "\n",
      "---------- TextMessage (user) ----------\n",
      "Revise the story based on the feedback: add to above that one day he a metroite fall from sky\n",
      "---------- TextMessage (hero) ----------\n",
      "One day, a meteor fell.  Kael, a blacksmith, found his passion forging hope from its fiery remnants—a world-altering choice.\n",
      "\n",
      "---------- TextMessage (user) ----------\n",
      "Revise the story based on the feedback: then he came it can be a ore that can used to create weapons\n",
      "---------- TextMessage (guide) ----------\n",
      "From a fallen meteor's fiery core, Kael, a blacksmith, found his passion: forging hope—a weapon of world-altering power.\n",
      "\n",
      "---------- TextMessage (user) ----------\n",
      "Revise the story based on the feedback: and he created a weapon secretly thta could destroy whole world without unknowingly\n",
      "---------- TextMessage (narrator) ----------\n",
      "From a fallen meteor's core, Kael, a blacksmith, secretly forged a weapon—a world-ending hope, unknowingly.\n",
      "\n",
      "---------- TextMessage (user) ----------\n",
      "Revise the story based on the feedback: and realte the every part and create a whole summary\n",
      "---------- TextMessage (hero) ----------\n",
      "A fallen meteor's fiery core, unearthed by blacksmith Kael, ignited his passion: forging a weapon of unimaginable power.  He worked in secret, unaware of the world-ending potential of the strange, otherworldly ore.  His hope was a city's salvation, but his creation held the capacity to obliterate everything.\n",
      "\n"
     ]
    }
   ],
   "source": [
    "await main()"
   ]
  },
  {
   "cell_type": "markdown",
   "id": "63346779",
   "metadata": {},
   "source": [
    "### FeedBack in Termination Conditions"
   ]
  },
  {
   "cell_type": "code",
   "execution_count": 26,
   "id": "24a6cc50",
   "metadata": {},
   "outputs": [],
   "source": [
    "lazy_agent = AssistantAgent(\n",
    "    name=\"lazy_agent\",\n",
    "    model_client=model_client,\n",
    "    system_message='Give the answer of question asked. If you cannot complete the task, or not have any information then just say \"TERMINATE\" not any more than that.',\n",
    ")"
   ]
  },
  {
   "cell_type": "code",
   "execution_count": 27,
   "id": "0d945496",
   "metadata": {},
   "outputs": [],
   "source": [
    "from autogen_agentchat.conditions import TextMentionTermination\n",
    "\n",
    "text_termination = TextMentionTermination('TERMINATE')"
   ]
  },
  {
   "cell_type": "code",
   "execution_count": 28,
   "id": "8dbe01a7",
   "metadata": {},
   "outputs": [],
   "source": [
    "lazy_team = RoundRobinGroupChat(\n",
    "    participants = [lazy_agent],\n",
    "    termination_condition = text_termination,\n",
    "    max_turns = 2,\n",
    ")"
   ]
  },
  {
   "cell_type": "code",
   "execution_count": 29,
   "id": "1ebb364b",
   "metadata": {},
   "outputs": [],
   "source": [
    "async def main():\n",
    "    task = \"Give me the Current Weather in San Francisco\"\n",
    "\n",
    "    while True:\n",
    "        stream = lazy_team.run_stream(task=task)\n",
    "        await Console(stream)\n",
    "\n",
    "        feedback = input('Provide your FeedBack(type \"exit\" to stop): ')\n",
    "\n",
    "        if feedback.lower().strip() == \"exit\":\n",
    "            break\n",
    "\n",
    "        task = feedback"
   ]
  },
  {
   "cell_type": "code",
   "execution_count": 31,
   "id": "4d1866b5",
   "metadata": {},
   "outputs": [
    {
     "name": "stdout",
     "output_type": "stream",
     "text": [
      "---------- TextMessage (user) ----------\n",
      "Give me the Current Weather in San Francisco\n",
      "---------- TextMessage (lazy_agent) ----------\n",
      "I do not have real-time access to weather information.  TERMINATE\n",
      "\n",
      "---------- TextMessage (user) ----------\n",
      "its sunny man\n",
      "---------- TextMessage (lazy_agent) ----------\n",
      "Okay.\n",
      "\n",
      "---------- TextMessage (lazy_agent) ----------\n",
      "\n",
      "---------- TextMessage (user) ----------\n",
      "then what is the current weather in india\n",
      "---------- TextMessage (lazy_agent) ----------\n",
      "I do not have real-time access to weather information.  TERMINATE\n",
      "\n",
      "---------- TextMessage (user) ----------\n",
      "its also sunny man\n",
      "---------- TextMessage (lazy_agent) ----------\n",
      "Okay.\n",
      "\n",
      "---------- TextMessage (lazy_agent) ----------\n",
      "\n",
      "---------- TextMessage (user) ----------\n",
      "the what is an Ai? provide answer and say exit\n",
      "---------- TextMessage (lazy_agent) ----------\n",
      "AI, or Artificial Intelligence, is a broad field encompassing computer systems designed to perform tasks that typically require human intelligence.  This includes learning, problem-solving, decision-making, and understanding language.  There are various types of AI, ranging from narrow AI (designed for specific tasks like playing chess) to more general AI (hypothetical systems with broader capabilities).\n",
      "\n",
      "EXIT\n",
      "\n",
      "---------- TextMessage (lazy_agent) ----------\n",
      "\n"
     ]
    }
   ],
   "source": [
    "await main()"
   ]
  },
  {
   "cell_type": "markdown",
   "id": "de45e580",
   "metadata": {},
   "source": [
    "### HandOff Termination"
   ]
  },
  {
   "cell_type": "code",
   "execution_count": 47,
   "id": "2bc195e5",
   "metadata": {},
   "outputs": [],
   "source": [
    "from autogen_agentchat.base import Handoff\n",
    "agent = AssistantAgent(\n",
    "    name=\"agent\",\n",
    "    model_client=model_client,\n",
    "    handoffs=[Handoff(target=\"user\", message='Transfering to user')],\n",
    "    system_message='You are an agent that can answer questions. If you cannot answer the question or doesn.t have any information abot that, transfer it to user. When done, say \"TERMINATE\".',\n",
    ")"
   ]
  },
  {
   "cell_type": "code",
   "execution_count": 48,
   "id": "3276f910",
   "metadata": {},
   "outputs": [],
   "source": [
    "from autogen_agentchat.conditions import HandoffTermination \n",
    "\n",
    "handoff_termination = HandoffTermination('user')\n",
    "text_termination = TextMentionTermination('TERMINATE')\n",
    "\n",
    "termination_condition = handoff_termination | text_termination"
   ]
  },
  {
   "cell_type": "code",
   "execution_count": 49,
   "id": "a5c133a3",
   "metadata": {},
   "outputs": [],
   "source": [
    "team = RoundRobinGroupChat(\n",
    "    participants = [agent],\n",
    "    termination_condition=termination_condition,\n",
    ")"
   ]
  },
  {
   "cell_type": "code",
   "execution_count": 50,
   "id": "424e8570",
   "metadata": {},
   "outputs": [],
   "source": [
    "async def main():\n",
    "    task = \"Give me the current weather of New York.\"\n",
    "\n",
    "    await Console(team.run_stream(task=task), output_stats=True)"
   ]
  },
  {
   "cell_type": "code",
   "execution_count": 51,
   "id": "0136604c",
   "metadata": {},
   "outputs": [
    {
     "name": "stdout",
     "output_type": "stream",
     "text": [
      "---------- TextMessage (user) ----------\n",
      "Give me the current weather of New York.\n",
      "---------- ToolCallRequestEvent (agent) ----------\n",
      "[FunctionCall(id='', arguments='{}', name='transfer_to_user')]\n",
      "[Prompt tokens: 58, Completion tokens: 5]\n",
      "---------- ToolCallExecutionEvent (agent) ----------\n",
      "[FunctionExecutionResult(content='Transfering to user', name='transfer_to_user', call_id='', is_error=False)]\n",
      "---------- HandoffMessage (agent) ----------\n",
      "Transfering to user\n",
      "---------- Summary ----------\n",
      "Number of messages: 4\n",
      "Finish reason: Handoff to user from agent detected.\n",
      "Total prompt tokens: 58\n",
      "Total completion tokens: 5\n",
      "Duration: 0.94 seconds\n"
     ]
    }
   ],
   "source": [
    "await main()"
   ]
  },
  {
   "cell_type": "code",
   "execution_count": 52,
   "id": "1a2e4219",
   "metadata": {},
   "outputs": [],
   "source": [
    "async def main():\n",
    "    task = \"Give me the current weather of New York.\"\n",
    "\n",
    "    await Console(team.run_stream(task=task), output_stats=True)\n",
    "\n",
    "    feedback = \"The weather is Sunny ☀️\"\n",
    "\n",
    "    await Console(team.run_stream(task=feedback))"
   ]
  },
  {
   "cell_type": "code",
   "execution_count": 53,
   "id": "4cad742b",
   "metadata": {},
   "outputs": [
    {
     "name": "stdout",
     "output_type": "stream",
     "text": [
      "---------- TextMessage (user) ----------\n",
      "Give me the current weather of New York.\n",
      "---------- TextMessage (agent) ----------\n",
      "I do not have access to real-time weather data.  To get the current weather in New York, please use a weather website or app.\n",
      "TERMINATE\n",
      "\n",
      "[Prompt tokens: 82, Completion tokens: 34]\n",
      "---------- Summary ----------\n",
      "Number of messages: 2\n",
      "Finish reason: Text 'TERMINATE' mentioned\n",
      "Total prompt tokens: 82\n",
      "Total completion tokens: 34\n",
      "Duration: 0.76 seconds\n",
      "---------- TextMessage (user) ----------\n",
      "The weather is Sunny ☀️\n",
      "---------- TextMessage (agent) ----------\n",
      "Okay.  Is there anything else I can help you with?\n",
      "\n",
      "---------- TextMessage (agent) ----------\n",
      "\n",
      "---------- TextMessage (agent) ----------\n",
      "No, thank you.\n",
      "\n",
      "---------- TextMessage (agent) ----------\n",
      "\n",
      "---------- TextMessage (agent) ----------\n",
      "TERMINATE\n",
      "\n"
     ]
    }
   ],
   "source": [
    "await main()"
   ]
  },
  {
   "cell_type": "code",
   "execution_count": null,
   "id": "ff58a33d",
   "metadata": {},
   "outputs": [],
   "source": []
  }
 ],
 "metadata": {
  "kernelspec": {
   "display_name": "autogen-env",
   "language": "python",
   "name": "python3"
  },
  "language_info": {
   "codemirror_mode": {
    "name": "ipython",
    "version": 3
   },
   "file_extension": ".py",
   "mimetype": "text/x-python",
   "name": "python",
   "nbconvert_exporter": "python",
   "pygments_lexer": "ipython3",
   "version": "3.11.1"
  }
 },
 "nbformat": 4,
 "nbformat_minor": 5
}
