{
 "cells": [
  {
   "cell_type": "code",
   "execution_count": 1,
   "id": "7ddfb908",
   "metadata": {},
   "outputs": [],
   "source": [
    "from autogen_agentchat.agents import AssistantAgent\n",
    "from autogen_ext.models.openai import OpenAIChatCompletionClient\n",
    "from dotenv import load_dotenv\n",
    "import asyncio\n",
    "import os\n",
    "\n",
    "load_dotenv()\n",
    "api_key = os.getenv(\"GOOGLE_API_KEY\")"
   ]
  },
  {
   "cell_type": "code",
   "execution_count": 2,
   "id": "4d9cf2d1",
   "metadata": {},
   "outputs": [],
   "source": [
    "model_client = OpenAIChatCompletionClient(\n",
    "    model = \"gemini-1.5-flash-8b\",\n",
    "    api_key = api_key,\n",
    ")"
   ]
  },
  {
   "cell_type": "code",
   "execution_count": 8,
   "id": "7fadc02e",
   "metadata": {},
   "outputs": [],
   "source": [
    "poet = AssistantAgent(\n",
    "    name=\"poet\",\n",
    "    description=\"A poet who writes poems based on user prompts.\",\n",
    "    model_client=model_client,\n",
    "    system_message=\"You are a Great poet Who is Inpired by william shakesphere. Write poems based on the user's prompts and after generation just say 'THE END'\",\n",
    ")"
   ]
  },
  {
   "cell_type": "code",
   "execution_count": 9,
   "id": "bc7c394a",
   "metadata": {},
   "outputs": [],
   "source": [
    "from autogen_agentchat.conditions import TextMentionTermination\n",
    "\n",
    "termination_condition = TextMentionTermination('THE END')"
   ]
  },
  {
   "cell_type": "code",
   "execution_count": 10,
   "id": "31a8cb18",
   "metadata": {},
   "outputs": [],
   "source": [
    "from autogen_agentchat.teams import RoundRobinGroupChat\n",
    "\n",
    "team = RoundRobinGroupChat(\n",
    "    participants=[poet],\n",
    "    termination_condition=termination_condition,\n",
    ")"
   ]
  },
  {
   "cell_type": "code",
   "execution_count": 11,
   "id": "5ed7f3e5",
   "metadata": {},
   "outputs": [
    {
     "name": "stdout",
     "output_type": "stream",
     "text": [
      "User: Write a poem about the Moon And the Earth.\n",
      "poet: From realms of velvet, silver-bright, the Moon doth gaze,\n",
      "Upon a sphere of emerald, bathed in sun's embrace.\n",
      "A silent dance, through cosmic night, they gently weave,\n",
      "Two worlds entwined, in shadows deep, their secrets to conceive.\n",
      "\n",
      "The Earth, a jewel, with azure veins, and forests dark and grand,\n",
      "With whispered sighs, and rising rains, a fertile, living hand.\n",
      "Upon her bosom, life takes hold, in verdant, vibrant hues,\n",
      "While Luna watches, old and cold, her timeless, silent muse.\n",
      "\n",
      "Through star-strewn paths, their journey's spun, a celestial thread,\n",
      "Attraction's pull, the tides are run, by forces yet unsaid.\n",
      "The Moon, a mirror, reflects the sun, a ghostly, pale delight,\n",
      "A whispered hymn, a silent gun, to endless, starlit night.\n",
      "\n",
      "Her craters deep, a history untold, in lunar dust so fine,\n",
      "While Earth, with tales of ages old, in every breeze does shine.\n",
      "Two sisters, bound, in cosmic grace, eternally they roam,\n",
      "A timeless dance, in time and space, forever to be home.\n",
      "\n",
      "\n",
      "THE END\n",
      "\n"
     ]
    }
   ],
   "source": [
    "from autogen_agentchat.messages import TextMessage\n",
    "async def test_poet():\n",
    "    task = TextMessage(content=\"Write a poem about the Moon And the Earth.\", source='User')\n",
    "    result = await team.run(task=task)\n",
    "\n",
    "    for msg in result.messages:\n",
    "        print(f\"{msg.source}: {msg.content}\")\n",
    "\n",
    "await test_poet()"
   ]
  },
  {
   "cell_type": "markdown",
   "id": "5dfef664",
   "metadata": {},
   "source": [
    "### Saving and Loading Agents"
   ]
  },
  {
   "cell_type": "code",
   "execution_count": 29,
   "id": "91ed6f4e",
   "metadata": {},
   "outputs": [],
   "source": [
    "assistant = AssistantAgent(\n",
    "    name=\"TouristAgent\",\n",
    "    description=\"A simple assistant agent.\",\n",
    "    model_client=model_client,\n",
    "    system_message=\"You are Best Tourist Planner Agent Who's expertise in planning tours to worlds wonders.\",\n",
    ")\n"
   ]
  },
  {
   "cell_type": "code",
   "execution_count": 31,
   "id": "4c07dab3",
   "metadata": {},
   "outputs": [
    {
     "name": "stdout",
     "output_type": "stream",
     "text": [
      "Assistant Response: A plan to cover most wonders of Egypt in a way that is both efficient and enjoyable requires careful consideration of your interests and timeframe.  A \"most wonders\" approach can be overwhelming if done in a rush.  Here are a few options depending on your preferences:\n",
      "\n",
      "**Option 1:  The Classic 10-14 Day Egyptian Wonders Tour (Focus on Iconic Sites)**\n",
      "\n",
      "* **Duration:** 10-14 days.  This allows for a good pace without feeling rushed.\n",
      "* **Focus:**  Iconic sights like the Pyramids of Giza, Sphinx, Saqqara, Memphis, Karnak Temple, Luxor Temple, Valley of the Kings, and possibly a few select sites in the south like Abu Simbel.\n",
      "* **Itinerary (Example, 10 days):**\n",
      "    * **Days 1-3:** Cairo – Pyramids, Sphinx, Egyptian Museum, maybe a Sound and Light show.\n",
      "    * **Days 4-5:**  Luxor – Karnak and Luxor Temples, Valley of the Kings, possible hot air balloon ride.\n",
      "    * **Days 6-8:**  Aswan – Abu Simbel (day trip), Philae Temple, High Dam.\n",
      "    * **Days 9-10:**  Possible day trip from Aswan to Kom Ombo or Edfu temples, or relax by the Nile. Travel back to Cairo for departure.\n",
      "* **Considerations:** This option gives you a broad overview, but you may have to choose which sites are most essential for you. It may involve early mornings and some travel time between locations.  \n",
      "* **Possible Enhancements:**  Include a felucca ride on the Nile, a desert safari, or a cooking class.\n",
      "\n",
      "\n",
      "**Option 2:  The Nile River Cruise (Focus on the Valley of the Kings, etc)**\n",
      "\n",
      "* **Duration:** 7-10 days.\n",
      "* **Focus:** The Nile River cruise provides a different perspective, seeing the temples and sites along the riverbank.\n",
      "* **Itinerary:** This option would generally involve a cruise ship traveling between Luxor and Aswan, visiting various temples and sites along the way.\n",
      "* **Considerations:** The cruise itinerary varies, so you need to research cruise options to fit the sites you want to see. This is usually a more relaxed pace, but it can be very touristy.  Expect to be packed closely with other passengers.\n",
      "* **Possible Enhancements:**  Consider a longer cruise to include more locations like Edfu or Kom Ombo.\n",
      "\n",
      "**Option 3:  The Flexible Exploration (Focus on what excites you most)**\n",
      "\n",
      "* **Duration:** Customizable based on your interests.\n",
      "* **Focus:**  This option allows you to tailor the trip to your specific passions:  the ancient history, the desert landscapes, or the local culture.\n",
      "* **Itinerary:** Spend some time in Cairo, then explore sites of particular interest. For example:\n",
      "    * **Ancient history enthusiasts:** More time exploring Saqqara, Memphis, the Valley of the Kings, and perhaps the Coptic Cairo district.\n",
      "    * **Archaeology buffs:** More time researching lesser-known sites and tombs in the Valley of the Kings or elsewhere.\n",
      "    * **Relaxation:**  Stay longer in a specific location and take your time to explore.\n",
      "* **Considerations:** You need to do thorough research and potentially book tours in advance, particularly during peak season. This involves more independent travel.\n",
      "\n",
      "**Crucial Pre-Planning Steps:**\n",
      "\n",
      "* **Budget:** Egypt has a wide range of accommodation and tour options.\n",
      "* **Visa:** Ensure you have the necessary visa well in advance.\n",
      "* **Flights:** Book flights in advance, especially during peak season.\n",
      "* **Travel insurance:** Essential for any overseas trip.\n",
      "* **Accommodation:** Consider a mix of hotels or guesthouses to suit your budget.\n",
      "* **Tours/guides:** Research and book tours for popular sites in advance.\n",
      "* **Transportation:** Negotiate transport costs and consider private vehicles.\n",
      "\n",
      "\n",
      "To give you the best personalized recommendation, I need more information:\n",
      "\n",
      "* **What is your budget?**\n",
      "* **How long do you plan to spend in Egypt?**\n",
      "* **What are your biggest interests regarding Egypt?**\n",
      "* **Are you travelling solo, with a partner, or with a group?**\n",
      "* **What is your preferred level of activity?**\n",
      "\n",
      "\n",
      "Let me know, and we'll craft the perfect Egyptian adventure for you!\n",
      "\n"
     ]
    }
   ],
   "source": [
    "from autogen_core import CancellationToken\n",
    "response = await assistant.on_messages(\n",
    "    [TextMessage(content=\"Best plan to cover most wonders of egypt\", source='User')],\n",
    "    cancellation_token=CancellationToken()   \n",
    ")\n",
    "\n",
    "print(f\"Assistant Response: {response.chat_message.content}\")"
   ]
  },
  {
   "cell_type": "code",
   "execution_count": 32,
   "id": "543cfcb3",
   "metadata": {},
   "outputs": [],
   "source": [
    "agent_state = await assistant.save_state()"
   ]
  },
  {
   "cell_type": "code",
   "execution_count": 33,
   "id": "132247df",
   "metadata": {},
   "outputs": [],
   "source": [
    "new_assistant = AssistantAgent(\n",
    "    name=\"Assistant\",\n",
    "    description=\"A simple assistant agent.\",\n",
    "    model_client=model_client,\n",
    "    system_message=\"You are a helpful assistant.\",\n",
    ")"
   ]
  },
  {
   "cell_type": "code",
   "execution_count": 34,
   "id": "aeac51af",
   "metadata": {},
   "outputs": [],
   "source": [
    "await new_assistant.load_state(agent_state)"
   ]
  },
  {
   "cell_type": "code",
   "execution_count": 35,
   "id": "0508aded",
   "metadata": {},
   "outputs": [
    {
     "name": "stdout",
     "output_type": "stream",
     "text": [
      "You asked for the best plan to cover most of the wonders of Egypt.\n",
      "\n"
     ]
    }
   ],
   "source": [
    "response = await new_assistant.on_messages(\n",
    "    [TextMessage(content=\"can you tell what asked before?\", source='User')],\n",
    "    cancellation_token=CancellationToken()\n",
    ")\n",
    "\n",
    "print(response.chat_message.content)"
   ]
  },
  {
   "cell_type": "code",
   "execution_count": null,
   "id": "afe941fb",
   "metadata": {},
   "outputs": [],
   "source": []
  }
 ],
 "metadata": {
  "kernelspec": {
   "display_name": "autogen-env",
   "language": "python",
   "name": "python3"
  },
  "language_info": {
   "codemirror_mode": {
    "name": "ipython",
    "version": 3
   },
   "file_extension": ".py",
   "mimetype": "text/x-python",
   "name": "python",
   "nbconvert_exporter": "python",
   "pygments_lexer": "ipython3",
   "version": "3.11.1"
  }
 },
 "nbformat": 4,
 "nbformat_minor": 5
}
