{
 "cells": [
  {
   "cell_type": "code",
   "execution_count": 20,
   "id": "728738b2",
   "metadata": {},
   "outputs": [],
   "source": [
    "from autogen_agentchat.agents import AssistantAgent\n",
    "from autogen_ext.models.openai import OpenAIChatCompletionClient\n",
    "from dotenv import load_dotenv\n",
    "import asyncio\n",
    "import os\n",
    "\n",
    "load_dotenv()\n",
    "api_key = os.getenv(\"GOOGLE_API_KEY\")"
   ]
  },
  {
   "cell_type": "code",
   "execution_count": 21,
   "id": "9adc0e56",
   "metadata": {},
   "outputs": [],
   "source": [
    "model_client = OpenAIChatCompletionClient(\n",
    "    model = \"gemini-1.5-flash-8b\",\n",
    "    api_key = api_key,\n",
    ")"
   ]
  },
  {
   "cell_type": "code",
   "execution_count": 22,
   "id": "58d93eec",
   "metadata": {},
   "outputs": [
    {
     "data": {
      "text/plain": [
       "{'type': 'TeamState',\n",
       " 'version': '1.0.0',\n",
       " 'agent_states': {'WriterAgent': {'type': 'ChatAgentContainerState',\n",
       "   'version': '1.0.0',\n",
       "   'agent_state': {'type': 'AssistantAgentState',\n",
       "    'version': '1.0.0',\n",
       "    'llm_context': {'messages': [{'content': \"Write a crime novel on the topic of 'The Great Heist' and then make a movie script on it.\",\n",
       "       'source': 'user',\n",
       "       'type': 'UserMessage'},\n",
       "      {'content': \"**Novel:**\\n\\nThe vault's empty.  Not a trace.  But whispers trail,  a network of deceit.  Only one could pull it off:  the phantom thief, the Maestro.\\n\\n**Movie Script:**\\n\\n**(Opening scene):**  Empty vault.  Security footage flickers.  A single, masked figure vanishes.  **(Voiceover):**  The Great Heist.  Years later, a detective unearths clues.  **(Cut to interrogation):**  Suspect denies all.  **(Cut to flashback):**  Maestro's past, a web of connections.  **(Final scene):**  A face emerges from the shadows.  The Maestro.\\n\\n\\n\",\n",
       "       'thought': None,\n",
       "       'source': 'WriterAgent',\n",
       "       'type': 'AssistantMessage'}]}},\n",
       "   'message_buffer': []},\n",
       "  'DirectorAgent': {'type': 'ChatAgentContainerState',\n",
       "   'version': '1.0.0',\n",
       "   'agent_state': {'type': 'AssistantAgentState',\n",
       "    'version': '1.0.0',\n",
       "    'llm_context': {'messages': []}},\n",
       "   'message_buffer': [{'id': 'e8b27c4a-ad9a-4bc3-bb6a-91c8c46c7569',\n",
       "     'source': 'user',\n",
       "     'models_usage': None,\n",
       "     'metadata': {},\n",
       "     'created_at': '2025-07-13T01:02:59.558799+00:00',\n",
       "     'content': \"Write a crime novel on the topic of 'The Great Heist' and then make a movie script on it.\",\n",
       "     'type': 'TextMessage'},\n",
       "    {'id': 'a585876d-4e63-4ace-92bc-177b56b8c4cb',\n",
       "     'source': 'WriterAgent',\n",
       "     'models_usage': {'prompt_tokens': 54, 'completion_tokens': 143},\n",
       "     'metadata': {},\n",
       "     'created_at': '2025-07-13T01:03:02.706985+00:00',\n",
       "     'content': \"**Novel:**\\n\\nThe vault's empty.  Not a trace.  But whispers trail,  a network of deceit.  Only one could pull it off:  the phantom thief, the Maestro.\\n\\n**Movie Script:**\\n\\n**(Opening scene):**  Empty vault.  Security footage flickers.  A single, masked figure vanishes.  **(Voiceover):**  The Great Heist.  Years later, a detective unearths clues.  **(Cut to interrogation):**  Suspect denies all.  **(Cut to flashback):**  Maestro's past, a web of connections.  **(Final scene):**  A face emerges from the shadows.  The Maestro.\\n\\n\\n\",\n",
       "     'type': 'TextMessage'}]},\n",
       "  'RoundRobinGroupChatManager': {'type': 'RoundRobinManagerState',\n",
       "   'version': '1.0.0',\n",
       "   'message_thread': [{'id': 'e8b27c4a-ad9a-4bc3-bb6a-91c8c46c7569',\n",
       "     'source': 'user',\n",
       "     'models_usage': None,\n",
       "     'metadata': {},\n",
       "     'created_at': '2025-07-13T01:02:59.558799+00:00',\n",
       "     'content': \"Write a crime novel on the topic of 'The Great Heist' and then make a movie script on it.\",\n",
       "     'type': 'TextMessage'},\n",
       "    {'id': 'a585876d-4e63-4ace-92bc-177b56b8c4cb',\n",
       "     'source': 'WriterAgent',\n",
       "     'models_usage': {'prompt_tokens': 54, 'completion_tokens': 143},\n",
       "     'metadata': {},\n",
       "     'created_at': '2025-07-13T01:03:02.706985+00:00',\n",
       "     'content': \"**Novel:**\\n\\nThe vault's empty.  Not a trace.  But whispers trail,  a network of deceit.  Only one could pull it off:  the phantom thief, the Maestro.\\n\\n**Movie Script:**\\n\\n**(Opening scene):**  Empty vault.  Security footage flickers.  A single, masked figure vanishes.  **(Voiceover):**  The Great Heist.  Years later, a detective unearths clues.  **(Cut to interrogation):**  Suspect denies all.  **(Cut to flashback):**  Maestro's past, a web of connections.  **(Final scene):**  A face emerges from the shadows.  The Maestro.\\n\\n\\n\",\n",
       "     'type': 'TextMessage'}],\n",
       "   'current_turn': 0,\n",
       "   'next_speaker_index': 1}}}"
      ]
     },
     "execution_count": 22,
     "metadata": {},
     "output_type": "execute_result"
    }
   ],
   "source": [
    "import json\n",
    "with open(\"team_state.json\", \"r\") as f:\n",
    "    team_state = json.load(f)\n",
    "\n",
    "team_state"
   ]
  },
  {
   "cell_type": "code",
   "execution_count": 23,
   "id": "559027e5",
   "metadata": {},
   "outputs": [],
   "source": [
    "writer = AssistantAgent(\n",
    "    name=\"WriterAgent\",\n",
    "    description=\"A simple assistant agent.\",\n",
    "    model_client=model_client,\n",
    "    system_message=\"You are best contempoary writer who specialises in writhing articles and crime novels. generate articles and novels only in 20-30 words maximum.\",\n",
    ")\n",
    "\n",
    "director = AssistantAgent(\n",
    "    name=\"DirectorAgent\",\n",
    "    description=\"A simple assistant agent.\",\n",
    "    model_client=model_client,\n",
    "    system_message=\"You are a Directer agent who is expertise in making movies and documentaries based on crime novels. generate movie scripts and documentaries only in 20-20 words maximum.\",\n",
    ")\n",
    "\n",
    "from autogen_agentchat.teams import RoundRobinGroupChat\n",
    "from autogen_agentchat.conditions import MaxMessageTermination\n",
    "\n",
    "termination = MaxMessageTermination(max_messages=2)\n",
    "\n",
    "new_team = RoundRobinGroupChat(\n",
    "    participants=[writer, director],\n",
    "    termination_condition= termination,\n",
    ")    "
   ]
  },
  {
   "cell_type": "code",
   "execution_count": 24,
   "id": "c6eaa1c8",
   "metadata": {},
   "outputs": [],
   "source": [
    "await new_team.load_state(team_state)"
   ]
  },
  {
   "cell_type": "code",
   "execution_count": 25,
   "id": "4a1df621",
   "metadata": {},
   "outputs": [
    {
     "name": "stdout",
     "output_type": "stream",
     "text": [
      "---------- TextMessage (user) ----------\n",
      "What was the last task you worked on?\n",
      "---------- TextMessage (DirectorAgent) ----------\n",
      "I was working on generating a movie script and novel outline, focusing on a crime novel and movie script about \"The Great Heist.\"\n",
      "\n"
     ]
    },
    {
     "data": {
      "text/plain": [
       "TaskResult(messages=[TextMessage(id='3a036c52-883c-4bdc-88bc-32712c7fc203', source='user', models_usage=None, metadata={}, created_at=datetime.datetime(2025, 7, 13, 1, 29, 53, 211310, tzinfo=datetime.timezone.utc), content='What was the last task you worked on?', type='TextMessage'), TextMessage(id='f239c951-083b-4981-bece-3a371af2b11c', source='DirectorAgent', models_usage=RequestUsage(prompt_tokens=209, completion_tokens=27), metadata={}, created_at=datetime.datetime(2025, 7, 13, 1, 29, 55, 17025, tzinfo=datetime.timezone.utc), content='I was working on generating a movie script and novel outline, focusing on a crime novel and movie script about \"The Great Heist.\"\\n', type='TextMessage')], stop_reason='Maximum number of messages 2 reached, current message count: 2')"
      ]
     },
     "execution_count": 25,
     "metadata": {},
     "output_type": "execute_result"
    }
   ],
   "source": [
    "from autogen_agentchat.ui import Console\n",
    "stream = new_team.run_stream(task=\"What was the last task you worked on?\")\n",
    "await Console(stream)"
   ]
  },
  {
   "cell_type": "code",
   "execution_count": null,
   "id": "9f214ed1",
   "metadata": {},
   "outputs": [],
   "source": []
  }
 ],
 "metadata": {
  "kernelspec": {
   "display_name": "autogen-env",
   "language": "python",
   "name": "python3"
  },
  "language_info": {
   "codemirror_mode": {
    "name": "ipython",
    "version": 3
   },
   "file_extension": ".py",
   "mimetype": "text/x-python",
   "name": "python",
   "nbconvert_exporter": "python",
   "pygments_lexer": "ipython3",
   "version": "3.11.1"
  }
 },
 "nbformat": 4,
 "nbformat_minor": 5
}
