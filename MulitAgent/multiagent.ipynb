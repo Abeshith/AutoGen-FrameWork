{
 "cells": [
  {
   "cell_type": "code",
   "execution_count": 1,
   "id": "4cefa746",
   "metadata": {},
   "outputs": [],
   "source": [
    "from autogen_agentchat.agents import AssistantAgent\n",
    "from autogen_ext.models.openai import OpenAIChatCompletionClient\n",
    "from dotenv import load_dotenv\n",
    "import asyncio\n",
    "import os\n",
    "\n",
    "load_dotenv()\n",
    "api_key = os.getenv(\"GOOGLE_API_KEY\")"
   ]
  },
  {
   "cell_type": "code",
   "execution_count": 2,
   "id": "64eda7a1",
   "metadata": {},
   "outputs": [],
   "source": [
    "model_client = OpenAIChatCompletionClient(\n",
    "    model = \"gemini-1.5-flash-8b\",\n",
    "    api_key = api_key,\n",
    ")"
   ]
  },
  {
   "cell_type": "markdown",
   "id": "59212735",
   "metadata": {},
   "source": [
    "### Single Agent Approach"
   ]
  },
  {
   "cell_type": "code",
   "execution_count": 6,
   "id": "108761b5",
   "metadata": {},
   "outputs": [],
   "source": [
    "story_agent = AssistantAgent(\n",
    "    name=\"StoryAgent\",\n",
    "    description=\"An agent that generates a story based on user input.\",\n",
    "    model_client=model_client,\n",
    "    system_message=\"You are a creative story writer. Generate engaging and imaginative stories based on the user's input and The story must always be like from anime stores like Solo Leveling.\",\n",
    ")"
   ]
  },
  {
   "cell_type": "code",
   "execution_count": 7,
   "id": "c512ed68",
   "metadata": {},
   "outputs": [
    {
     "name": "stdout",
     "output_type": "stream",
     "text": [
      "Elara, a seemingly ordinary bookstore clerk in the bustling city of Veridia, possessed a secret.  She wasn't just stocking shelves and recommending novels; she was honing a dormant power, a latent skill that manifested in the form of a unique, personal \"Skill Tree.\"  This wasn't some mystical ability; it was a meticulously documented, intensely personal system of skill acquisition, meticulously recorded on the digital tablet she kept hidden beneath a stack of fantasy novels.\n",
      "\n",
      "Elara’s skill tree began, ironically, with “Literature Mastery.”  A simple click unlocked the ability to comprehend any written text, regardless of language or complexity.  The process felt more like a mental download than reading; sentences and paragraphs, worlds and stories, instantly became a part of her understanding.  This, she realised, wasn't just about comprehension; it was about absorbing the very essence of the craft.\n",
      "\n",
      "Her next level came through a particularly frustrating encounter with a customer arguing about a rare edition of \"The Chronicle of the Fallen.\"  Drawing on her new skill, she swiftly deciphered arcane symbols hidden within the book's marginalia.  It wasn't just an old language; it was a hidden quest, a code for uncovering a forgotten talent.  Leveling up to “Arcane Interpretation,” she could now decipher complex alchemical and magical notations.\n",
      "\n",
      "The bookstore, once a mundane backdrop, now felt like a training ground.  She learned to use the shop's unique arrangement of shelves to her advantage, creating tactical blockades and strategic barriers in the rare moments of customer absence.  Every interaction, every transaction, became a lesson, a puzzle, an opportunity to level up.  She memorized the rhythm of the city, the flow of energy around her, and subtly adjusted her personal aura to maximize her own power's effectiveness.\n",
      "\n",
      "One day, a mysterious, leather-bound book arrived, delivered by a delivery drone marked with an unfamiliar sigil.  The book, \"The Codex of Ascendance,\" exuded an aura of ancient power.  Elara knew, instinctively, this was the key.  Using her \"Literature Mastery\" to unravel complex ciphered text, she discovered a series of escalating challenges, trials designed to push her beyond her current limits.\n",
      "\n",
      "The first trial was a simple quest.  A rare collection of ancient maps was stolen.  Armed with her burgeoning skills, she meticulously tracked the thieves’ movements using the city's security cameras and her new understanding of the thief's patterns, ultimately leading to their apprehension.  Her mastery of spatial analysis and deduction had increased considerably.\n",
      "\n",
      "The second challenge required her to use her \"Arcane Interpretation\" to decipher a forgotten formula, unlocking a hidden chamber within the bookstore itself.  Inside, she found a powerful talisman pulsating with light.   It was more than just an object; it was a conduit, a pathway to a new level of skill acquisition.  With a triumphant surge of power, Elara levelled up to “Spatial Manipulation,\" the ability to subtly reshape the surrounding space for her tactical advantage and combat readiness.\n",
      "\n",
      "The city, now viewed through the eyes of a strategist, held a new beauty.  Elara wasn't just a bookstore clerk; she was a guardian, a protector, a silent warrior, honing her abilities within the seemingly innocuous walls of Veridia.  Her journey was far from over; the Codex of Ascendance held untold levels, and the city held countless challenges.  Elara was ready to rise, to level up, to unlock the full extent of her potential.\n",
      "\n"
     ]
    }
   ],
   "source": [
    "from autogen_agentchat.messages import TextMessage\n",
    "async def test_story_agent():\n",
    "    task = TextMessage(content=\"Write a story about a person leveling up similiar to solo leveling in 500 words.\", source=\"User\")\n",
    "\n",
    "    response = await story_agent.run(task=task)\n",
    "    print(response.messages[-1].content)\n",
    "\n",
    "await test_story_agent()"
   ]
  },
  {
   "cell_type": "markdown",
   "id": "188aabe8",
   "metadata": {},
   "source": [
    "### MultiAgent Team Approach"
   ]
  },
  {
   "cell_type": "code",
   "execution_count": 8,
   "id": "22289e20",
   "metadata": {},
   "outputs": [],
   "source": [
    "plot_agent = AssistantAgent(\n",
    "    name=\"PlotAgent\",\n",
    "    description=\"An agent that generates a plot based on user input.\",\n",
    "    model_client=model_client,\n",
    "    system_message=\"You are a creative plot writer. Generate imaginative plots based on the user's input with a lot of twists and tragetic like attack on titans and The plot must always be like from anime stores like Solo Leveling.\",\n",
    ")\n",
    "\n",
    "character_agent = AssistantAgent(\n",
    "    name=\"CharacterAgent\",\n",
    "    description=\"An agent that generates characters based on user input.\",\n",
    "    model_client=model_client,\n",
    "    system_message=\"You are a creative character designer. Develop the characters with sad backstores and he faced a lot of challenges in his life. and the Character Ddevelopment must be like from anime character naruto.\",\n",
    ")\n",
    "\n",
    "ending_agent = AssistantAgent(\n",
    "    name=\"EndingAgent\",\n",
    "    description=\"An agent that generates an ending based on user input.\",\n",
    "    model_client=model_client,\n",
    "    system_message=\"You are a creative ending writer Who specialises in writing the best ending of the story and the ending should be like more trageic and then protagonist should has to make some sacrificial Desision to save the world .\",\n",
    ")"
   ]
  },
  {
   "cell_type": "code",
   "execution_count": 11,
   "id": "10359da3",
   "metadata": {},
   "outputs": [
    {
     "name": "stdout",
     "output_type": "stream",
     "text": [
      "User: Write a story about a person with super natural powers hidden and how he unlocks and learn and use it to achieves is goal and the sturuggle and sacrifices he made inorder to achieve it in 500 words.\n",
      "PlotAgent: Kai, a quiet bookstore clerk in a bustling metropolis, possessed a secret: the ability to manipulate shadows.  He could weave them into intricate patterns, shapeshift them into weapons, and even glimpse fleeting fragments of the past reflected in their depths.  But he’d never used these powers, shying away from the unknown, fearing the potential consequences.  His goal: to uncover the truth behind his strange lineage and heal the city plagued by the Shadow-Eater, a monstrous entity that devoured the very essence of light.\n",
      "\n",
      "He lived a mundane life, meticulously cataloging books, absorbing the stories within their pages.  He found solace in these tales, but his own story remained unwritten.  His only guide was an old, leather-bound journal, a family heirloom, detailing a lineage of shadow wielders. It hinted at a hidden school of shadow magic, a school that trained them to control and harness their powers.  It was his only clue to his family's past and a potential path to mastery.\n",
      "\n",
      "The city’s lights began flickering, dimming.  The Shadow-Eater, a horrifying entity of solidified darkness, was creeping out from the city’s underbelly.  People panicked, their fear fueling the growing darkness. Kai felt a tightening in his chest, a familiar surge of power, a sign that his own past was about to be written.\n",
      "\n",
      "His first attempts at using his powers were clumsy, fumbling with shadows, transforming them into clumsy shields, barely deflecting the shadows the Shadow-Eater threw.  The journal, his only guide, became his bible, its faded ink leading him through the labyrinthine depths of shadow magic.  Each whisper of a forgotten ritual, each cryptic symbol, unlocked a new layer of understanding.\n",
      "\n",
      "His training was relentless.  He worked the graveyard shifts at the library, practicing in the endless shadows, forcing himself to become one with the darkness.  He learned to control the whispers of the past, to decipher the fragmented images in the shadows, learning to manipulate them, and gaining a fleeting glimpse into the Shadow-Eater's origin, a hidden truth tied to an ancient conflict.\n",
      "\n",
      "The sacrifices were substantial. He isolated himself from his friends, his fear of the unknown and potential chaos eclipsing his social life. The responsibility of saving the city weighed on him, pushing him to the brink, eroding his confidence and doubt that he could succeed.\n",
      "\n",
      "He learned to channel his anxieties, transforming them into shields of shadow, mirroring the despair and fear surrounding him into impenetrable defenses, allowing him to use his fears and past experiences as weapons in his fight.\n",
      "\n",
      "His progress was slow, each lesson a brutal test of his will. He learned to conjure daggers of shadow, to cloak himself in impenetrable darkness, to conjure illusions that danced on the edges of reality.  One by one, the city’s shadows succumbed to his control, mirroring his own growing mastery.  The Shadow-Eater, though powerful, became less terrifying. His understanding of the Shadow-Eater’s true form was the key that allowed him to defeat it.\n",
      "\n",
      "Finally, the climax arrived. Kai faced the Shadow-Eater in a blinding display of shadowed illusions, his mastery of shadow allowing him to create an entire city of illusions to distract and confuse the beast. This distraction bought him the time to unleash the full power of his lineage, merging his fear into an ultimate attack. His final act: wielding all the shadows and the memories into a single, blinding volley, obliterating the Shadow-Eater and shattering the growing darkness.\n",
      "\n",
      "His victory was bittersweet.  The city celebrated his courage, but Kai felt an emptiness.  The journey to mastery had cost him dearly.  He was now the only shadow-wielder left and the burden of protecting the city’s light fell squarely on his shoulders. The past was still present, the memories, the sacrifices, and the fear lingering in the shadows, an indelible reminder of the path he’d taken to achieve his goal.\n",
      "\n",
      "\n",
      "CharacterAgent: Elara, a young woman haunted by the ghosts of her past, possessed a secret: the ability to manipulate whispers.  These weren't mere words; they were fragments of forgotten memories, echoes of lives lived and lost, woven into the very fabric of the world.  She could hear them, decipher their fractured narratives, and even, with immense effort, subtly influence them.  Her goal: to unravel the mystery of the Whispering Woods, a once-vibrant forest now choked by a creeping silence.\n",
      "\n",
      "Her life was a carefully constructed routine in the bustling marketplace.  She sold trinkets, meticulously crafted from salvaged materials, and worked in the town’s library, immersing herself in the stories of others.  But the whispers, a constant hum in the background, were her true calling.  They were her only clue to the vanished forest, a fading echo of its vibrant past.\n",
      "\n",
      "The Whispering Woods had fallen silent, its vibrant colours replaced by a sickly grey.  The villagers, once filled with laughter and song, now moved with an unnatural stillness, their voices muted, their stories fragmented.  Elara felt a familiar pang, a ripple of whispers intensifying around her, a growing sense of urgency. The forest's silence was consuming the town.\n",
      "\n",
      "\n",
      "Her first attempts to influence the whispers were hesitant and clumsy, barely nudging the memories of the forest's inhabitants back into focus.  The more she learned about the techniques described in the ancient, grimy journal she found in the library, the more she understood the need for discipline and control.  She needed to strengthen her control to influence the whispers effectively.\n",
      "\n",
      "Her training was a lonely odyssey, her practice grounds the crumbling ruins of the old apothecary shop.  Every whispered word, every faded memory, was a lesson, a key unlocking a fragment of the forest’s past.  She learned to coax forgotten melodies from the wind, to conjure images of vibrant flowers and bustling markets in the minds of the villagers, a painful re-creation of the past.\n",
      "\n",
      "The sacrifices were profound.  She lost connections to her friends, who couldn't comprehend her solitary existence in the depths of the forest. The constant isolation, the need to stay quiet so as not to disturb or confuse the whispers, stole the joy and ease of everyday life.\n",
      "\n",
      "She learned to manipulate her fears, channeling them into sharp, focused whispers, urging the villagers to remember. She had to face the ghosts of her own past, to confront the painful silence in her heart, and reshape those echoes into a tool that could affect others.  It was this raw, unfiltered emotion that gave her the power to reach into the fabric of the whispers and coax out the true stories of the woods.\n",
      "\n",
      "The forest, once a silent tomb, slowly began to stir.  A single flower unfurled its petals, a forgotten melody drifted on the breeze. The villagers' voices, though faint, started to reach out, like a chorus of remembered joys.  The echoes of the Whispering Woods were rekindled.\n",
      "\n",
      "Her final struggle was the most daunting.  The source of the silence, a hidden entity feeding on the whispers, had to be confronted. It wasn't an external force but her own fears, shaped into a being of negativity.  Confronting the whispering darkness, Elara used the collective memories and fears of the forest to weave a tapestry of vibrant emotions, a powerful force that drove away the consuming silence and revealed the forest's true essence.\n",
      "\n",
      "The Whispering Woods returned to life.  Elara’s journey had shown her that the power to mend the past resided not just in manipulating whispers, but in confronting her own inner silence, harnessing her grief, and transforming fear into a beacon of hope.  The forest healed, and with it, Elara's heart. The whispers still surrounded her, but now, they carried not just sorrow, but hope and the promise of a new beginning.\n",
      "\n",
      "EndingAgent: Elara, a young woman cloaked in the quiet desperation of a town fading into silence, possessed a secret: the ability to manipulate whispers.  Not mere words, but fragments of forgotten memories, echoes of lives lived and lost, woven into the very fabric of the world.  She could hear them, decipher their fractured narratives, and—with immense effort—influence them. Her goal: to restore the vibrant Whispering Woods, now choked by an unnerving silence.\n",
      "\n",
      "Her days were a delicate dance of normalcy and hidden purpose. She sold handcrafted trinkets in the bustling marketplace, their intricate details mirroring the fragmented stories she absorbed from the whispers.  But the Whispering Woods, once a haven of vibrant colour and song, now lay shrouded in an oppressive greyness, its inhabitants reduced to shadows of their former selves. The whispers intensified, a constant, nagging hum in her ears, drawing her into their sorrowful chorus.\n",
      "\n",
      "Her first attempts at manipulating the whispers were tentative, hesitant whispers of encouragement, barely disrupting the overwhelming silence.  An ancient, leather-bound journal—found in the town library—became her guide, revealing the methods of past whisper-manipulators.  Each cryptic entry, each faded symbol, unlocked another layer of her power, requiring discipline and a control she hadn't yet mastered.\n",
      "\n",
      "The training was a lonely odyssey through the overgrown, forgotten corners of the village.  She honed her skills in the crumbling ruins of an old apothecary, coaxing forgotten melodies from the wind, conjuring images of vibrant flowers and bustling markets within the minds of the villagers, fragments of life once lost.  This meant confronting the ghosts of her own past, the whispers of regret and loss.  It was this raw emotion, this unfiltered experience, that allowed her to truly connect with the whispers, shaping them into a powerful force.\n",
      "\n",
      "The sacrifices were steep.  Her friendships, once vibrant, withered under the weight of her isolation.  She severed ties, cut off contact to maintain the careful balance of the whispers, avoiding unintended consequences.  Her relationships, once filled with laughter, became mere echoes in her memory.  She learned to manipulate her fears into focused whispers, to use the negativity around her to create the strength needed for her ultimate task.\n",
      "\n",
      "The whispers, once a sorrowful symphony, began to stir.  A single flower unfurled its petals, a forgotten melody drifted on the breeze.  The villagers' voices, though fragile, started to find their way back to the vibrant chorus of the past, the lost laughter reemerging. The forest, slowly but surely, began to awaken.\n",
      "\n",
      "Elara’s final confrontation wasn't with an external entity, but with the silence itself—a silence that consumed her.  The source of the oppressive quiet was within her, a manifestation of her own fears and regrets.  Using a powerful technique from the journal, she channeled all the fractured memories, the lost joys, and the sorrow into a single, overwhelming whisper of hope.  In a final, cathartic act, she transformed the oppressive silence into a powerful hymn of renewal, echoing through the Whispering Woods.\n",
      "\n",
      "The forest blossomed anew, its colours returning with a vibrant intensity. Elara, though scarred by her journey, returned to her village, a conduit for healing. The whispers remained, but now carried not just sorrow, but the promise of a new beginning, a testament to the power of confronting the ghosts of the past and weaving them into a vibrant future.  Her journey had taught her that healing wasn't just about manipulating whispers, but about embracing the silence within and finding hope amidst the echo of loss.\n",
      "\n"
     ]
    }
   ],
   "source": [
    "from autogen_agentchat.teams import RoundRobinGroupChat\n",
    "\n",
    "team = RoundRobinGroupChat(\n",
    "    participants=[plot_agent, character_agent, ending_agent],\n",
    "    max_turns=3\n",
    ")\n",
    "\n",
    "async def test_team():\n",
    "    task = TextMessage(content=\"Write a story about a person with super natural powers hidden and how he unlocks and learn and use it to achieves is goal and the sturuggle and sacrifices he made inorder to achieve it in 500 words.\", source=\"User\")\n",
    "\n",
    "    response = await team.run(task=task)\n",
    "    for msg in response.messages:\n",
    "        print(f\"{msg.source}: {msg.content}\")\n",
    "\n",
    "await test_team()"
   ]
  },
  {
   "cell_type": "code",
   "execution_count": null,
   "id": "2101c281",
   "metadata": {},
   "outputs": [],
   "source": []
  }
 ],
 "metadata": {
  "kernelspec": {
   "display_name": "autogen-env",
   "language": "python",
   "name": "python3"
  },
  "language_info": {
   "codemirror_mode": {
    "name": "ipython",
    "version": 3
   },
   "file_extension": ".py",
   "mimetype": "text/x-python",
   "name": "python",
   "nbconvert_exporter": "python",
   "pygments_lexer": "ipython3",
   "version": "3.11.1"
  }
 },
 "nbformat": 4,
 "nbformat_minor": 5
}
