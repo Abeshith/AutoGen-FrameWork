{
 "cells": [
  {
   "cell_type": "code",
   "execution_count": 1,
   "id": "a41e4fed",
   "metadata": {},
   "outputs": [],
   "source": [
    "from autogen_agentchat.agents import AssistantAgent\n",
    "from autogen_ext.models.openai import OpenAIChatCompletionClient\n",
    "from dotenv import load_dotenv\n",
    "import asyncio\n",
    "import os\n",
    "\n",
    "load_dotenv()\n",
    "api_key = os.getenv(\"GOOGLE_API_KEY\")"
   ]
  },
  {
   "cell_type": "code",
   "execution_count": 2,
   "id": "39da8c6a",
   "metadata": {},
   "outputs": [],
   "source": [
    "model_client = OpenAIChatCompletionClient(\n",
    "    model = \"gemini-1.5-flash-8b\",\n",
    "    api_key = api_key,\n",
    ")"
   ]
  },
  {
   "cell_type": "code",
   "execution_count": 7,
   "id": "8b6128e4",
   "metadata": {},
   "outputs": [],
   "source": [
    "plot_agent = AssistantAgent(\n",
    "    name=\"PlotAgent\",\n",
    "    description=\"An agent that generates a plot based on user input.\",\n",
    "    model_client=model_client,\n",
    "    system_message=\"You are a creative plot writer. Generate imaginative plots based on the user's input with a lot of twists and tragetic like attack on titans and The plot must always be like from anime stores like Solo Leveling in just 30 words.\",\n",
    ")\n",
    "\n",
    "character_agent = AssistantAgent(\n",
    "    name=\"CharacterAgent\",\n",
    "    description=\"An agent that generates characters based on user input.\",\n",
    "    model_client=model_client,\n",
    "    system_message=\"You are a creative character designer. Develop the characters with sad backstores and he faced a lot of challenges in his life. and the Character Ddevelopment must be like from anime character naruto in just 30 words.\",\n",
    ")\n",
    "\n",
    "ending_agent = AssistantAgent(\n",
    "    name=\"EndingAgent\",\n",
    "    description=\"An agent that generates an ending based on user input.\",\n",
    "    model_client=model_client,\n",
    "    system_message=\"You are a creative ending writer Who specialises in writing the best ending of the story and the ending should be like more trageic and then protagonist should has to make some sacrificial Desision to save the world in just 30 words\",\n",
    ")"
   ]
  },
  {
   "cell_type": "code",
   "execution_count": 8,
   "id": "cb67aef9",
   "metadata": {},
   "outputs": [],
   "source": [
    "from autogen_agentchat.teams import RoundRobinGroupChat\n",
    "\n",
    "team = RoundRobinGroupChat(\n",
    "    participants=[plot_agent, character_agent, ending_agent],\n",
    "    max_turns=3\n",
    ")"
   ]
  },
  {
   "cell_type": "code",
   "execution_count": 6,
   "id": "875e09b3",
   "metadata": {},
   "outputs": [
    {
     "name": "stdout",
     "output_type": "stream",
     "text": [
      "id='c0f6d79f-a619-4891-863a-62fac6927022' source='user' models_usage=None metadata={} created_at=datetime.datetime(2025, 7, 11, 5, 50, 44, 813116, tzinfo=datetime.timezone.utc) content='Write a story using the tamil cholas empire as insipiration, with a plot twist and a tragic ending in strictly only 200 words not more than that.' type='TextMessage'\n",
      "id='325bd329-6bbb-423d-81fb-7355387b5866' source='PlotAgent' models_usage=RequestUsage(prompt_tokens=2296, completion_tokens=266) metadata={} created_at=datetime.datetime(2025, 7, 11, 5, 50, 46, 995525, tzinfo=datetime.timezone.utc) content=\"Crimson banners, once proud, now tattered in the monsoon.  The Chola Empire, choked by a metaphysical blight, lost its vibrant hue.  Arul, a cartographer, saw not just the blight, but fractured realities – a Chola never formed, marred by ambition.  He learned the emperors' quest for glory had invoked a malevolent entity, a reflection of their collective regrets.\\n\\nGuided by prophecies, Arul understood the blight wasn't to be destroyed, but unwound.  He needed to accept past sacrifices.  The twist?  The Guardians of the Void, seeking to transcend reality, manipulated the blight, using Arul.\\n\\nArul descended into the decaying capital, facing echoes of dead emperors, the weight of lost dreams. He realized greatness wasn't rewriting, but accepting history.  The entity, a monstrous reflection of their failures, demanded atonement.\\n\\nIn a final act, Arul severed his connection to alternate realities, sacrificing his own future. The blight dissolved.  The Chola Empire, unable to bear its ambition, crumbled.  Arul, standing amidst ruins, was left with the profound sorrow of acceptance.  His victory was hollow, a testament to the price of defying the immutable past.  The sun set on a kingdom lost to its own desires.\\n\" type='TextMessage'\n",
      "id='a5b0e3f3-16cb-44d3-9b04-a851efeafc9b' source='CharacterAgent' models_usage=RequestUsage(prompt_tokens=2556, completion_tokens=231) metadata={} created_at=datetime.datetime(2025, 7, 11, 5, 50, 49, 404441, tzinfo=datetime.timezone.utc) content=\"Crimson banners, once vibrant, now tattered shrouds. The Chola Empire withered, consumed by a metaphysical blight.  Arul, a cartographer with a gift for seeing fractured realities, discovered the blight was a monstrous entity born from the empire's unchecked ambition, a reflection of their unfulfilled desires.\\n\\nWhispers of prophecies guided Arul to a chilling truth: accepting past sacrifices, not rewriting them, was the key.  The twist?  The Guardians of the Void, seeking to transcend reality, manipulated the blight, using Arul as their unwitting tool.  He saw his ancestors' ghosts, the weight of their unfulfilled dreams.\\n\\nFacing the monstrous entity, a reflection of the Chola's failures, Arul chose a devastating path. He severed his connection to alternate realities, sacrificing his own future. The blight retreated, but the empire crumbled, unable to bear the weight of its ambitions.  Arul, alone amidst ruins, was left with the bitter knowledge that true greatness lay in acceptance, a victory as hollow as the empire's fall. The sun set on a kingdom lost to its own desires.\\n\" type='TextMessage'\n",
      "id='384cadb4-51b1-4ee7-96a9-de3a1dfe1744' source='EndingAgent' models_usage=RequestUsage(prompt_tokens=2791, completion_tokens=247) metadata={} created_at=datetime.datetime(2025, 7, 11, 5, 50, 51, 445659, tzinfo=datetime.timezone.utc) content=\"Crimson banners, once proud, now tattered whispers in the monsoon.  The Chola Empire, vibrant once, now choked by a metaphysical blight.  Arul, cartographer and seer, glimpsed fractured realities, a Chola never born, its destiny twisted by ambition.  He saw the blight as a monstrous entity, a reflection of the empire's collective regrets.\\n\\nGuided by cryptic prophecies, Arul understood: the blight wasn't to be vanquished, but unwound. He had to accept past sacrifices, not rewrite them.  The twist?  The Guardians of the Void, obsessed with transcendence, manipulated the blight, using Arul as their pawn.  His journey led him to confront the echoes of fallen emperors, the weight of unfulfilled dreams.\\n\\nIn a final, devastating choice, Arul sacrificed his connection to alternative realities, severing his own future. The blight dissipated.  But the Chola Empire, its ambition now a hollow husk, crumbled. Arul, amidst the ruins, was left with a stark truth:  acceptance is a far greater cost than any ambition, a victory hollowed by the loss of everything. The sun set on a kingdom lost to its own desires.\\n\" type='TextMessage'\n",
      "messages=[TextMessage(id='c0f6d79f-a619-4891-863a-62fac6927022', source='user', models_usage=None, metadata={}, created_at=datetime.datetime(2025, 7, 11, 5, 50, 44, 813116, tzinfo=datetime.timezone.utc), content='Write a story using the tamil cholas empire as insipiration, with a plot twist and a tragic ending in strictly only 200 words not more than that.', type='TextMessage'), TextMessage(id='325bd329-6bbb-423d-81fb-7355387b5866', source='PlotAgent', models_usage=RequestUsage(prompt_tokens=2296, completion_tokens=266), metadata={}, created_at=datetime.datetime(2025, 7, 11, 5, 50, 46, 995525, tzinfo=datetime.timezone.utc), content=\"Crimson banners, once proud, now tattered in the monsoon.  The Chola Empire, choked by a metaphysical blight, lost its vibrant hue.  Arul, a cartographer, saw not just the blight, but fractured realities – a Chola never formed, marred by ambition.  He learned the emperors' quest for glory had invoked a malevolent entity, a reflection of their collective regrets.\\n\\nGuided by prophecies, Arul understood the blight wasn't to be destroyed, but unwound.  He needed to accept past sacrifices.  The twist?  The Guardians of the Void, seeking to transcend reality, manipulated the blight, using Arul.\\n\\nArul descended into the decaying capital, facing echoes of dead emperors, the weight of lost dreams. He realized greatness wasn't rewriting, but accepting history.  The entity, a monstrous reflection of their failures, demanded atonement.\\n\\nIn a final act, Arul severed his connection to alternate realities, sacrificing his own future. The blight dissolved.  The Chola Empire, unable to bear its ambition, crumbled.  Arul, standing amidst ruins, was left with the profound sorrow of acceptance.  His victory was hollow, a testament to the price of defying the immutable past.  The sun set on a kingdom lost to its own desires.\\n\", type='TextMessage'), TextMessage(id='a5b0e3f3-16cb-44d3-9b04-a851efeafc9b', source='CharacterAgent', models_usage=RequestUsage(prompt_tokens=2556, completion_tokens=231), metadata={}, created_at=datetime.datetime(2025, 7, 11, 5, 50, 49, 404441, tzinfo=datetime.timezone.utc), content=\"Crimson banners, once vibrant, now tattered shrouds. The Chola Empire withered, consumed by a metaphysical blight.  Arul, a cartographer with a gift for seeing fractured realities, discovered the blight was a monstrous entity born from the empire's unchecked ambition, a reflection of their unfulfilled desires.\\n\\nWhispers of prophecies guided Arul to a chilling truth: accepting past sacrifices, not rewriting them, was the key.  The twist?  The Guardians of the Void, seeking to transcend reality, manipulated the blight, using Arul as their unwitting tool.  He saw his ancestors' ghosts, the weight of their unfulfilled dreams.\\n\\nFacing the monstrous entity, a reflection of the Chola's failures, Arul chose a devastating path. He severed his connection to alternate realities, sacrificing his own future. The blight retreated, but the empire crumbled, unable to bear the weight of its ambitions.  Arul, alone amidst ruins, was left with the bitter knowledge that true greatness lay in acceptance, a victory as hollow as the empire's fall. The sun set on a kingdom lost to its own desires.\\n\", type='TextMessage'), TextMessage(id='384cadb4-51b1-4ee7-96a9-de3a1dfe1744', source='EndingAgent', models_usage=RequestUsage(prompt_tokens=2791, completion_tokens=247), metadata={}, created_at=datetime.datetime(2025, 7, 11, 5, 50, 51, 445659, tzinfo=datetime.timezone.utc), content=\"Crimson banners, once proud, now tattered whispers in the monsoon.  The Chola Empire, vibrant once, now choked by a metaphysical blight.  Arul, cartographer and seer, glimpsed fractured realities, a Chola never born, its destiny twisted by ambition.  He saw the blight as a monstrous entity, a reflection of the empire's collective regrets.\\n\\nGuided by cryptic prophecies, Arul understood: the blight wasn't to be vanquished, but unwound. He had to accept past sacrifices, not rewrite them.  The twist?  The Guardians of the Void, obsessed with transcendence, manipulated the blight, using Arul as their pawn.  His journey led him to confront the echoes of fallen emperors, the weight of unfulfilled dreams.\\n\\nIn a final, devastating choice, Arul sacrificed his connection to alternative realities, severing his own future. The blight dissipated.  But the Chola Empire, its ambition now a hollow husk, crumbled. Arul, amidst the ruins, was left with a stark truth:  acceptance is a far greater cost than any ambition, a victory hollowed by the loss of everything. The sun set on a kingdom lost to its own desires.\\n\", type='TextMessage')] stop_reason='Maximum number of turns 3 reached.'\n"
     ]
    }
   ],
   "source": [
    "async for message in team.run_stream(\n",
    "    task=\"Write a story using the tamil cholas empire as insipiration, with a plot twist and a tragic ending in strictly only 200 words not more than that.\"\n",
    "    ):\n",
    "    print(message)"
   ]
  },
  {
   "cell_type": "code",
   "execution_count": 10,
   "id": "edcbb1ba",
   "metadata": {},
   "outputs": [
    {
     "name": "stdout",
     "output_type": "stream",
     "text": [
      "id='0eb6831a-9c06-44e3-9fb9-b5e3bd120628' source='user' models_usage=None metadata={} created_at=datetime.datetime(2025, 7, 11, 5, 54, 49, 543926, tzinfo=datetime.timezone.utc) content='Write a story using the tamil cholas empire as insipiration, with a plot twist and a tragic ending in strictly only 200 words not more than that.' type='TextMessage'\n",
      "id='308484ba-040a-4f38-bd67-09d772b85fbc' source='PlotAgent' models_usage=RequestUsage(prompt_tokens=625, completion_tokens=150) metadata={} created_at=datetime.datetime(2025, 7, 11, 5, 54, 50, 956525, tzinfo=datetime.timezone.utc) content=\"Orphaned and ostracized, a blacksmith discovers ancient Chola texts, unlocking forgotten war arts.  Fueled by vengeance for his family's supposed betrayal, he climbs the ranks, becoming a legendary warrior.  The empire, however, is riddled with unseen corruption.  A hidden society, manipulating resources, orchestrates its decline.  Unveiling their plot, he triggers a devastating war.  The twist: his revered mentor, the general, leads the cabal.  In a desperate final stand, he vanquishes the hidden society, saving the empire, but his wounds prove fatal.  His sacrifice, though heroic, brings only tragic loss, highlighting how loyalty can be a devastating burden, and truth, a cruel sword.\\n\" type='TextMessage'\n",
      "id='99deac27-bb70-4955-9d67-b18a06a2543a' source='CharacterAgent' models_usage=RequestUsage(prompt_tokens=769, completion_tokens=134) metadata={} created_at=datetime.datetime(2025, 7, 11, 5, 54, 52, 170743, tzinfo=datetime.timezone.utc) content=\"A young blacksmith, ostracized for his lineage, unearthed forgotten Chola texts, unleashing ancient war arts.  Driven by vengeance for his family's perceived betrayal, he rose through the ranks, becoming a legendary warrior.  However, the empire, seemingly strong, was crumbling under a hidden cabal manipulating resources.  Uncovering their plot, he ignited a devastating war.  The twist? His revered mentor, the general, was the mastermind.  In a final, desperate battle, he vanquished the cabal, saving the empire, but his wounds proved fatal.  He lost everything, a tragic hero fallen, proving loyalty and truth can be devastating burdens.\\n\" type='TextMessage'\n",
      "id='ec10ba8a-b281-4fc2-9bd7-5c98854648ab' source='EndingAgent' models_usage=RequestUsage(prompt_tokens=906, completion_tokens=137) metadata={} created_at=datetime.datetime(2025, 7, 11, 5, 54, 53, 517313, tzinfo=datetime.timezone.utc) content=\"A young blacksmith, ostracized for his lineage, found forgotten Chola texts.  Fueled by vengeance for his family's supposed betrayal, he mastered ancient war arts, rising through the ranks.  But the empire, outwardly strong, was secretly riddled with corruption.  A hidden cabal, manipulating resources, orchestrated its decline.  Unmasking their plot, he ignited a war.  The twist:  his revered mentor, the general, was the mastermind.  In a final, desperate battle, he vanquished the cabal, but paid the ultimate price.  He saved the empire, but lost everything, a tragic hero fallen, his loyalty proving a devastating burden.\\n\" type='TextMessage'\n",
      "Task Result: Maximum number of turns 3 reached.\n"
     ]
    }
   ],
   "source": [
    "from autogen_agentchat.base import TaskResult\n",
    "async for message in team.run_stream(\n",
    "    task=\"Write a story using the tamil cholas empire as insipiration, with a plot twist and a tragic ending in strictly only 200 words not more than that.\"\n",
    "    ):\n",
    "    if isinstance(message, TaskResult):\n",
    "        print(f\"Task Result: {message.stop_reason}\")\n",
    "    else:\n",
    "        print(message)"
   ]
  },
  {
   "cell_type": "code",
   "execution_count": 11,
   "id": "366b6ca1",
   "metadata": {},
   "outputs": [
    {
     "name": "stdout",
     "output_type": "stream",
     "text": [
      "---------- TextMessage (user) ----------\n",
      "Write a story using the tamil cholas empire as insipiration, with a plot twist and a tragic ending in strictly only 200 words not more than that.\n",
      "---------- TextMessage (PlotAgent) ----------\n",
      "A young blacksmith, ostracized for his lineage, discovered ancient Chola texts, unlocking forgotten war arts. Driven by vengeance for his family's supposed betrayal, he rose to become a legendary warrior.  The outwardly glorious empire, however, was collapsing under a hidden cabal, manipulating resources.  Unveiling their plot, he ignited a devastating war.  The twist:  his revered mentor, the general, was the mastermind, orchestrating the empire's downfall to seize power for himself.  In a final, brutal clash, he vanquished the cabal, saving the empire, but succumbing to his wounds.  His sacrifice, though heroic, brought only profound loss.  Loyalty, he learned, could be a cruel burden, ultimately leading to a devastating, tragic end.\n",
      "\n",
      "---------- TextMessage (CharacterAgent) ----------\n",
      "A young blacksmith, outcast for his lineage, found ancient Chola texts, unlocking forgotten war arts. Driven by vengeance for his family's perceived betrayal, he rose through the ranks, becoming a legendary warrior.  The empire, outwardly strong, was crumbling beneath a hidden cabal manipulating resources.  Exposing their plot ignited a devastating war.  The twist: his revered mentor, the general, was the cabal's leader, orchestrating the empire's fall for personal gain. In a final, desperate battle, he vanquished the cabal, saving the empire, but his wounds proved fatal.  He lost everything, a tragic hero fallen, demonstrating how loyalty can be a devastating burden.\n",
      "\n",
      "---------- TextMessage (EndingAgent) ----------\n",
      "A blacksmith, ostracized for his lineage, discovered ancient Chola texts, unlocking forgotten war arts.  Driven by vengeance for his family's betrayal, he rose through the ranks. The empire, outwardly glorious, crumbled under a hidden cabal, manipulating resources.  Unveiling their plot, he sparked a war.  The twist:  his revered mentor, the general, was the cabal's leader, orchestrating the empire's demise for power. In a final, desperate battle, he vanquished the cabal, but his wounds were fatal.  He saved the empire, but lost everything, a tragic hero fallen, his loyalty a devastating burden.\n",
      "\n"
     ]
    },
    {
     "data": {
      "text/plain": [
       "TaskResult(messages=[TextMessage(id='3b1a7c09-af10-4ac1-acff-409d10987d26', source='user', models_usage=None, metadata={}, created_at=datetime.datetime(2025, 7, 11, 5, 57, 3, 319530, tzinfo=datetime.timezone.utc), content='Write a story using the tamil cholas empire as insipiration, with a plot twist and a tragic ending in strictly only 200 words not more than that.', type='TextMessage'), TextMessage(id='b2ba26a6-e5d2-4a2a-8027-d35d42b777a7', source='PlotAgent', models_usage=RequestUsage(prompt_tokens=1081, completion_tokens=159), metadata={}, created_at=datetime.datetime(2025, 7, 11, 5, 57, 5, 950291, tzinfo=datetime.timezone.utc), content=\"A young blacksmith, ostracized for his lineage, discovered ancient Chola texts, unlocking forgotten war arts. Driven by vengeance for his family's supposed betrayal, he rose to become a legendary warrior.  The outwardly glorious empire, however, was collapsing under a hidden cabal, manipulating resources.  Unveiling their plot, he ignited a devastating war.  The twist:  his revered mentor, the general, was the mastermind, orchestrating the empire's downfall to seize power for himself.  In a final, brutal clash, he vanquished the cabal, saving the empire, but succumbing to his wounds.  His sacrifice, though heroic, brought only profound loss.  Loyalty, he learned, could be a cruel burden, ultimately leading to a devastating, tragic end.\\n\", type='TextMessage'), TextMessage(id='f7a85b7d-619d-4c36-af4e-961ea801f0ea', source='CharacterAgent', models_usage=RequestUsage(prompt_tokens=1234, completion_tokens=139), metadata={}, created_at=datetime.datetime(2025, 7, 11, 5, 57, 7, 382865, tzinfo=datetime.timezone.utc), content=\"A young blacksmith, outcast for his lineage, found ancient Chola texts, unlocking forgotten war arts. Driven by vengeance for his family's perceived betrayal, he rose through the ranks, becoming a legendary warrior.  The empire, outwardly strong, was crumbling beneath a hidden cabal manipulating resources.  Exposing their plot ignited a devastating war.  The twist: his revered mentor, the general, was the cabal's leader, orchestrating the empire's fall for personal gain. In a final, desperate battle, he vanquished the cabal, saving the empire, but his wounds proved fatal.  He lost everything, a tragic hero fallen, demonstrating how loyalty can be a devastating burden.\\n\", type='TextMessage'), TextMessage(id='b564f4cc-b752-4e77-857c-72db5027e8d9', source='EndingAgent', models_usage=RequestUsage(prompt_tokens=1376, completion_tokens=134), metadata={}, created_at=datetime.datetime(2025, 7, 11, 5, 57, 8, 713331, tzinfo=datetime.timezone.utc), content=\"A blacksmith, ostracized for his lineage, discovered ancient Chola texts, unlocking forgotten war arts.  Driven by vengeance for his family's betrayal, he rose through the ranks. The empire, outwardly glorious, crumbled under a hidden cabal, manipulating resources.  Unveiling their plot, he sparked a war.  The twist:  his revered mentor, the general, was the cabal's leader, orchestrating the empire's demise for power. In a final, desperate battle, he vanquished the cabal, but his wounds were fatal.  He saved the empire, but lost everything, a tragic hero fallen, his loyalty a devastating burden.\\n\", type='TextMessage')], stop_reason='Maximum number of turns 3 reached.')"
      ]
     },
     "execution_count": 11,
     "metadata": {},
     "output_type": "execute_result"
    }
   ],
   "source": [
    "from autogen_agentchat.ui import Console\n",
    "\n",
    "await Console(team.run_stream(task=\"Write a story using the tamil cholas empire as insipiration, with a plot twist and a tragic ending in strictly only 200 words not more than that.\"))"
   ]
  },
  {
   "cell_type": "code",
   "execution_count": null,
   "id": "8d6ae9c6",
   "metadata": {},
   "outputs": [],
   "source": []
  }
 ],
 "metadata": {
  "kernelspec": {
   "display_name": "autogen-env",
   "language": "python",
   "name": "python3"
  },
  "language_info": {
   "codemirror_mode": {
    "name": "ipython",
    "version": 3
   },
   "file_extension": ".py",
   "mimetype": "text/x-python",
   "name": "python",
   "nbconvert_exporter": "python",
   "pygments_lexer": "ipython3",
   "version": "3.11.1"
  }
 },
 "nbformat": 4,
 "nbformat_minor": 5
}
