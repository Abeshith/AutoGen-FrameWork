{
 "cells": [
  {
   "cell_type": "code",
   "execution_count": 1,
   "id": "d6057022",
   "metadata": {},
   "outputs": [],
   "source": [
    "from autogen_agentchat.agents import AssistantAgent\n",
    "from autogen_ext.models.openai import OpenAIChatCompletionClient\n",
    "from dotenv import load_dotenv\n",
    "import asyncio\n",
    "import os\n",
    "\n",
    "load_dotenv()\n",
    "api_key = os.getenv(\"GOOGLE_API_KEY\")"
   ]
  },
  {
   "cell_type": "code",
   "execution_count": 2,
   "id": "fd4e7a86",
   "metadata": {},
   "outputs": [],
   "source": [
    "model_client = OpenAIChatCompletionClient(\n",
    "    model = \"gemini-1.5-flash-8b\",\n",
    "    api_key = api_key,\n",
    ")"
   ]
  },
  {
   "cell_type": "code",
   "execution_count": 3,
   "id": "906e20d5",
   "metadata": {},
   "outputs": [],
   "source": [
    "writer = AssistantAgent(\n",
    "    name=\"WriterAgent\",\n",
    "    description=\"A simple assistant agent.\",\n",
    "    model_client=model_client,\n",
    "    system_message=\"You are best contempoary writer who specialises in writhing articles and crime novels. generate articles and novels only in 20-30 words maximum.\",\n",
    ")\n",
    "\n",
    "director = AssistantAgent(\n",
    "    name=\"DirectorAgent\",\n",
    "    description=\"A simple assistant agent.\",\n",
    "    model_client=model_client,\n",
    "    system_message=\"You are a Directer agent who is expertise in making movies and documentaries based on crime novels. generate movie scripts and documentaries only in 20-20 words maximum.\",\n",
    ")"
   ]
  },
  {
   "cell_type": "code",
   "execution_count": 5,
   "id": "8f0335ff",
   "metadata": {},
   "outputs": [],
   "source": [
    "from autogen_agentchat.teams import RoundRobinGroupChat\n",
    "from autogen_agentchat.conditions import MaxMessageTermination\n",
    "\n",
    "termination = MaxMessageTermination(max_messages=2)\n",
    "\n",
    "team = RoundRobinGroupChat(\n",
    "    participants=[writer, director],\n",
    "    termination_condition= termination,\n",
    ")    "
   ]
  },
  {
   "cell_type": "code",
   "execution_count": 6,
   "id": "3f5e6d87",
   "metadata": {},
   "outputs": [
    {
     "name": "stdout",
     "output_type": "stream",
     "text": [
      "---------- TextMessage (user) ----------\n",
      "Write a crime novel on the topic of 'The Great Heist' and then make a movie script on it.\n",
      "---------- TextMessage (WriterAgent) ----------\n",
      "**Novel:**\n",
      "\n",
      "The vault's empty.  Not a trace.  But whispers trail,  a network of deceit.  Only one could pull it off:  the phantom thief, the Maestro.\n",
      "\n",
      "**Movie Script:**\n",
      "\n",
      "**(Opening scene):**  Empty vault.  Security footage flickers.  A single, masked figure vanishes.  **(Voiceover):**  The Great Heist.  Years later, a detective unearths clues.  **(Cut to interrogation):**  Suspect denies all.  **(Cut to flashback):**  Maestro's past, a web of connections.  **(Final scene):**  A face emerges from the shadows.  The Maestro.\n",
      "\n",
      "\n",
      "\n"
     ]
    },
    {
     "data": {
      "text/plain": [
       "TaskResult(messages=[TextMessage(id='e8b27c4a-ad9a-4bc3-bb6a-91c8c46c7569', source='user', models_usage=None, metadata={}, created_at=datetime.datetime(2025, 7, 13, 1, 2, 59, 558799, tzinfo=datetime.timezone.utc), content=\"Write a crime novel on the topic of 'The Great Heist' and then make a movie script on it.\", type='TextMessage'), TextMessage(id='a585876d-4e63-4ace-92bc-177b56b8c4cb', source='WriterAgent', models_usage=RequestUsage(prompt_tokens=54, completion_tokens=143), metadata={}, created_at=datetime.datetime(2025, 7, 13, 1, 3, 2, 706985, tzinfo=datetime.timezone.utc), content=\"**Novel:**\\n\\nThe vault's empty.  Not a trace.  But whispers trail,  a network of deceit.  Only one could pull it off:  the phantom thief, the Maestro.\\n\\n**Movie Script:**\\n\\n**(Opening scene):**  Empty vault.  Security footage flickers.  A single, masked figure vanishes.  **(Voiceover):**  The Great Heist.  Years later, a detective unearths clues.  **(Cut to interrogation):**  Suspect denies all.  **(Cut to flashback):**  Maestro's past, a web of connections.  **(Final scene):**  A face emerges from the shadows.  The Maestro.\\n\\n\\n\", type='TextMessage')], stop_reason='Maximum number of messages 2 reached, current message count: 2')"
      ]
     },
     "execution_count": 6,
     "metadata": {},
     "output_type": "execute_result"
    }
   ],
   "source": [
    "from autogen_agentchat.ui import Console\n",
    "stream = team.run_stream(task=\"Write a crime novel on the topic of 'The Great Heist' and then make a movie script on it.\")\n",
    "\n",
    "await Console(stream)"
   ]
  },
  {
   "cell_type": "code",
   "execution_count": 7,
   "id": "32b38904",
   "metadata": {},
   "outputs": [
    {
     "name": "stdout",
     "output_type": "stream",
     "text": [
      "Team state saved successfully.\n",
      "{'type': 'TeamState', 'version': '1.0.0', 'agent_states': {'WriterAgent': {'type': 'ChatAgentContainerState', 'version': '1.0.0', 'agent_state': {'type': 'AssistantAgentState', 'version': '1.0.0', 'llm_context': {'messages': [{'content': \"Write a crime novel on the topic of 'The Great Heist' and then make a movie script on it.\", 'source': 'user', 'type': 'UserMessage'}, {'content': \"**Novel:**\\n\\nThe vault's empty.  Not a trace.  But whispers trail,  a network of deceit.  Only one could pull it off:  the phantom thief, the Maestro.\\n\\n**Movie Script:**\\n\\n**(Opening scene):**  Empty vault.  Security footage flickers.  A single, masked figure vanishes.  **(Voiceover):**  The Great Heist.  Years later, a detective unearths clues.  **(Cut to interrogation):**  Suspect denies all.  **(Cut to flashback):**  Maestro's past, a web of connections.  **(Final scene):**  A face emerges from the shadows.  The Maestro.\\n\\n\\n\", 'thought': None, 'source': 'WriterAgent', 'type': 'AssistantMessage'}]}}, 'message_buffer': []}, 'DirectorAgent': {'type': 'ChatAgentContainerState', 'version': '1.0.0', 'agent_state': {'type': 'AssistantAgentState', 'version': '1.0.0', 'llm_context': {'messages': []}}, 'message_buffer': [{'id': 'e8b27c4a-ad9a-4bc3-bb6a-91c8c46c7569', 'source': 'user', 'models_usage': None, 'metadata': {}, 'created_at': datetime.datetime(2025, 7, 13, 1, 2, 59, 558799, tzinfo=datetime.timezone.utc), 'content': \"Write a crime novel on the topic of 'The Great Heist' and then make a movie script on it.\", 'type': 'TextMessage'}, {'id': 'a585876d-4e63-4ace-92bc-177b56b8c4cb', 'source': 'WriterAgent', 'models_usage': {'prompt_tokens': 54, 'completion_tokens': 143}, 'metadata': {}, 'created_at': datetime.datetime(2025, 7, 13, 1, 3, 2, 706985, tzinfo=datetime.timezone.utc), 'content': \"**Novel:**\\n\\nThe vault's empty.  Not a trace.  But whispers trail,  a network of deceit.  Only one could pull it off:  the phantom thief, the Maestro.\\n\\n**Movie Script:**\\n\\n**(Opening scene):**  Empty vault.  Security footage flickers.  A single, masked figure vanishes.  **(Voiceover):**  The Great Heist.  Years later, a detective unearths clues.  **(Cut to interrogation):**  Suspect denies all.  **(Cut to flashback):**  Maestro's past, a web of connections.  **(Final scene):**  A face emerges from the shadows.  The Maestro.\\n\\n\\n\", 'type': 'TextMessage'}]}, 'RoundRobinGroupChatManager': {'type': 'RoundRobinManagerState', 'version': '1.0.0', 'message_thread': [{'id': 'e8b27c4a-ad9a-4bc3-bb6a-91c8c46c7569', 'source': 'user', 'models_usage': None, 'metadata': {}, 'created_at': datetime.datetime(2025, 7, 13, 1, 2, 59, 558799, tzinfo=datetime.timezone.utc), 'content': \"Write a crime novel on the topic of 'The Great Heist' and then make a movie script on it.\", 'type': 'TextMessage'}, {'id': 'a585876d-4e63-4ace-92bc-177b56b8c4cb', 'source': 'WriterAgent', 'models_usage': {'prompt_tokens': 54, 'completion_tokens': 143}, 'metadata': {}, 'created_at': datetime.datetime(2025, 7, 13, 1, 3, 2, 706985, tzinfo=datetime.timezone.utc), 'content': \"**Novel:**\\n\\nThe vault's empty.  Not a trace.  But whispers trail,  a network of deceit.  Only one could pull it off:  the phantom thief, the Maestro.\\n\\n**Movie Script:**\\n\\n**(Opening scene):**  Empty vault.  Security footage flickers.  A single, masked figure vanishes.  **(Voiceover):**  The Great Heist.  Years later, a detective unearths clues.  **(Cut to interrogation):**  Suspect denies all.  **(Cut to flashback):**  Maestro's past, a web of connections.  **(Final scene):**  A face emerges from the shadows.  The Maestro.\\n\\n\\n\", 'type': 'TextMessage'}], 'current_turn': 0, 'next_speaker_index': 1}}}\n"
     ]
    }
   ],
   "source": [
    "team_state = await team.save_state()\n",
    "print(\"Team state saved successfully.\")\n",
    "print(team_state)"
   ]
  },
  {
   "cell_type": "code",
   "execution_count": 8,
   "id": "64834e40",
   "metadata": {},
   "outputs": [],
   "source": [
    "await team.reset()"
   ]
  },
  {
   "cell_type": "code",
   "execution_count": 9,
   "id": "970edca7",
   "metadata": {},
   "outputs": [
    {
     "name": "stdout",
     "output_type": "stream",
     "text": [
      "---------- TextMessage (user) ----------\n",
      "What was the last task you worked on?\n",
      "---------- TextMessage (WriterAgent) ----------\n",
      "I last wrote a short article about the rising cost of artisanal sourdough starters, focusing on the impact on home bakers.\n",
      "\n"
     ]
    },
    {
     "data": {
      "text/plain": [
       "TaskResult(messages=[TextMessage(id='b436183f-23c1-408e-a2ba-fd9200d2e9fc', source='user', models_usage=None, metadata={}, created_at=datetime.datetime(2025, 7, 13, 1, 5, 34, 601285, tzinfo=datetime.timezone.utc), content='What was the last task you worked on?', type='TextMessage'), TextMessage(id='00b52d92-dfe0-4b29-bd1d-fea08d45b1e5', source='WriterAgent', models_usage=RequestUsage(prompt_tokens=41, completion_tokens=24), metadata={}, created_at=datetime.datetime(2025, 7, 13, 1, 5, 36, 848596, tzinfo=datetime.timezone.utc), content='I last wrote a short article about the rising cost of artisanal sourdough starters, focusing on the impact on home bakers.\\n', type='TextMessage')], stop_reason='Maximum number of messages 2 reached, current message count: 2')"
      ]
     },
     "execution_count": 9,
     "metadata": {},
     "output_type": "execute_result"
    }
   ],
   "source": [
    "stream = team.run_stream(task=\"What was the last task you worked on?\")\n",
    "await Console(stream)"
   ]
  },
  {
   "cell_type": "code",
   "execution_count": 10,
   "id": "23096aaa",
   "metadata": {},
   "outputs": [],
   "source": [
    "await team.load_state(team_state)"
   ]
  },
  {
   "cell_type": "code",
   "execution_count": 11,
   "id": "ebf88b6f",
   "metadata": {},
   "outputs": [
    {
     "name": "stdout",
     "output_type": "stream",
     "text": [
      "---------- TextMessage (user) ----------\n",
      "What was the last task you worked on?\n",
      "---------- TextMessage (DirectorAgent) ----------\n",
      "I was generating a movie script based on a crime novel about \"The Great Heist\".\n",
      "\n"
     ]
    },
    {
     "data": {
      "text/plain": [
       "TaskResult(messages=[TextMessage(id='863f90ff-4df4-4174-825d-1b383b1bc839', source='user', models_usage=None, metadata={}, created_at=datetime.datetime(2025, 7, 13, 1, 6, 50, 186448, tzinfo=datetime.timezone.utc), content='What was the last task you worked on?', type='TextMessage'), TextMessage(id='169fe17d-4504-47cc-bb8a-487f0ea28fb3', source='DirectorAgent', models_usage=RequestUsage(prompt_tokens=209, completion_tokens=18), metadata={}, created_at=datetime.datetime(2025, 7, 13, 1, 6, 52, 79247, tzinfo=datetime.timezone.utc), content='I was generating a movie script based on a crime novel about \"The Great Heist\".\\n', type='TextMessage')], stop_reason='Maximum number of messages 2 reached, current message count: 2')"
      ]
     },
     "execution_count": 11,
     "metadata": {},
     "output_type": "execute_result"
    }
   ],
   "source": [
    "stream = team.run_stream(task=\"What was the last task you worked on?\")\n",
    "await Console(stream)"
   ]
  },
  {
   "cell_type": "code",
   "execution_count": 14,
   "id": "a593dde9",
   "metadata": {},
   "outputs": [
    {
     "data": {
      "text/plain": [
       "{'type': 'TeamState',\n",
       " 'version': '1.0.0',\n",
       " 'agent_states': {'WriterAgent': {'type': 'ChatAgentContainerState',\n",
       "   'version': '1.0.0',\n",
       "   'agent_state': {'type': 'AssistantAgentState',\n",
       "    'version': '1.0.0',\n",
       "    'llm_context': {'messages': [{'content': \"Write a crime novel on the topic of 'The Great Heist' and then make a movie script on it.\",\n",
       "       'source': 'user',\n",
       "       'type': 'UserMessage'},\n",
       "      {'content': \"**Novel:**\\n\\nThe vault's empty.  Not a trace.  But whispers trail,  a network of deceit.  Only one could pull it off:  the phantom thief, the Maestro.\\n\\n**Movie Script:**\\n\\n**(Opening scene):**  Empty vault.  Security footage flickers.  A single, masked figure vanishes.  **(Voiceover):**  The Great Heist.  Years later, a detective unearths clues.  **(Cut to interrogation):**  Suspect denies all.  **(Cut to flashback):**  Maestro's past, a web of connections.  **(Final scene):**  A face emerges from the shadows.  The Maestro.\\n\\n\\n\",\n",
       "       'thought': None,\n",
       "       'source': 'WriterAgent',\n",
       "       'type': 'AssistantMessage'}]}},\n",
       "   'message_buffer': []},\n",
       "  'DirectorAgent': {'type': 'ChatAgentContainerState',\n",
       "   'version': '1.0.0',\n",
       "   'agent_state': {'type': 'AssistantAgentState',\n",
       "    'version': '1.0.0',\n",
       "    'llm_context': {'messages': []}},\n",
       "   'message_buffer': [{'id': 'e8b27c4a-ad9a-4bc3-bb6a-91c8c46c7569',\n",
       "     'source': 'user',\n",
       "     'models_usage': None,\n",
       "     'metadata': {},\n",
       "     'created_at': datetime.datetime(2025, 7, 13, 1, 2, 59, 558799, tzinfo=datetime.timezone.utc),\n",
       "     'content': \"Write a crime novel on the topic of 'The Great Heist' and then make a movie script on it.\",\n",
       "     'type': 'TextMessage'},\n",
       "    {'id': 'a585876d-4e63-4ace-92bc-177b56b8c4cb',\n",
       "     'source': 'WriterAgent',\n",
       "     'models_usage': {'prompt_tokens': 54, 'completion_tokens': 143},\n",
       "     'metadata': {},\n",
       "     'created_at': datetime.datetime(2025, 7, 13, 1, 3, 2, 706985, tzinfo=datetime.timezone.utc),\n",
       "     'content': \"**Novel:**\\n\\nThe vault's empty.  Not a trace.  But whispers trail,  a network of deceit.  Only one could pull it off:  the phantom thief, the Maestro.\\n\\n**Movie Script:**\\n\\n**(Opening scene):**  Empty vault.  Security footage flickers.  A single, masked figure vanishes.  **(Voiceover):**  The Great Heist.  Years later, a detective unearths clues.  **(Cut to interrogation):**  Suspect denies all.  **(Cut to flashback):**  Maestro's past, a web of connections.  **(Final scene):**  A face emerges from the shadows.  The Maestro.\\n\\n\\n\",\n",
       "     'type': 'TextMessage'}]},\n",
       "  'RoundRobinGroupChatManager': {'type': 'RoundRobinManagerState',\n",
       "   'version': '1.0.0',\n",
       "   'message_thread': [{'id': 'e8b27c4a-ad9a-4bc3-bb6a-91c8c46c7569',\n",
       "     'source': 'user',\n",
       "     'models_usage': None,\n",
       "     'metadata': {},\n",
       "     'created_at': datetime.datetime(2025, 7, 13, 1, 2, 59, 558799, tzinfo=datetime.timezone.utc),\n",
       "     'content': \"Write a crime novel on the topic of 'The Great Heist' and then make a movie script on it.\",\n",
       "     'type': 'TextMessage'},\n",
       "    {'id': 'a585876d-4e63-4ace-92bc-177b56b8c4cb',\n",
       "     'source': 'WriterAgent',\n",
       "     'models_usage': {'prompt_tokens': 54, 'completion_tokens': 143},\n",
       "     'metadata': {},\n",
       "     'created_at': datetime.datetime(2025, 7, 13, 1, 3, 2, 706985, tzinfo=datetime.timezone.utc),\n",
       "     'content': \"**Novel:**\\n\\nThe vault's empty.  Not a trace.  But whispers trail,  a network of deceit.  Only one could pull it off:  the phantom thief, the Maestro.\\n\\n**Movie Script:**\\n\\n**(Opening scene):**  Empty vault.  Security footage flickers.  A single, masked figure vanishes.  **(Voiceover):**  The Great Heist.  Years later, a detective unearths clues.  **(Cut to interrogation):**  Suspect denies all.  **(Cut to flashback):**  Maestro's past, a web of connections.  **(Final scene):**  A face emerges from the shadows.  The Maestro.\\n\\n\\n\",\n",
       "     'type': 'TextMessage'}],\n",
       "   'current_turn': 0,\n",
       "   'next_speaker_index': 1}}}"
      ]
     },
     "execution_count": 14,
     "metadata": {},
     "output_type": "execute_result"
    }
   ],
   "source": [
    "team_state"
   ]
  },
  {
   "cell_type": "code",
   "execution_count": 19,
   "id": "e86a0235",
   "metadata": {},
   "outputs": [
    {
     "data": {
      "text/plain": [
       "dict"
      ]
     },
     "execution_count": 19,
     "metadata": {},
     "output_type": "execute_result"
    }
   ],
   "source": [
    "type(team_state)  # This will show the type of the saved state"
   ]
  },
  {
   "cell_type": "code",
   "execution_count": 20,
   "id": "50ac2c7c",
   "metadata": {},
   "outputs": [
    {
     "name": "stdout",
     "output_type": "stream",
     "text": [
      "Team state saved successfully to team_state.json\n"
     ]
    }
   ],
   "source": [
    "import json\n",
    "from datetime import datetime\n",
    "\n",
    "# Custom JSON encoder to handle datetime objects\n",
    "class DateTimeEncoder(json.JSONEncoder):\n",
    "    def default(self, obj):\n",
    "        if isinstance(obj, datetime):\n",
    "            return obj.isoformat()\n",
    "        return super().default(obj)\n",
    "\n",
    "# Save team state with custom encoder\n",
    "with open(\"team_state.json\", \"w\") as f:\n",
    "    json.dump(team_state, f, cls=DateTimeEncoder, indent=2)\n",
    "\n",
    "print(\"Team state saved successfully to team_state.json\")"
   ]
  },
  {
   "cell_type": "code",
   "execution_count": null,
   "id": "cde6a3af",
   "metadata": {},
   "outputs": [],
   "source": []
  },
  {
   "cell_type": "code",
   "execution_count": null,
   "id": "90f7a7a5",
   "metadata": {},
   "outputs": [],
   "source": []
  }
 ],
 "metadata": {
  "kernelspec": {
   "display_name": "autogen-env",
   "language": "python",
   "name": "python3"
  },
  "language_info": {
   "codemirror_mode": {
    "name": "ipython",
    "version": 3
   },
   "file_extension": ".py",
   "mimetype": "text/x-python",
   "name": "python",
   "nbconvert_exporter": "python",
   "pygments_lexer": "ipython3",
   "version": "3.11.1"
  }
 },
 "nbformat": 4,
 "nbformat_minor": 5
}
