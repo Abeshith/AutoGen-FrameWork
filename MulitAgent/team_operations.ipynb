{
 "cells": [
  {
   "cell_type": "code",
   "execution_count": 3,
   "id": "84bf13e3",
   "metadata": {},
   "outputs": [],
   "source": [
    "from autogen_agentchat.agents import AssistantAgent\n",
    "from autogen_ext.models.openai import OpenAIChatCompletionClient\n",
    "from autogen_agentchat.messages import TextMessage\n",
    "from dotenv import load_dotenv\n",
    "import asyncio\n",
    "import os\n",
    "\n",
    "load_dotenv()\n",
    "api_key = os.getenv(\"GOOGLE_API_KEY\")"
   ]
  },
  {
   "cell_type": "code",
   "execution_count": 14,
   "id": "69e86e8a",
   "metadata": {},
   "outputs": [],
   "source": [
    "model_client = OpenAIChatCompletionClient(\n",
    "    model = \"gemini-2.0-flash\",\n",
    "    api_key = api_key,\n",
    ")"
   ]
  },
  {
   "cell_type": "code",
   "execution_count": 47,
   "id": "bf7d0e48",
   "metadata": {},
   "outputs": [],
   "source": [
    "add_agent_one = AssistantAgent(\n",
    "    name=\"add_agent_one\",\n",
    "    description=\"An agent that just adds numbers.\",\n",
    "    model_client=model_client,\n",
    "    system_message=\"Add 1 to the number and give result as output.if nothing is given then start adding from 0 or start with 0.\",\n",
    ")\n",
    "\n",
    "add_agent_two = AssistantAgent(\n",
    "    name=\"add_agent_two\",\n",
    "    description=\"An agent that just adds numbers.\",\n",
    "    model_client=model_client,\n",
    "    system_message=\"Add 1 to the number which is given by the before agent from adding it from user input.\",\n",
    ")\n",
    "\n",
    "add_agent_three = AssistantAgent(\n",
    "    name=\"add_agent_three\",\n",
    "    description=\"An agent that just adds numbers.\",\n",
    "    model_client=model_client,\n",
    "    system_message=\"Add 1 to the number which is given to you which is given by the before agent.\",\n",
    ")"
   ]
  },
  {
   "cell_type": "code",
   "execution_count": 48,
   "id": "cf86b01e",
   "metadata": {},
   "outputs": [],
   "source": [
    "from autogen_agentchat.teams import RoundRobinGroupChat\n",
    "\n",
    "team = RoundRobinGroupChat(\n",
    "    participants=[add_agent_one, add_agent_two, add_agent_three],\n",
    "    max_turns=3,\n",
    ")"
   ]
  },
  {
   "cell_type": "code",
   "execution_count": 40,
   "id": "75e21388",
   "metadata": {},
   "outputs": [
    {
     "name": "stdout",
     "output_type": "stream",
     "text": [
      "---------- TextMessage (user) ----------\n",
      "The First Number is 0.\n",
      "---------- TextMessage (add_agent_one) ----------\n",
      "1\n",
      "\n",
      "---------- TextMessage (add_agent_two) ----------\n",
      "2\n",
      "\n",
      "---------- TextMessage (add_agent_three) ----------\n",
      "3\n",
      "\n"
     ]
    },
    {
     "data": {
      "text/plain": [
       "TaskResult(messages=[TextMessage(id='80fe5a5e-246d-43ab-b096-da367e8c375e', source='user', models_usage=None, metadata={}, created_at=datetime.datetime(2025, 7, 11, 6, 55, 24, 146523, tzinfo=datetime.timezone.utc), content='The First Number is 0.', type='TextMessage'), TextMessage(id='d9e14b76-f3f4-4217-b1dc-7f32c2ca13b6', source='add_agent_one', models_usage=RequestUsage(prompt_tokens=40, completion_tokens=2), metadata={}, created_at=datetime.datetime(2025, 7, 11, 6, 55, 25, 187442, tzinfo=datetime.timezone.utc), content='1\\n', type='TextMessage'), TextMessage(id='6a632120-b232-47dc-80ed-822a2bfe5634', source='add_agent_two', models_usage=RequestUsage(prompt_tokens=29, completion_tokens=2), metadata={}, created_at=datetime.datetime(2025, 7, 11, 6, 55, 25, 961511, tzinfo=datetime.timezone.utc), content='2\\n', type='TextMessage'), TextMessage(id='d460ac88-932f-46b4-a34a-0512e15c06b9', source='add_agent_three', models_usage=RequestUsage(prompt_tokens=30, completion_tokens=2), metadata={}, created_at=datetime.datetime(2025, 7, 11, 6, 55, 27, 24802, tzinfo=datetime.timezone.utc), content='3\\n', type='TextMessage')], stop_reason='Maximum number of turns 3 reached.')"
      ]
     },
     "execution_count": 40,
     "metadata": {},
     "output_type": "execute_result"
    }
   ],
   "source": [
    "from autogen_agentchat.ui import Console\n",
    "\n",
    "await Console(team.run_stream(task = \"The First Number is 0.\"))"
   ]
  },
  {
   "cell_type": "markdown",
   "id": "bdf60398",
   "metadata": {},
   "source": [
    "### Resuming Operation"
   ]
  },
  {
   "cell_type": "code",
   "execution_count": 41,
   "id": "cee8f722",
   "metadata": {},
   "outputs": [
    {
     "name": "stdout",
     "output_type": "stream",
     "text": [
      "---------- TextMessage (add_agent_one) ----------\n",
      "4\n",
      "\n",
      "---------- TextMessage (add_agent_two) ----------\n",
      "5\n",
      "\n",
      "---------- TextMessage (add_agent_three) ----------\n",
      "6\n",
      "\n"
     ]
    },
    {
     "data": {
      "text/plain": [
       "TaskResult(messages=[TextMessage(id='98fe707a-883e-41fe-9717-54ec2aba2821', source='add_agent_one', models_usage=RequestUsage(prompt_tokens=46, completion_tokens=2), metadata={}, created_at=datetime.datetime(2025, 7, 11, 6, 55, 29, 722562, tzinfo=datetime.timezone.utc), content='4\\n', type='TextMessage'), TextMessage(id='007fe669-27e8-48c6-a74b-253c1aba2e10', source='add_agent_two', models_usage=RequestUsage(prompt_tokens=35, completion_tokens=2), metadata={}, created_at=datetime.datetime(2025, 7, 11, 6, 55, 30, 931849, tzinfo=datetime.timezone.utc), content='5\\n', type='TextMessage'), TextMessage(id='a9805312-f3c8-480f-952d-663eb53b3661', source='add_agent_three', models_usage=RequestUsage(prompt_tokens=36, completion_tokens=2), metadata={}, created_at=datetime.datetime(2025, 7, 11, 6, 55, 31, 587916, tzinfo=datetime.timezone.utc), content='6\\n', type='TextMessage')], stop_reason='Maximum number of turns 3 reached.')"
      ]
     },
     "execution_count": 41,
     "metadata": {},
     "output_type": "execute_result"
    }
   ],
   "source": [
    "await Console(team.run_stream())"
   ]
  },
  {
   "cell_type": "code",
   "execution_count": 42,
   "id": "05395202",
   "metadata": {},
   "outputs": [
    {
     "name": "stdout",
     "output_type": "stream",
     "text": [
      "---------- TextMessage (user) ----------\n",
      "What was the last largest number you got as result in the converstaion?.\n",
      "---------- TextMessage (add_agent_one) ----------\n",
      "6\n",
      "\n",
      "---------- TextMessage (add_agent_two) ----------\n",
      "The last largest number I got as a result in our conversation was 7.\n",
      "\n",
      "---------- TextMessage (add_agent_three) ----------\n",
      "8\n",
      "\n"
     ]
    },
    {
     "data": {
      "text/plain": [
       "TaskResult(messages=[TextMessage(id='0ce37bf1-75f7-4264-b164-b6bc949e4f50', source='user', models_usage=None, metadata={}, created_at=datetime.datetime(2025, 7, 11, 6, 55, 32, 620895, tzinfo=datetime.timezone.utc), content='What was the last largest number you got as result in the converstaion?.', type='TextMessage'), TextMessage(id='e5bfe8f1-6ad3-4499-abc7-9eef2498ace3', source='add_agent_one', models_usage=RequestUsage(prompt_tokens=68, completion_tokens=2), metadata={}, created_at=datetime.datetime(2025, 7, 11, 6, 55, 33, 347136, tzinfo=datetime.timezone.utc), content='6\\n', type='TextMessage'), TextMessage(id='4b665d33-ffb2-4088-9617-4d40ed1964f7', source='add_agent_two', models_usage=RequestUsage(prompt_tokens=57, completion_tokens=17), metadata={}, created_at=datetime.datetime(2025, 7, 11, 6, 55, 34, 478294, tzinfo=datetime.timezone.utc), content='The last largest number I got as a result in our conversation was 7.\\n', type='TextMessage'), TextMessage(id='7a996804-6717-4259-a18c-b078dc48ad46', source='add_agent_three', models_usage=RequestUsage(prompt_tokens=73, completion_tokens=2), metadata={}, created_at=datetime.datetime(2025, 7, 11, 6, 55, 35, 144618, tzinfo=datetime.timezone.utc), content='8\\n', type='TextMessage')], stop_reason='Maximum number of turns 3 reached.')"
      ]
     },
     "execution_count": 42,
     "metadata": {},
     "output_type": "execute_result"
    }
   ],
   "source": [
    "await Console(team.run_stream(task = \"What was the last largest number you got as result in the converstaion?.\"))"
   ]
  },
  {
   "cell_type": "code",
   "execution_count": 43,
   "id": "9411464d",
   "metadata": {},
   "outputs": [],
   "source": [
    "await team.reset()"
   ]
  },
  {
   "cell_type": "code",
   "execution_count": 49,
   "id": "124d742d",
   "metadata": {},
   "outputs": [
    {
     "name": "stdout",
     "output_type": "stream",
     "text": [
      "---------- TextMessage (user) ----------\n",
      "\n",
      "---------- TextMessage (add_agent_one) ----------\n",
      "1\n",
      "\n",
      "---------- TextMessage (add_agent_two) ----------\n",
      "2\n",
      "\n",
      "---------- TextMessage (add_agent_three) ----------\n",
      "3\n",
      "\n"
     ]
    },
    {
     "data": {
      "text/plain": [
       "TaskResult(messages=[TextMessage(id='955cf871-b504-4688-936f-6d8d38a5f7f3', source='user', models_usage=None, metadata={}, created_at=datetime.datetime(2025, 7, 11, 6, 56, 41, 758673, tzinfo=datetime.timezone.utc), content='', type='TextMessage'), TextMessage(id='38af827a-b67c-47f5-aa58-9c6a19b753d1', source='add_agent_one', models_usage=RequestUsage(prompt_tokens=29, completion_tokens=2), metadata={}, created_at=datetime.datetime(2025, 7, 11, 6, 56, 42, 398304, tzinfo=datetime.timezone.utc), content='1\\n', type='TextMessage'), TextMessage(id='98144fec-37b9-4e6e-9402-057b502e40c0', source='add_agent_two', models_usage=RequestUsage(prompt_tokens=23, completion_tokens=2), metadata={}, created_at=datetime.datetime(2025, 7, 11, 6, 56, 43, 616577, tzinfo=datetime.timezone.utc), content='2\\n', type='TextMessage'), TextMessage(id='638550ef-2925-4897-a9b5-6cfc01ba07ef', source='add_agent_three', models_usage=RequestUsage(prompt_tokens=24, completion_tokens=2), metadata={}, created_at=datetime.datetime(2025, 7, 11, 6, 56, 44, 319114, tzinfo=datetime.timezone.utc), content='3\\n', type='TextMessage')], stop_reason='Maximum number of turns 3 reached.')"
      ]
     },
     "execution_count": 49,
     "metadata": {},
     "output_type": "execute_result"
    }
   ],
   "source": [
    "await Console(team.run_stream(task=\"\"))"
   ]
  },
  {
   "cell_type": "code",
   "execution_count": null,
   "id": "cd93698e",
   "metadata": {},
   "outputs": [],
   "source": []
  }
 ],
 "metadata": {
  "kernelspec": {
   "display_name": "autogen-env",
   "language": "python",
   "name": "python3"
  },
  "language_info": {
   "codemirror_mode": {
    "name": "ipython",
    "version": 3
   },
   "file_extension": ".py",
   "mimetype": "text/x-python",
   "name": "python",
   "nbconvert_exporter": "python",
   "pygments_lexer": "ipython3",
   "version": "3.11.1"
  }
 },
 "nbformat": 4,
 "nbformat_minor": 5
}
