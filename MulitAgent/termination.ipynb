{
 "cells": [
  {
   "cell_type": "code",
   "execution_count": 33,
   "id": "15c829a1",
   "metadata": {},
   "outputs": [],
   "source": [
    "from autogen_agentchat.agents import AssistantAgent\n",
    "from autogen_ext.models.openai import OpenAIChatCompletionClient\n",
    "from autogen_agentchat.messages import TextMessage\n",
    "from dotenv import load_dotenv\n",
    "import asyncio\n",
    "import os\n",
    "\n",
    "load_dotenv()\n",
    "api_key = os.getenv(\"GOOGLE_API_KEY\")"
   ]
  },
  {
   "cell_type": "code",
   "execution_count": 34,
   "id": "fac4b809",
   "metadata": {},
   "outputs": [],
   "source": [
    "model_client = OpenAIChatCompletionClient(\n",
    "    model = \"gemini-2.5-flash\",\n",
    "    api_key = api_key,\n",
    ")"
   ]
  },
  {
   "cell_type": "code",
   "execution_count": 35,
   "id": "889bd1da",
   "metadata": {},
   "outputs": [],
   "source": [
    "add_agent_one = AssistantAgent(\n",
    "    name=\"add_agent_one\",\n",
    "    description=\"An agent that just adds numbers.\",\n",
    "    model_client=model_client,\n",
    "    system_message=\"Add 1 to the number and give result as output.if nothing is given then start adding from 0 or start with 0.\",\n",
    ")\n",
    "\n",
    "add_agent_two = AssistantAgent(\n",
    "    name=\"add_agent_two\",\n",
    "    description=\"An agent that just adds numbers.\",\n",
    "    model_client=model_client,\n",
    "    system_message=\"Add 1 to the number which is given by the before agent from adding it from user input.\",\n",
    ")\n",
    "\n",
    "add_agent_three = AssistantAgent(\n",
    "    name=\"add_agent_three\",\n",
    "    description=\"An agent that just adds numbers.\",\n",
    "    model_client=model_client,\n",
    "    system_message=\"Add 1 to the number which is given to you which is given by the before agent.\",\n",
    ")"
   ]
  },
  {
   "cell_type": "markdown",
   "id": "37272c6b",
   "metadata": {},
   "source": [
    "### MaxMessageTermination"
   ]
  },
  {
   "cell_type": "code",
   "execution_count": 36,
   "id": "348d24c6",
   "metadata": {},
   "outputs": [],
   "source": [
    "from autogen_agentchat.conditions import MaxMessageTermination\n",
    "\n",
    "max_termination = MaxMessageTermination(2)"
   ]
  },
  {
   "cell_type": "code",
   "execution_count": 37,
   "id": "385c3e13",
   "metadata": {},
   "outputs": [],
   "source": [
    "from autogen_agentchat.teams import RoundRobinGroupChat\n",
    "\n",
    "team = RoundRobinGroupChat(\n",
    "    participants=[add_agent_one, add_agent_two, add_agent_three],\n",
    "    termination_condition= max_termination,\n",
    ")"
   ]
  },
  {
   "cell_type": "code",
   "execution_count": 38,
   "id": "b8d590f3",
   "metadata": {},
   "outputs": [
    {
     "name": "stdout",
     "output_type": "stream",
     "text": [
      "---------- TextMessage (user) ----------\n",
      "the First Numer is 1\n",
      "---------- TextMessage (add_agent_one) ----------\n",
      "2\n"
     ]
    },
    {
     "data": {
      "text/plain": [
       "TaskResult(messages=[TextMessage(id='7e1b28e4-6d2b-48e2-a673-0b1008e307db', source='user', models_usage=None, metadata={}, created_at=datetime.datetime(2025, 7, 11, 7, 39, 53, 788294, tzinfo=datetime.timezone.utc), content='the First Numer is 1', type='TextMessage'), TextMessage(id='5998e1fa-829d-4630-89af-8b45f9e1fc3d', source='add_agent_one', models_usage=RequestUsage(prompt_tokens=36, completion_tokens=1), metadata={}, created_at=datetime.datetime(2025, 7, 11, 7, 39, 54, 469916, tzinfo=datetime.timezone.utc), content='2', type='TextMessage')], stop_reason='Maximum number of messages 2 reached, current message count: 2')"
      ]
     },
     "execution_count": 38,
     "metadata": {},
     "output_type": "execute_result"
    }
   ],
   "source": [
    "from autogen_agentchat.ui import Console\n",
    "\n",
    "await Console(team.run_stream(task = \"the First Numer is 1\"))"
   ]
  },
  {
   "cell_type": "markdown",
   "id": "3c09f558",
   "metadata": {},
   "source": [
    "### TextMentionTermination"
   ]
  },
  {
   "cell_type": "code",
   "execution_count": 39,
   "id": "45a00286",
   "metadata": {},
   "outputs": [],
   "source": [
    "plot_agent = AssistantAgent(\n",
    "    name=\"PlotAgent\",\n",
    "    description=\"An agent that generates a plot based on user input.\",    \n",
    "    model_client=model_client,\n",
    "    system_message=\"You are a creative plot writer. Generate imaginative plots in 15 - 20  words\",\n",
    ")\n",
    "\n",
    "character_agent = AssistantAgent(\n",
    "    name=\"CharacterAgent\",\n",
    "    description=\"An agent that generates characters based on user input.\",\n",
    "    model_client=model_client,\n",
    "    system_message=\"You are a creative character designer. Develop the characters with sad backstores with 10 words.\",\n",
    ")\n",
    "\n",
    "ending_agent = AssistantAgent(\n",
    "    name=\"EndingAgent\",\n",
    "    description=\"An agent that generates an ending based on user input.\",\n",
    "    model_client=model_client,\n",
    "    system_message=\"You are a creative ending writer Who specialises in writing the best ending of the story within 10 words and when complete make sure provide 'THE END' .\",\n",
    ")"
   ]
  },
  {
   "cell_type": "code",
   "execution_count": 40,
   "id": "c7eaeb58",
   "metadata": {},
   "outputs": [],
   "source": [
    "from autogen_agentchat.conditions import TextMentionTermination\n",
    "from autogen_agentchat.teams import RoundRobinGroupChat\n",
    "\n",
    "text_termination = TextMentionTermination(\"THE END\")\n",
    "\n",
    "team = RoundRobinGroupChat(\n",
    "    participants=[plot_agent, character_agent, ending_agent],\n",
    "    termination_condition=text_termination,\n",
    ")"
   ]
  },
  {
   "cell_type": "code",
   "execution_count": 41,
   "id": "2b0e6480",
   "metadata": {},
   "outputs": [
    {
     "name": "stdout",
     "output_type": "stream",
     "text": [
      "---------- TextMessage (user) ----------\n",
      "A Love Story between a Girl and Boy.\n",
      "---------- TextMessage (PlotAgent) ----------\n",
      "They met in recurring dreams, unknowingly building a shared world. Reality united them years later, fulfilling a love whispered by destiny.\n",
      "---------- TextMessage (CharacterAgent) ----------\n",
      "**Character 1: The Girl**\n",
      "**Name:** Elara\n",
      "**Sad Backstory:** Her dreams were her only escape from a suffocating, bleak reality.\n",
      "\n",
      "**Character 2: The Boy**\n",
      "**Name:** Ronan\n",
      "**Sad Backstory:** He woke alone, yearning for the unknown comfort of his dream world.\n",
      "---------- TextMessage (EndingAgent) ----------\n",
      "Reality embraced their dream, forever erasing lonely, yearning pasts.\n",
      "THE END\n"
     ]
    },
    {
     "data": {
      "text/plain": [
       "TaskResult(messages=[TextMessage(id='54c3c2bd-1ecb-449d-a3a7-93640d72fa33', source='user', models_usage=None, metadata={}, created_at=datetime.datetime(2025, 7, 11, 7, 40, 12, 955076, tzinfo=datetime.timezone.utc), content='A Love Story between a Girl and Boy.', type='TextMessage'), TextMessage(id='1f51c91c-af53-4b3b-8d43-54a800c1a8fc', source='PlotAgent', models_usage=RequestUsage(prompt_tokens=31, completion_tokens=25), metadata={}, created_at=datetime.datetime(2025, 7, 11, 7, 40, 18, 556702, tzinfo=datetime.timezone.utc), content='They met in recurring dreams, unknowingly building a shared world. Reality united them years later, fulfilling a love whispered by destiny.', type='TextMessage'), TextMessage(id='9a5041ad-d21d-4a94-ba3a-b6c0a72dede7', source='CharacterAgent', models_usage=RequestUsage(prompt_tokens=57, completion_tokens=68), metadata={}, created_at=datetime.datetime(2025, 7, 11, 7, 40, 23, 438153, tzinfo=datetime.timezone.utc), content='**Character 1: The Girl**\\n**Name:** Elara\\n**Sad Backstory:** Her dreams were her only escape from a suffocating, bleak reality.\\n\\n**Character 2: The Boy**\\n**Name:** Ronan\\n**Sad Backstory:** He woke alone, yearning for the unknown comfort of his dream world.', type='TextMessage'), TextMessage(id='30c901aa-8067-41c6-9926-34b3cd69cedd', source='EndingAgent', models_usage=RequestUsage(prompt_tokens=138, completion_tokens=16), metadata={}, created_at=datetime.datetime(2025, 7, 11, 7, 40, 26, 692934, tzinfo=datetime.timezone.utc), content='Reality embraced their dream, forever erasing lonely, yearning pasts.\\nTHE END', type='TextMessage')], stop_reason=\"Text 'THE END' mentioned\")"
      ]
     },
     "execution_count": 41,
     "metadata": {},
     "output_type": "execute_result"
    }
   ],
   "source": [
    "await Console(team.run_stream(task =\"A Love Story between a Girl and Boy.\"))"
   ]
  },
  {
   "cell_type": "markdown",
   "id": "511c141d",
   "metadata": {},
   "source": [
    "### Combined Termniation"
   ]
  },
  {
   "cell_type": "code",
   "execution_count": 42,
   "id": "854712bd",
   "metadata": {},
   "outputs": [],
   "source": [
    "combined_termination = TextMentionTermination(\"THE END\") | MaxMessageTermination(5)\n",
    "\n",
    "team = RoundRobinGroupChat(\n",
    "    participants=[plot_agent, character_agent, ending_agent],\n",
    "    termination_condition=combined_termination,\n",
    ")"
   ]
  },
  {
   "cell_type": "code",
   "execution_count": 43,
   "id": "fde5d867",
   "metadata": {},
   "outputs": [
    {
     "name": "stdout",
     "output_type": "stream",
     "text": [
      "---------- TextMessage (user) ----------\n",
      "The Love Story between a Boy and Girl.\n",
      "---------- TextMessage (PlotAgent) ----------\n",
      "Childhood rivals, they only found common ground on a perilous adventure, discovering an unlikely, enduring love amidst the chaos.\n",
      "---------- TextMessage (CharacterAgent) ----------\n",
      "**Character 1: The Boy**\n",
      "**Name:** Kael\n",
      "**Sad Backstory:** His parents' relentless ambition stole his childhood and joy.\n",
      "\n",
      "**Character 2: The Girl**\n",
      "**Name:** Lyra\n",
      "**Sad Backstory:** Feared for her sharp wit, she craved genuine connection.\n",
      "---------- TextMessage (EndingAgent) ----------\n",
      "Rivals united, finding love, joy, and true connection.\n",
      "THE END\n"
     ]
    },
    {
     "data": {
      "text/plain": [
       "TaskResult(messages=[TextMessage(id='5542a88a-f339-489a-a0fc-695bfa37a03a', source='user', models_usage=None, metadata={}, created_at=datetime.datetime(2025, 7, 11, 7, 48, 0, 648576, tzinfo=datetime.timezone.utc), content='The Love Story between a Boy and Girl.', type='TextMessage'), TextMessage(id='c9babed7-bdc0-42c5-afc5-053b1d420d58', source='PlotAgent', models_usage=RequestUsage(prompt_tokens=67, completion_tokens=24), metadata={}, created_at=datetime.datetime(2025, 7, 11, 7, 48, 5, 820263, tzinfo=datetime.timezone.utc), content='Childhood rivals, they only found common ground on a perilous adventure, discovering an unlikely, enduring love amidst the chaos.', type='TextMessage'), TextMessage(id='c5b2eba4-8332-4760-b8f3-d08044f359ef', source='CharacterAgent', models_usage=RequestUsage(prompt_tokens=161, completion_tokens=65), metadata={}, created_at=datetime.datetime(2025, 7, 11, 7, 48, 11, 345842, tzinfo=datetime.timezone.utc), content=\"**Character 1: The Boy**\\n**Name:** Kael\\n**Sad Backstory:** His parents' relentless ambition stole his childhood and joy.\\n\\n**Character 2: The Girl**\\n**Name:** Lyra\\n**Sad Backstory:** Feared for her sharp wit, she craved genuine connection.\", type='TextMessage'), TextMessage(id='78e26445-82d0-48c0-9b58-4337d5df6827', source='EndingAgent', models_usage=RequestUsage(prompt_tokens=256, completion_tokens=16), metadata={}, created_at=datetime.datetime(2025, 7, 11, 7, 48, 13, 907073, tzinfo=datetime.timezone.utc), content='Rivals united, finding love, joy, and true connection.\\nTHE END', type='TextMessage')], stop_reason=\"Text 'THE END' mentioned\")"
      ]
     },
     "execution_count": 43,
     "metadata": {},
     "output_type": "execute_result"
    }
   ],
   "source": [
    "await Console(team.run_stream(task = \"The Love Story between a Boy and Girl.\"))"
   ]
  },
  {
   "cell_type": "markdown",
   "id": "8da3c179",
   "metadata": {},
   "source": [
    "### External Termination"
   ]
  },
  {
   "cell_type": "code",
   "execution_count": 44,
   "id": "2cc876d7",
   "metadata": {},
   "outputs": [],
   "source": [
    "plot_agent = AssistantAgent(\n",
    "    name=\"PlotAgent\",\n",
    "    description=\"An agent that generates a plot based on user input.\",    \n",
    "    model_client=model_client,\n",
    "    system_message=\"You are a creative plot writer. Generate imaginative plots in 15 - 20  words\",\n",
    ")\n",
    "\n",
    "character_agent = AssistantAgent(\n",
    "    name=\"CharacterAgent\",\n",
    "    description=\"An agent that generates characters based on user input.\",\n",
    "    model_client=model_client,\n",
    "    system_message=\"You are a creative character designer. Develop the characters with sad backstores with 10 words.\",\n",
    ")\n",
    "\n",
    "ending_agent = AssistantAgent(\n",
    "    name=\"EndingAgent\",\n",
    "    description=\"An agent that generates an ending based on user input.\",\n",
    "    model_client=model_client,\n",
    "    system_message=\"You are a creative ending writer Who specialises in writing the best ending of the story within 10 words and when complete make sure provide 'THE END' .\",\n",
    ")"
   ]
  },
  {
   "cell_type": "code",
   "execution_count": null,
   "id": "720b94e2",
   "metadata": {},
   "outputs": [],
   "source": [
    "from autogen_agentchat.conditions import ExternalTermination\n",
    "from autogen_agentchat.teams import RoundRobinGroupChat\n",
    "from autogen_agentchat.ui import Console\n",
    "import asyncio\n",
    "\n",
    "external_termination = ExternalTermination()\n",
    "\n",
    "team = RoundRobinGroupChat(\n",
    "    [plot_agent, character_agent],\n",
    "    termination_condition= external_termination\n",
    ")"
   ]
  },
  {
   "cell_type": "code",
   "execution_count": null,
   "id": "fb791e80",
   "metadata": {},
   "outputs": [
    {
     "name": "stdout",
     "output_type": "stream",
     "text": [
      "---------- TextMessage (user) ----------\n",
      "A Love Story between a boy and a girl.\n"
     ]
    },
    {
     "name": "stdout",
     "output_type": "stream",
     "text": [
      "---------- TextMessage (PlotAgent) ----------\n",
      "He saw her soul, she healed his heart. Together, they navigated life's storms, their bond deepening into an unbreakable, forever love.\n",
      "---------- TextMessage (CharacterAgent) ----------\n",
      "**Character 1: Ethan**\n",
      "Grief consumed him; silence was his only, lonely companion.\n",
      "\n",
      "**Character 2: Luna**\n",
      "Suffered silently, no one ever truly seeing her deepest wounds.\n",
      "---------- TextMessage (EndingAgent) ----------\n",
      "Healed, seen, loved; their souls finally found home.\n",
      "THE END\n",
      "---------- TextMessage (PlotAgent) ----------\n",
      "Ethan's silent grief met Luna's unseen pain. Seeing each other, their love healed wounds, guiding their souls home.\n",
      "---------- TextMessage (CharacterAgent) ----------\n",
      "That's a profoundly beautiful and peaceful end for Ethan and Luna. \"Healed, seen, loved; their souls finally found home\" perfectly encapsulates the journey of two wounded individuals finding solace and belonging in each other. It's a very touching resolution.\n"
     ]
    }
   ],
   "source": [
    "run = await asyncio.create_task(Console(team.run_stream(task = \"A Love Story between a boy and a girl.\")))\n",
    "\n",
    "await asyncio.sleep(0.2)\n",
    "external_termination.set()\n",
    "\n",
    "await run"
   ]
  },
  {
   "cell_type": "code",
   "execution_count": null,
   "id": "d1042748",
   "metadata": {},
   "outputs": [],
   "source": []
  }
 ],
 "metadata": {
  "kernelspec": {
   "display_name": "autogen-env",
   "language": "python",
   "name": "python3"
  },
  "language_info": {
   "codemirror_mode": {
    "name": "ipython",
    "version": 3
   },
   "file_extension": ".py",
   "mimetype": "text/x-python",
   "name": "python",
   "nbconvert_exporter": "python",
   "pygments_lexer": "ipython3",
   "version": "3.11.1"
  }
 },
 "nbformat": 4,
 "nbformat_minor": 5
}
