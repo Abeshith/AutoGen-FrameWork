{
 "cells": [
  {
   "cell_type": "code",
   "execution_count": 1,
   "id": "0df5adc8",
   "metadata": {},
   "outputs": [],
   "source": [
    "from autogen_agentchat.agents import AssistantAgent\n",
    "from autogen_ext.models.openai import OpenAIChatCompletionClient\n",
    "from dotenv import load_dotenv\n",
    "import asyncio\n",
    "import os\n",
    "\n",
    "load_dotenv()\n",
    "api_key = os.getenv(\"GOOGLE_API_KEY\")"
   ]
  },
  {
   "cell_type": "code",
   "execution_count": 3,
   "id": "d9f5676a",
   "metadata": {},
   "outputs": [],
   "source": [
    "from pydantic import BaseModel, Field\n",
    "\n",
    "class PlanentInfo(BaseModel):\n",
    "    name: str\n",
    "    color: str\n",
    "    distance_miles: str"
   ]
  },
  {
   "cell_type": "code",
   "execution_count": 4,
   "id": "929dcae0",
   "metadata": {},
   "outputs": [],
   "source": [
    "model_client = OpenAIChatCompletionClient(\n",
    "    model = \"gemini-1.5-flash-8b\",\n",
    "    api_key = api_key,\n",
    "    response_format = PlanentInfo,\n",
    ")"
   ]
  },
  {
   "cell_type": "code",
   "execution_count": 5,
   "id": "ebc88090",
   "metadata": {},
   "outputs": [],
   "source": [
    "agent = AssistantAgent(\n",
    "    name=\"PlanetAgent\",\n",
    "    model_client=model_client,\n",
    "    description=\"An agent that can provide information about planets.\",\n",
    "    system_message=\"You are a helpful assistant that can provide information about planets.\",\n",
    ")"
   ]
  },
  {
   "cell_type": "code",
   "execution_count": 11,
   "id": "fe921940",
   "metadata": {},
   "outputs": [
    {
     "name": "stdout",
     "output_type": "stream",
     "text": [
      "{\"color\": \"reddish\", \"distance_miles\": \"140000000\", \"name\": \"Mars\"}\n"
     ]
    }
   ],
   "source": [
    "from autogen_agentchat.messages import TextMessage\n",
    "async def test_structured_output():\n",
    "    task = TextMessage(\n",
    "            content=\"What is the color and distance of the planet Mars?\",\n",
    "            source=\"User\"\n",
    "        )\n",
    "    result = await agent.run(task=task)\n",
    "    print(result.messages[-1].content)\n",
    "\n",
    "await test_structured_output()"
   ]
  },
  {
   "cell_type": "code",
   "execution_count": null,
   "id": "153e365a",
   "metadata": {},
   "outputs": [],
   "source": []
  }
 ],
 "metadata": {
  "kernelspec": {
   "display_name": "autogen-env",
   "language": "python",
   "name": "python3"
  },
  "language_info": {
   "codemirror_mode": {
    "name": "ipython",
    "version": 3
   },
   "file_extension": ".py",
   "mimetype": "text/x-python",
   "name": "python",
   "nbconvert_exporter": "python",
   "pygments_lexer": "ipython3",
   "version": "3.11.1"
  }
 },
 "nbformat": 4,
 "nbformat_minor": 5
}
