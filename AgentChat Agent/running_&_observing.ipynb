{
 "cells": [
  {
   "cell_type": "code",
   "execution_count": 3,
   "id": "0a6319b2",
   "metadata": {},
   "outputs": [],
   "source": [
    "from autogen_agentchat.agents import AssistantAgent\n",
    "from autogen_ext.models.openai import OpenAIChatCompletionClient\n",
    "from dotenv import load_dotenv\n",
    "import asyncio\n",
    "import os\n",
    "\n",
    "load_dotenv()\n",
    "api_key = os.getenv(\"GOOGLE_API_KEY\")"
   ]
  },
  {
   "cell_type": "code",
   "execution_count": 2,
   "id": "8a9db3c7",
   "metadata": {},
   "outputs": [],
   "source": [
    "model_client = OpenAIChatCompletionClient(\n",
    "    model = \"gemini-1.5-flash-8b\",\n",
    "    api_key = api_key,\n",
    ")"
   ]
  },
  {
   "cell_type": "code",
   "execution_count": 6,
   "id": "8a4ff498",
   "metadata": {},
   "outputs": [],
   "source": [
    "async def web_search(query: str) -> str:\n",
    "    \"\"\"Find Information in the web\"\"\"\n",
    "    return \"The Labrador Retriever is a friendly and intelligent dog breed known for its loyalty and versatility.\""
   ]
  },
  {
   "cell_type": "code",
   "execution_count": 8,
   "id": "97ba8780",
   "metadata": {},
   "outputs": [],
   "source": [
    "agent = AssistantAgent(\n",
    "    name=\"WebSearchAgent\",\n",
    "    model_client=model_client,\n",
    "    description=\"An agent that can search the web for information.\",\n",
    "    tools=[web_search],\n",
    "    system_message=\"You are a helpful assistant that can search the web for information using the tool.\",\n",
    ")"
   ]
  },
  {
   "cell_type": "code",
   "execution_count": 11,
   "id": "871e495f",
   "metadata": {},
   "outputs": [
    {
     "name": "stdout",
     "output_type": "stream",
     "text": [
      "A Labrador Retriever is a friendly and intelligent dog breed known for its loyalty and versatility.\n",
      "\n"
     ]
    }
   ],
   "source": [
    "result = await agent.run(task=\"What is the Labrador Retriever?\")\n",
    "print(result.messages[-1].content)"
   ]
  },
  {
   "cell_type": "markdown",
   "id": "2fd36a8a",
   "metadata": {},
   "source": [
    "### on_messages()"
   ]
  },
  {
   "cell_type": "code",
   "execution_count": 18,
   "id": "7da0249f",
   "metadata": {},
   "outputs": [
    {
     "name": "stdout",
     "output_type": "stream",
     "text": [
      "[ToolCallRequestEvent(id='a740e6d4-2470-4629-b764-41c961b35463', source='WebSearchAgent', models_usage=RequestUsage(prompt_tokens=351, completion_tokens=7), metadata={}, created_at=datetime.datetime(2025, 7, 10, 15, 39, 57, 507678, tzinfo=datetime.timezone.utc), content=[FunctionCall(id='', arguments='{\"query\":\"Labrador Retriever\"}', name='web_search')], type='ToolCallRequestEvent'), ToolCallExecutionEvent(id='fb02db3a-15df-4b22-93d5-d8558b503c56', source='WebSearchAgent', models_usage=None, metadata={}, created_at=datetime.datetime(2025, 7, 10, 15, 39, 57, 509484, tzinfo=datetime.timezone.utc), content=[FunctionExecutionResult(content='The Labrador Retriever is a friendly and intelligent dog breed known for its loyalty and versatility.', name='web_search', call_id='', is_error=False)], type='ToolCallExecutionEvent')]\n",
      "\n",
      "\n",
      "\n",
      "\n",
      "id='510be9b3-e046-4f40-bb8b-b4e3d54465dc' source='WebSearchAgent' models_usage=None metadata={} created_at=datetime.datetime(2025, 7, 10, 15, 39, 57, 509484, tzinfo=datetime.timezone.utc) content='The Labrador Retriever is a friendly and intelligent dog breed known for its loyalty and versatility.' type='ToolCallSummaryMessage' tool_calls=[FunctionCall(id='', arguments='{\"query\":\"Labrador Retriever\"}', name='web_search')] results=[FunctionExecutionResult(content='The Labrador Retriever is a friendly and intelligent dog breed known for its loyalty and versatility.', name='web_search', call_id='', is_error=False)]\n"
     ]
    }
   ],
   "source": [
    "from autogen_core import CancellationToken\n",
    "from autogen_agentchat.messages import TextMessage\n",
    "async def assistant_run() -> None:\n",
    "    response = await agent.on_messages(\n",
    "        messages=[TextMessage(content=\"Find the Information about Labrador Retriever?\", source=\"user\")],\n",
    "        cancellation_token=CancellationToken(),\n",
    "    )\n",
    "    print(response.inner_messages)\n",
    "    print('\\n\\n\\n')\n",
    "    print(response.chat_message)\n",
    "\n",
    "await assistant_run()"
   ]
  },
  {
   "cell_type": "markdown",
   "id": "4dd47c7d",
   "metadata": {},
   "source": [
    "### Streaming Messages -> on_messages_stream()"
   ]
  },
  {
   "cell_type": "code",
   "execution_count": 24,
   "id": "45628741",
   "metadata": {},
   "outputs": [
    {
     "name": "stdout",
     "output_type": "stream",
     "text": [
      "---------- ToolCallRequestEvent (WebSearchAgent) ----------\n",
      "[FunctionCall(id='', arguments='{\"query\":\"Labrador Retriever\"}', name='web_search')]\n",
      "[Prompt tokens: 649, Completion tokens: 7]\n",
      "---------- ToolCallExecutionEvent (WebSearchAgent) ----------\n",
      "[FunctionExecutionResult(content='The Labrador Retriever is a friendly and intelligent dog breed known for its loyalty and versatility.', name='web_search', call_id='', is_error=False)]\n",
      "---------- WebSearchAgent ----------\n",
      "The Labrador Retriever is a friendly and intelligent dog breed known for its loyalty and versatility.\n",
      "---------- Summary ----------\n",
      "Number of inner messages: 2\n",
      "Total prompt tokens: 649\n",
      "Total completion tokens: 7\n",
      "Duration: 2.55 seconds\n"
     ]
    }
   ],
   "source": [
    "from autogen_agentchat.ui import Console\n",
    "\n",
    "async def assistant_run_stream() -> None:\n",
    "    await Console(\n",
    "        agent.on_messages_stream(\n",
    "        messages=[TextMessage(content=\"Find the Information about Labrador Retriever via the tool?\", source=\"User\")],\n",
    "        cancellation_token=CancellationToken(),\n",
    "    ),\n",
    "    output_stats=True\n",
    "    )\n",
    "\n",
    "await assistant_run_stream()"
   ]
  },
  {
   "cell_type": "code",
   "execution_count": null,
   "id": "67114b7f",
   "metadata": {},
   "outputs": [],
   "source": []
  },
  {
   "cell_type": "code",
   "execution_count": null,
   "id": "4ec024da",
   "metadata": {},
   "outputs": [],
   "source": []
  }
 ],
 "metadata": {
  "kernelspec": {
   "display_name": "autogen-env",
   "language": "python",
   "name": "python3"
  },
  "language_info": {
   "codemirror_mode": {
    "name": "ipython",
    "version": 3
   },
   "file_extension": ".py",
   "mimetype": "text/x-python",
   "name": "python",
   "nbconvert_exporter": "python",
   "pygments_lexer": "ipython3",
   "version": "3.11.1"
  }
 },
 "nbformat": 4,
 "nbformat_minor": 5
}
