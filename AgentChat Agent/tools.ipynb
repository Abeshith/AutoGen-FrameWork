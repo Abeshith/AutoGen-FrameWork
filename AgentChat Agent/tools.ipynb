{
 "cells": [
  {
   "cell_type": "code",
   "execution_count": 1,
   "id": "96197c3b",
   "metadata": {},
   "outputs": [],
   "source": [
    "from autogen_agentchat.agents import AssistantAgent\n",
    "from autogen_ext.models.openai import OpenAIChatCompletionClient\n",
    "from dotenv import load_dotenv\n",
    "import asyncio\n",
    "import os\n",
    "\n",
    "load_dotenv()\n",
    "api_key = os.getenv(\"GOOGLE_API_KEY\")"
   ]
  },
  {
   "cell_type": "code",
   "execution_count": 2,
   "id": "6d4a1a76",
   "metadata": {},
   "outputs": [],
   "source": [
    "model_client = OpenAIChatCompletionClient(\n",
    "    model = \"gemini-1.5-flash-8b\",\n",
    "    api_key = api_key,\n",
    ")"
   ]
  },
  {
   "cell_type": "code",
   "execution_count": 7,
   "id": "9d84ab79",
   "metadata": {},
   "outputs": [],
   "source": [
    "def get_weather(location:str) -> str:\n",
    "    \"\"\"\n",
    "    This function fetches the weather for a given location.\n",
    "    \"\"\"\n",
    "    return f\"The weather in {location} is sunny with a temperature of 25°C.\""
   ]
  },
  {
   "cell_type": "code",
   "execution_count": 14,
   "id": "dc977d8e",
   "metadata": {},
   "outputs": [],
   "source": [
    "assistant = AssistantAgent(\n",
    "    name=\"Weather_Assistant\",\n",
    "    model_client=model_client,\n",
    "    description=\"You are a Weather Assistant with expertise in providing the weather based on location.\",\n",
    "    system_message=\"You are a Weather Assistant with expertise in providing accurate and use the tools to get weather information based on the location.\",\n",
    "    tools=[get_weather],\n",
    ")\n"
   ]
  },
  {
   "cell_type": "code",
   "execution_count": 15,
   "id": "ca4d627c",
   "metadata": {},
   "outputs": [
    {
     "name": "stdout",
     "output_type": "stream",
     "text": [
      "The weather in New York Albany is sunny with a temperature of 25°C.\n"
     ]
    }
   ],
   "source": [
    "async def test_weather_tool():\n",
    "    result = await assistant.run(task=\"What is the weather in New York Albany?\")\n",
    "    print(result.messages[-1].content)\n",
    "\n",
    "# Run the test function\n",
    "await test_weather_tool()"
   ]
  },
  {
   "cell_type": "code",
   "execution_count": null,
   "id": "cabe66ab",
   "metadata": {},
   "outputs": [],
   "source": []
  }
 ],
 "metadata": {
  "kernelspec": {
   "display_name": "autogen-env",
   "language": "python",
   "name": "python3"
  },
  "language_info": {
   "codemirror_mode": {
    "name": "ipython",
    "version": 3
   },
   "file_extension": ".py",
   "mimetype": "text/x-python",
   "name": "python",
   "nbconvert_exporter": "python",
   "pygments_lexer": "ipython3",
   "version": "3.11.1"
  }
 },
 "nbformat": 4,
 "nbformat_minor": 5
}
