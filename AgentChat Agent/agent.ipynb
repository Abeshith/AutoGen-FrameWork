{
 "cells": [
  {
   "cell_type": "code",
   "execution_count": null,
   "id": "e6a9ca6a",
   "metadata": {},
   "outputs": [],
   "source": [
    "from autogen_agentchat.agents import AssistantAgent\n",
    "from autogen_ext.models.openai import OpenAIChatCompletionClient\n",
    "from dotenv import load_dotenv\n",
    "import asyncio\n",
    "import os\n",
    "\n",
    "load_dotenv()\n",
    "api_key = os.getenv(\"GOOGLE_API_KEY\")"
   ]
  },
  {
   "cell_type": "code",
   "execution_count": 7,
   "id": "52da960a",
   "metadata": {},
   "outputs": [],
   "source": [
    "model_client = OpenAIChatCompletionClient(\n",
    "    model = \"gemini-1.5-flash-8b\",\n",
    "    api_key = api_key,\n",
    ")"
   ]
  },
  {
   "cell_type": "code",
   "execution_count": 8,
   "id": "7021da22",
   "metadata": {},
   "outputs": [],
   "source": [
    "assistant = AssistantAgent(\n",
    "    name=\"Assistant\",\n",
    "    model_client=model_client,\n",
    ")"
   ]
  },
  {
   "cell_type": "code",
   "execution_count": 10,
   "id": "ff52a896",
   "metadata": {},
   "outputs": [
    {
     "name": "stdout",
     "output_type": "stream",
     "text": [
      "India has the world's largest postal network, delivering mail to over a billion people.\n",
      "TERMINATE\n",
      "\n"
     ]
    }
   ],
   "source": [
    "result = await assistant.run(task=\"Tell me a Fun Fact About India.\")\n",
    "print(result.messages[-1].content)"
   ]
  },
  {
   "cell_type": "code",
   "execution_count": 12,
   "id": "9a0ef45e",
   "metadata": {},
   "outputs": [],
   "source": [
    "history_assistant = AssistantAgent(\n",
    "    name=\"History_Assistant\",\n",
    "    model_client=model_client,\n",
    "    description=\"You a History Assistant with expertise in history worldwide and culture.\",\n",
    "    system_message=\"You are a History expert with a deep understanding of historical events, cultures, and significant figures. Your role is to provide accurate and insightful information about history, answer questions related to historical topics, and engage in discussions about historical events and their impact on the present. You should be able to explain complex historical concepts in a clear and accessible manner, making history interesting and relevant to your audience.\",\n",
    "\n",
    ")"
   ]
  },
  {
   "cell_type": "markdown",
   "id": "16a653e2",
   "metadata": {},
   "source": [
    "### SystemMessage"
   ]
  },
  {
   "cell_type": "code",
   "execution_count": 14,
   "id": "ad08d9a7",
   "metadata": {},
   "outputs": [
    {
     "name": "stdout",
     "output_type": "stream",
     "text": [
      "The history of ancient Tamil culture is rich and complex, spanning millennia and exhibiting a unique blend of indigenous traditions and influences from neighboring regions.  Unfortunately, a single, concise history isn't possible, as the period is vast and our understanding is constantly evolving with new archaeological discoveries and interpretations.  However, key aspects and periods can be highlighted:\n",
      "\n",
      "**Early Developments (Pre-Sangam Period, roughly 300 BCE to 300 CE):**  Evidence suggests the Tamil people, initially living in a variety of social groups, developed sophisticated agricultural societies.  Early settlements, often connected to river valleys and fertile plains, demonstrate a flourishing agricultural economy.  Interaction with other civilizations, particularly those of the Indus Valley and the Middle East, likely brought cultural exchange and influences, shaping their traditions. The development of a distinct language and literary traditions, while not fully documented for this early period, suggests a complex and evolving social structure.  Archaeological findings, such as elaborate burial sites and pottery styles, further reveal a rich material culture.\n",
      "\n",
      "**The Sangam Period (roughly 300 BCE to 300 CE):** This era is considered the golden age of early Tamil literature and culture.  The Sangam academies (assemblies of poets and scholars) flourished, producing a vast body of poetry and prose. These texts, collectively known as Sangam literature, provide invaluable insights into Tamil society, values, and daily life.  They depict a society characterized by agricultural activities, thriving trade networks (with connections to the Roman Empire, among others), and complex social hierarchies.  Themes of love, war, heroism, and social justice are prominent, showcasing a vibrant cultural landscape.  The poems often celebrate the beauty of the land, the heroism of kings, and the virtues of individuals.  The \"Silappathikaram,\" mentioned earlier, is a significant example of this period's sophisticated literature.\n",
      "\n",
      "**Post-Sangam Period (roughly 300 CE onwards):**  Following the Sangam period, Tamil Nadu saw a series of invasions and dynastic shifts, including the rise and fall of various kingdoms.  These changes and migrations significantly impacted the region.  While the literary traditions of the Sangam period continued to influence subsequent generations, new developments emerged in religious and artistic spheres.  The rise of Jainism and Buddhism significantly shaped the region's cultural landscape, alongside the development of unique Tamil artistic expressions and architectural styles, such as the rock-cut caves.  Further cultural exchanges, including influences from other South Asian and Indian cultures, continued throughout this period.\n",
      "\n",
      "**Key Characteristics of Ancient Tamil Culture:**\n",
      "\n",
      "* **Agricultural Economy:**  Agriculture was the foundation of Tamil society, with strong ties to the land and its resources.\n",
      "* **Maritime Trade:**  Seafaring was crucial, with the Tamils engaging in extensive trade networks across the Indian Ocean.\n",
      "* **Strong Literary Traditions:**  The Sangam period literature, particularly, stands out for its detailed depiction of Tamil society and values.\n",
      "* **Complex Social Structures:**  Hierarchical societies with varying social classes were evident.\n",
      "* **Religious Syncretism:**  A blend of indigenous, Buddhist, and Jain beliefs coexisted and influenced the cultural landscape.\n",
      "\n",
      "It's important to remember that our understanding of the ancient Tamil people is still developing.  Further archaeological discoveries and textual analyses will undoubtedly continue to illuminate this remarkable chapter of human history.\n",
      "\n"
     ]
    }
   ],
   "source": [
    "async def test_history_assistant():\n",
    "    result = await history_assistant.run(task=\"Tell me the History About Ancient Tamil Peoples Culture.\")\n",
    "    print(result.messages[-1].content)\n",
    "\n",
    "# Run the test function\n",
    "await test_history_assistant()"
   ]
  },
  {
   "cell_type": "markdown",
   "id": "bf1297c5",
   "metadata": {},
   "source": [
    "### Prompt Engineering"
   ]
  },
  {
   "cell_type": "code",
   "execution_count": null,
   "id": "1cb26002",
   "metadata": {},
   "outputs": [],
   "source": [
    "history_assistant = AssistantAgent(\n",
    "    name=\"History_Assistant\",\n",
    "    model_client=model_client,\n",
    "    description=\"You a History Assistant with expertise in history worldwide and culture.\",\n",
    "    system_message=\"You are a History expert with a deep understanding of historical events, cultures, and significant figures.Your role is to provide the History in a storytelling manner, engaging the audience with captivating narratives in a chapter that bring historical events to life. You should be able to weave together facts and stories in a way that makes history not only informative but also entertaining and memorable.\",\n",
    "\n",
    ")"
   ]
  },
  {
   "cell_type": "code",
   "execution_count": 18,
   "id": "c6531ee3",
   "metadata": {},
   "outputs": [
    {
     "name": "stdout",
     "output_type": "stream",
     "text": [
      "Unfortunately, a chapter-wise breakdown of the Chola dynasty by generation, detailing specific achievements for each, is not possible with the current state of historical understanding.  While we know *generations* existed, the precise lineage and specific achievements attributed to individual rulers within those generations often aren't clearly documented.  The historical record is more fragmented, particularly for the earlier periods, with details sometimes only emerging through later inscriptions or accounts.\n",
      "\n",
      "Instead of a chapter-wise, generation-specific approach, I can offer a more structured overview of the Chola dynasty, focusing on key periods and achievements, recognizing that these are often connected across multiple generations:\n",
      "\n",
      "\n",
      "**Chapter 1: The Early Cholas (Pre-9th Century)**\n",
      "\n",
      "This period is shrouded in more myth than definitive history.  We know of early Chola rulers through scattered inscriptions and legends.  Information about their achievements often overlaps or is blended with later dynasties.  Their role in regional trade networks is suspected, but details remain incomplete.  A focus here is on the *setting the stage*.  The foundation of the Chola political and cultural landscape is laid.\n",
      "\n",
      "**Chapter 2: The Rise of the Imperial Cholas (9th-11th Centuries)**\n",
      "\n",
      "This period saw the Cholas emerge as a major power in South India.  Key achievements include:\n",
      "\n",
      "* **Expansion of Territory:**  Rulers like Vijayalaya Chola and Aditya I began consolidating power and expanding their influence.\n",
      "* **Naval Power:** The Cholas developed a formidable navy, controlling sea trade routes and expanding their influence beyond the Indian subcontinent.\n",
      "* **Administrative Structures:**  The Cholas established efficient administrative systems, allowing for the effective management of vast territories.\n",
      "* **Patronage of the Arts and Religion:**  Temples like the ones at Thanjavur, Gangaikonda Cholapuram, and others became monumental displays of Chola architectural and artistic brilliance.  They were more than just religious centers; they housed educational institutions and supported artistic expression, contributing to the region's cultural richness.\n",
      "* **Literary Patronage:** Tamil literature flourished under their patronage, contributing to the region's vibrant cultural tapestry.\n",
      "\n",
      "\n",
      "**Chapter 3: The Golden Age of the Cholas (11th-12th Centuries)**\n",
      "\n",
      "This is generally considered the height of Chola power and cultural achievement.  Rulers like Rajendra Chola I and Rajaraja Chola I stand out for their significant accomplishments:\n",
      "\n",
      "* **Military Campaigns and Territorial Expansion:** Rajendra Chola I's campaigns extended Chola influence into Southeast Asia, establishing a network of trade and diplomacy across the Indian Ocean.\n",
      "* **Grand Temple Building:** The construction of massive temples, particularly the Brihadeeswarar Temple, stands as a testament to their wealth and architectural prowess.  Rajaraja Chola I’s artistic vision left a lasting impression.\n",
      "* **Economic Prosperity:**  Sea trade flourished, enriching the Chola kingdom and contributing to their political and cultural ascendancy.\n",
      "\n",
      "**Chapter 4: The Decline and End of the Cholas (12th-13th Centuries)**\n",
      "\n",
      "Challenges emerged, with internal conflicts and the rise of neighboring powers gradually weakening the Chola empire.  The later generations of rulers faced these pressures, but the empire was in decline.\n",
      "\n",
      "**Key Challenges and Considerations:**\n",
      "\n",
      "* **Fragmentation of the Historical Record:**  The information for each generation is not always complete and often presented as a cohesive narrative, rather than a series of individual generation-specific accounts.\n",
      "* **Attribution of Achievements:**  Sometimes, the exact contribution of specific rulers within the same generation is unclear or interwoven with their predecessors and successors.\n",
      "\n",
      "Instead of trying to create neat chapters focusing on each generation, it's more accurate to see the Chola dynasty as a continuous progression.  It was the sum of the work of many individuals and generations, each contributing to the grand narrative of the Chola Empire.\n",
      "\n"
     ]
    }
   ],
   "source": [
    "async def test_history_assistant():\n",
    "    result = await history_assistant.run(task=\"Narrate the History of Chola Dynasty and also their achievements in a Chapter Wise according to Generations.\")\n",
    "    print(result.messages[-1].content)\n",
    "\n",
    "# Run the test function\n",
    "await test_history_assistant()"
   ]
  },
  {
   "cell_type": "code",
   "execution_count": null,
   "id": "b1116ea2",
   "metadata": {},
   "outputs": [],
   "source": []
  }
 ],
 "metadata": {
  "kernelspec": {
   "display_name": "autogen-env",
   "language": "python",
   "name": "python3"
  },
  "language_info": {
   "codemirror_mode": {
    "name": "ipython",
    "version": 3
   },
   "file_extension": ".py",
   "mimetype": "text/x-python",
   "name": "python",
   "nbconvert_exporter": "python",
   "pygments_lexer": "ipython3",
   "version": "3.11.1"
  }
 },
 "nbformat": 4,
 "nbformat_minor": 5
}
