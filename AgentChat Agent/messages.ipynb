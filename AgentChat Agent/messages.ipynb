{
 "cells": [
  {
   "cell_type": "code",
   "execution_count": 8,
   "id": "1ae89799",
   "metadata": {},
   "outputs": [],
   "source": [
    "from autogen_agentchat.agents import AssistantAgent\n",
    "from autogen_ext.models.openai import OpenAIChatCompletionClient\n",
    "from dotenv import load_dotenv\n",
    "from autogen_agentchat.messages import TextMessage, MultiModalMessage\n",
    "from autogen_core import Image as ASImage\n",
    "from PIL import Image as PILImage\n",
    "from io import BytesIO\n",
    "import requests\n",
    "import os\n",
    "\n",
    "load_dotenv()\n",
    "api_key = os.getenv(\"GOOGLE_API_KEY\")"
   ]
  },
  {
   "cell_type": "code",
   "execution_count": 2,
   "id": "a81642a3",
   "metadata": {},
   "outputs": [],
   "source": [
    "model_client = OpenAIChatCompletionClient(\n",
    "    model = \"gemini-1.5-flash-8b\",\n",
    "    api_key = api_key,\n",
    ")"
   ]
  },
  {
   "cell_type": "code",
   "execution_count": 9,
   "id": "4f9e6680",
   "metadata": {},
   "outputs": [],
   "source": [
    "agent = AssistantAgent(\n",
    "    name=\"Text_Agent\",\n",
    "    model_client=model_client,\n",
    "    description=\"You are a Helpful Assistant with expertise in providing text based on the input.\",\n",
    "    system_message=\"You are a Helpful Assistant with expertise in providing text based on the input. You should be able to provide accurate and helpful information based on the input provided by the user.\",\n",
    ")"
   ]
  },
  {
   "cell_type": "markdown",
   "id": "0f6cd61f",
   "metadata": {},
   "source": [
    "### Text Messaages"
   ]
  },
  {
   "cell_type": "code",
   "execution_count": 10,
   "id": "20813cae",
   "metadata": {},
   "outputs": [
    {
     "name": "stdout",
     "output_type": "stream",
     "text": [
      "The President of India is Droupadi Murmu.\n",
      "\n"
     ]
    }
   ],
   "source": [
    "async def test_text_messages():\n",
    "    text_msg = TextMessage(content=\"Who is the President of the India?\", source=\"user\")\n",
    "    result = await agent.run(task=text_msg)\n",
    "    print(result.messages[-1].content)\n",
    "\n",
    "# Run the test function\n",
    "await test_text_messages()"
   ]
  },
  {
   "cell_type": "markdown",
   "id": "bd56d765",
   "metadata": {},
   "source": [
    "### MultiModel Messages"
   ]
  },
  {
   "cell_type": "code",
   "execution_count": 13,
   "id": "435116cd",
   "metadata": {},
   "outputs": [
    {
     "name": "stdout",
     "output_type": "stream",
     "text": [
      "The dog in the image is a Black Labrador Retriever.\n",
      "\n"
     ]
    }
   ],
   "source": [
    "async def test_multimodel_messages():\n",
    "    response = requests.get(\"https://picsum.photos/id/237/200/300\")\n",
    "    pil_image = PILImage.open(BytesIO(response.content))\n",
    "    ag_image = ASImage(pil_image)\n",
    "\n",
    "    multimodel_message = MultiModalMessage(content=['What is the Breed of this dog?', ag_image], source=\"user\")\n",
    "\n",
    "    result = await agent.run(task=multimodel_message)\n",
    "    print(result.messages[-1].content)\n",
    "\n",
    "\n",
    "# Run the test function\n",
    "await test_multimodel_messages()"
   ]
  },
  {
   "cell_type": "code",
   "execution_count": null,
   "id": "f14e1bdb",
   "metadata": {},
   "outputs": [],
   "source": []
  }
 ],
 "metadata": {
  "kernelspec": {
   "display_name": "autogen-env",
   "language": "python",
   "name": "python3"
  },
  "language_info": {
   "codemirror_mode": {
    "name": "ipython",
    "version": 3
   },
   "file_extension": ".py",
   "mimetype": "text/x-python",
   "name": "python",
   "nbconvert_exporter": "python",
   "pygments_lexer": "ipython3",
   "version": "3.11.1"
  }
 },
 "nbformat": 4,
 "nbformat_minor": 5
}
