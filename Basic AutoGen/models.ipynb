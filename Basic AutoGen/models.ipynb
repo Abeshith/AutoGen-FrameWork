{
 "cells": [
  {
   "cell_type": "code",
   "execution_count": 24,
   "id": "a6730b86",
   "metadata": {},
   "outputs": [
    {
     "data": {
      "text/plain": [
       "True"
      ]
     },
     "execution_count": 24,
     "metadata": {},
     "output_type": "execute_result"
    }
   ],
   "source": [
    "from autogen_core.models import UserMessage\n",
    "from autogen_ext.models.openai import OpenAIChatCompletionClient\n",
    "import os\n",
    "from dotenv import load_dotenv\n",
    "\n",
    "# Load environment variables from .env file\n",
    "load_dotenv()"
   ]
  },
  {
   "cell_type": "code",
   "execution_count": 29,
   "id": "7cf7d563",
   "metadata": {},
   "outputs": [],
   "source": [
    "import os\n",
    "load_dotenv()\n",
    "\n",
    "# Set environment variables with error checking\n",
    "google_key = os.getenv(\"GOOGLE_API_KEY\")\n",
    "if google_key:\n",
    "    os.environ[\"GOOGLE_API_KEY\"] = google_key\n",
    "else:\n",
    "    print(\"Warning: GOOGLE_API_KEY not found in environment variables\")\n",
    "\n",
    "groq_key = os.getenv(\"GROQ_API_KEY\")\n",
    "if groq_key:\n",
    "    os.environ[\"GROQ_API_KEY\"] = groq_key\n",
    "else:\n",
    "    print(\"Warning: GROQ_API_KEY not found in environment variables\")"
   ]
  },
  {
   "cell_type": "code",
   "execution_count": null,
   "id": "09a456d7",
   "metadata": {},
   "outputs": [],
   "source": [
    "import os\n",
    "\n",
    "open_router_key = os.getenv(\"OPEN_ROUTER_API_KEY\")\n",
    "if open_router_key:\n",
    "    os.environ[\"OPEN_ROUTER_API_KEY\"] = open_router_key\n",
    "else:\n",
    "    print(\"Warning: OPEN_ROUTER_API_KEY not found in environment variables\")"
   ]
  },
  {
   "cell_type": "code",
   "execution_count": null,
   "id": "2d757c97",
   "metadata": {},
   "outputs": [],
   "source": [
    "model = OpenAIChatCompletionClient(\n",
    "    model = \"gemini-1.5-flash-8b\",\n",
    "    api_key= google_key\n",
    ")"
   ]
  },
  {
   "cell_type": "code",
   "execution_count": 32,
   "id": "4b389a24",
   "metadata": {},
   "outputs": [
    {
     "name": "stdout",
     "output_type": "stream",
     "text": [
      "finish_reason='stop' content='Paris\\n' usage=RequestUsage(prompt_tokens=7, completion_tokens=2) cached=False logprobs=None thought=None\n"
     ]
    }
   ],
   "source": [
    "response = await model.create([UserMessage(content=\"What is the capital of France?\", source=\"user\")])\n",
    "print(response)\n",
    "\n",
    "await model.close()"
   ]
  },
  {
   "cell_type": "code",
   "execution_count": 35,
   "id": "023c38ae",
   "metadata": {},
   "outputs": [
    {
     "name": "stdout",
     "output_type": "stream",
     "text": [
      "finish_reason='stop' content=\"The capital of France is **Paris**. It is one of the most famous and visited cities in the world, known for its landmarks like the Eiffel Tower, the Louvre Museum, and Notre-Dame Cathedral.  \\n\\nLet me know if you'd like more details! 😊\" usage=RequestUsage(prompt_tokens=10, completion_tokens=57) cached=False logprobs=None thought=None\n"
     ]
    }
   ],
   "source": [
    "open_router_model_client = OpenAIChatCompletionClient(\n",
    "    base_url=\"https://openrouter.ai/api/v1/\",\n",
    "    model=\"deepseek/deepseek-chat-v3-0324:free\",\n",
    "    api_key=open_router_key,\n",
    "    model_info={\n",
    "        \"family\": \"deepseek\",\n",
    "        \"vision\": True,\n",
    "        \"function_calling\": True,\n",
    "        \"json_output\": False\n",
    "    }\n",
    ")\n",
    "\n",
    "response = await open_router_model_client.create([UserMessage(content=\"What is the capital of France?\", source=\"user\")])\n",
    "print(response)\n",
    "\n",
    "await model.close()"
   ]
  },
  {
   "cell_type": "code",
   "execution_count": null,
   "id": "3a76c585",
   "metadata": {},
   "outputs": [],
   "source": []
  }
 ],
 "metadata": {
  "kernelspec": {
   "display_name": "autogen-env",
   "language": "python",
   "name": "python3"
  },
  "language_info": {
   "codemirror_mode": {
    "name": "ipython",
    "version": 3
   },
   "file_extension": ".py",
   "mimetype": "text/x-python",
   "name": "python",
   "nbconvert_exporter": "python",
   "pygments_lexer": "ipython3",
   "version": "3.11.1"
  }
 },
 "nbformat": 4,
 "nbformat_minor": 5
}
