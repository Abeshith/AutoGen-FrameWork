{
 "cells": [
  {
   "cell_type": "markdown",
   "id": "f56e61a2",
   "metadata": {},
   "source": [
    "### First AutoGen Agent"
   ]
  },
  {
   "cell_type": "code",
   "execution_count": 15,
   "id": "19f3d8ca",
   "metadata": {},
   "outputs": [],
   "source": [
    "from autogen_agentchat.agents import AssistantAgent\n",
    "from autogen_ext.models.openai import OpenAIChatCompletionClient\n",
    "from dotenv import load_dotenv\n",
    "import os\n",
    "\n",
    "load_dotenv()\n",
    "api_key = os.getenv(\"GOOGLE_API_KEY\")\n",
    "os.environ[\"GOOGLE_API_KEY\"] = api_key"
   ]
  },
  {
   "cell_type": "code",
   "execution_count": 16,
   "id": "562915a9",
   "metadata": {},
   "outputs": [],
   "source": [
    "model_client = OpenAIChatCompletionClient(\n",
    "    model = \"gemini-1.5-flash-8b\",\n",
    "    api_key= api_key\n",
    ")"
   ]
  },
  {
   "cell_type": "code",
   "execution_count": 17,
   "id": "3580ac03",
   "metadata": {},
   "outputs": [],
   "source": [
    "assistant = AssistantAgent(\n",
    "    name = \"assistant\",\n",
    "    model_client = model_client\n",
    ")"
   ]
  },
  {
   "cell_type": "code",
   "execution_count": 26,
   "id": "5391efef",
   "metadata": {},
   "outputs": [
    {
     "name": "stdout",
     "output_type": "stream",
     "text": [
      "messages=[TextMessage(id='0cff37e3-691d-40ae-9800-5eaffeb15f4f', source='user', models_usage=None, metadata={}, created_at=datetime.datetime(2025, 7, 4, 16, 6, 48, 272035, tzinfo=datetime.timezone.utc), content='Tell me a Fun Fact About Tamil People.', type='TextMessage'), TextMessage(id='85bc321d-0c67-494b-ab90-e10b4fb67c66', source='assistant', models_usage=RequestUsage(prompt_tokens=352, completion_tokens=36), metadata={}, created_at=datetime.datetime(2025, 7, 4, 16, 6, 49, 440855, tzinfo=datetime.timezone.utc), content='Tamil people have a rich history of storytelling and oral traditions, with many tales and poems passed down through generations.  This strong oral tradition is a defining characteristic of Tamil culture.\\n', type='TextMessage')] stop_reason=None\n"
     ]
    }
   ],
   "source": [
    "result = await assistant.run(task=\"Tell me a Fun Fact About Tamil People.\")\n",
    "print(result)"
   ]
  },
  {
   "cell_type": "code",
   "execution_count": 27,
   "id": "eeeee303",
   "metadata": {},
   "outputs": [
    {
     "name": "stdout",
     "output_type": "stream",
     "text": [
      "Tamil people have a rich history of storytelling and oral traditions, with many tales and poems passed down through generations.  This strong oral tradition is a defining characteristic of Tamil culture.\n",
      "\n"
     ]
    }
   ],
   "source": [
    "print(result.messages[-1].content)"
   ]
  },
  {
   "cell_type": "code",
   "execution_count": null,
   "id": "25bb7f42",
   "metadata": {},
   "outputs": [],
   "source": []
  }
 ],
 "metadata": {
  "kernelspec": {
   "display_name": "autogen-env",
   "language": "python",
   "name": "python3"
  },
  "language_info": {
   "codemirror_mode": {
    "name": "ipython",
    "version": 3
   },
   "file_extension": ".py",
   "mimetype": "text/x-python",
   "name": "python",
   "nbconvert_exporter": "python",
   "pygments_lexer": "ipython3",
   "version": "3.11.1"
  }
 },
 "nbformat": 4,
 "nbformat_minor": 5
}
