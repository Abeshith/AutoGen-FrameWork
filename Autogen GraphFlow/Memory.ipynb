{
 "cells": [
  {
   "cell_type": "code",
   "execution_count": 25,
   "id": "81f86a8a",
   "metadata": {},
   "outputs": [],
   "source": [
    "from autogen_agentchat.agents import AssistantAgent, UserProxyAgent\n",
    "from autogen_ext.models.openai import OpenAIChatCompletionClient\n",
    "from autogen_agentchat.ui import Console\n",
    "from dotenv import load_dotenv\n",
    "import asyncio\n",
    "import os\n",
    "\n",
    "load_dotenv()\n",
    "api_key = os.getenv(\"GOOGLE_API_KEY\")\n",
    "open_router_key = os.getenv(\"OPENROUTER_API_KEY\")"
   ]
  },
  {
   "cell_type": "code",
   "execution_count": 26,
   "id": "f88e4c78",
   "metadata": {},
   "outputs": [],
   "source": [
    "model_client = OpenAIChatCompletionClient(\n",
    "    model='gemini-2.0-flash',\n",
    "    api_key=api_key,\n",
    ")"
   ]
  },
  {
   "cell_type": "code",
   "execution_count": 27,
   "id": "ecb1a5e8",
   "metadata": {},
   "outputs": [],
   "source": [
    "from autogen_core.memory import ListMemory, MemoryContent, MemoryMimeType\n",
    "\n",
    "user_memory = ListMemory()\n",
    "\n",
    "await user_memory.add(MemoryContent(content=\"The Weather Should be in metric units\", mime_type=MemoryMimeType.TEXT))\n",
    "\n",
    "await user_memory.add(MemoryContent(content=\"Meal Recipe must be Vegan\", mime_type=MemoryMimeType.TEXT))"
   ]
  },
  {
   "cell_type": "code",
   "execution_count": 28,
   "id": "263e3818",
   "metadata": {},
   "outputs": [],
   "source": [
    "async def get_weather(city: str, units: str = \"imperial\") -> str:\n",
    "    if units == \"imperial\":\n",
    "        return f\"The weather in {city} is 73 °F and Sunny.\"\n",
    "    elif units == \"metric\":\n",
    "        return f\"The weather in {city} is 23 °C and Sunny.\"\n",
    "    else:\n",
    "        return f\"Sorry, I don't know the weather in {city}.\""
   ]
  },
  {
   "cell_type": "code",
   "execution_count": 29,
   "id": "fe3f0e47",
   "metadata": {},
   "outputs": [],
   "source": [
    "assistant_agent = AssistantAgent(\n",
    "    name=\"assistant_agent\",\n",
    "    model_client=model_client,\n",
    "    tools=[get_weather],\n",
    "    memory=[user_memory],\n",
    "    system_message=None\n",
    ")"
   ]
  },
  {
   "cell_type": "code",
   "execution_count": 30,
   "id": "fcd9e394",
   "metadata": {},
   "outputs": [
    {
     "name": "stdout",
     "output_type": "stream",
     "text": [
      "---------- TextMessage (user) ----------\n",
      "What is the weather in New York?\n",
      "---------- MemoryQueryEvent (assistant_agent) ----------\n",
      "[MemoryContent(content='The Weather Should be in metric units', mime_type=<MemoryMimeType.TEXT: 'text/plain'>, metadata=None), MemoryContent(content='Meal Recipe must be Vegan', mime_type=<MemoryMimeType.TEXT: 'text/plain'>, metadata=None)]\n",
      "---------- ToolCallRequestEvent (assistant_agent) ----------\n",
      "[FunctionCall(id='', arguments='{\"city\":\"New York\",\"units\":\"metric\"}', name='get_weather')]\n",
      "---------- ToolCallExecutionEvent (assistant_agent) ----------\n",
      "[FunctionExecutionResult(content='The weather in New York is 23 °C and Sunny.', name='get_weather', call_id='', is_error=False)]\n",
      "---------- ToolCallSummaryMessage (assistant_agent) ----------\n",
      "The weather in New York is 23 °C and Sunny.\n"
     ]
    },
    {
     "data": {
      "text/plain": [
       "TaskResult(messages=[TextMessage(source='user', models_usage=None, metadata={}, content='What is the weather in New York?', type='TextMessage'), MemoryQueryEvent(source='assistant_agent', models_usage=None, metadata={}, content=[MemoryContent(content='The Weather Should be in metric units', mime_type=<MemoryMimeType.TEXT: 'text/plain'>, metadata=None), MemoryContent(content='Meal Recipe must be Vegan', mime_type=<MemoryMimeType.TEXT: 'text/plain'>, metadata=None)], type='MemoryQueryEvent'), ToolCallRequestEvent(source='assistant_agent', models_usage=RequestUsage(prompt_tokens=46, completion_tokens=8), metadata={}, content=[FunctionCall(id='', arguments='{\"city\":\"New York\",\"units\":\"metric\"}', name='get_weather')], type='ToolCallRequestEvent'), ToolCallExecutionEvent(source='assistant_agent', models_usage=None, metadata={}, content=[FunctionExecutionResult(content='The weather in New York is 23 °C and Sunny.', name='get_weather', call_id='', is_error=False)], type='ToolCallExecutionEvent'), ToolCallSummaryMessage(source='assistant_agent', models_usage=None, metadata={}, content='The weather in New York is 23 °C and Sunny.', type='ToolCallSummaryMessage')], stop_reason=None)"
      ]
     },
     "execution_count": 30,
     "metadata": {},
     "output_type": "execute_result"
    }
   ],
   "source": [
    "stream = assistant_agent.run_stream(task=\"What is the weather in New York?\")\n",
    "await Console(stream)"
   ]
  },
  {
   "cell_type": "code",
   "execution_count": 31,
   "id": "d820fbba",
   "metadata": {},
   "outputs": [
    {
     "data": {
      "text/plain": [
       "[UserMessage(content='What is the weather in New York?', source='user', type='UserMessage'),\n",
       " SystemMessage(content='\\nRelevant memory content (in chronological order):\\n1. The Weather Should be in metric units\\n2. Meal Recipe must be Vegan\\n', type='SystemMessage'),\n",
       " AssistantMessage(content=[FunctionCall(id='', arguments='{\"city\":\"New York\",\"units\":\"metric\"}', name='get_weather')], thought=None, source='assistant_agent', type='AssistantMessage'),\n",
       " FunctionExecutionResultMessage(content=[FunctionExecutionResult(content='The weather in New York is 23 °C and Sunny.', name='get_weather', call_id='', is_error=False)], type='FunctionExecutionResultMessage')]"
      ]
     },
     "execution_count": 31,
     "metadata": {},
     "output_type": "execute_result"
    }
   ],
   "source": [
    "await assistant_agent.model_context.get_messages()"
   ]
  },
  {
   "cell_type": "code",
   "execution_count": 39,
   "id": "fbe7079a",
   "metadata": {},
   "outputs": [],
   "source": [
    "assistant_agent = AssistantAgent(\n",
    "    name=\"assistant_agent\",\n",
    "    model_client=model_client,\n",
    "    tools=[get_weather],\n",
    "    memory=[user_memory],\n",
    "    system_message=None\n",
    ")"
   ]
  },
  {
   "cell_type": "code",
   "execution_count": 40,
   "id": "5063095b",
   "metadata": {},
   "outputs": [
    {
     "name": "stdout",
     "output_type": "stream",
     "text": [
      "---------- TextMessage (user) ----------\n",
      "Write brief meal recipe with ingredients and instructions for a vegan meal.\n",
      "---------- MemoryQueryEvent (assistant_agent) ----------\n",
      "[MemoryContent(content='The Weather Should be in metric units', mime_type=<MemoryMimeType.TEXT: 'text/plain'>, metadata=None), MemoryContent(content='Meal Recipe must be Vegan', mime_type=<MemoryMimeType.TEXT: 'text/plain'>, metadata=None)]\n",
      "---------- TextMessage (assistant_agent) ----------\n",
      "Okay, I will provide you with a vegan meal recipe. How about a lentil soup?\n",
      "\n",
      "Ingredients:\n",
      "\n",
      "*   1 cup red lentils\n",
      "*   1 onion, chopped\n",
      "*   2 carrots, chopped\n",
      "*   2 cloves garlic, minced\n",
      "*   4 cups vegetable broth\n",
      "*   1 teaspoon cumin\n",
      "*   1/2 teaspoon turmeric\n",
      "*   Salt and pepper to taste\n",
      "*   1 tablespoon olive oil\n",
      "\n",
      "Instructions:\n",
      "\n",
      "1.  Heat olive oil in a pot over medium heat. Add onion and carrots and cook until softened, about 5 minutes.\n",
      "2.  Add garlic, cumin, and turmeric and cook for another minute until fragrant.\n",
      "3.  Add lentils and vegetable broth to the pot. Bring to a boil, then reduce heat and simmer for 20-25 minutes, or until lentils are tender.\n",
      "4.  Season with salt and pepper to taste.\n",
      "\n",
      "This soup is simple, hearty, and packed with nutrients!\n",
      "\n"
     ]
    },
    {
     "data": {
      "text/plain": [
       "TaskResult(messages=[TextMessage(source='user', models_usage=None, metadata={}, content='Write brief meal recipe with ingredients and instructions for a vegan meal.', type='TextMessage'), MemoryQueryEvent(source='assistant_agent', models_usage=None, metadata={}, content=[MemoryContent(content='The Weather Should be in metric units', mime_type=<MemoryMimeType.TEXT: 'text/plain'>, metadata=None), MemoryContent(content='Meal Recipe must be Vegan', mime_type=<MemoryMimeType.TEXT: 'text/plain'>, metadata=None)], type='MemoryQueryEvent'), TextMessage(source='assistant_agent', models_usage=RequestUsage(prompt_tokens=51, completion_tokens=200), metadata={}, content='Okay, I will provide you with a vegan meal recipe. How about a lentil soup?\\n\\nIngredients:\\n\\n*   1 cup red lentils\\n*   1 onion, chopped\\n*   2 carrots, chopped\\n*   2 cloves garlic, minced\\n*   4 cups vegetable broth\\n*   1 teaspoon cumin\\n*   1/2 teaspoon turmeric\\n*   Salt and pepper to taste\\n*   1 tablespoon olive oil\\n\\nInstructions:\\n\\n1.  Heat olive oil in a pot over medium heat. Add onion and carrots and cook until softened, about 5 minutes.\\n2.  Add garlic, cumin, and turmeric and cook for another minute until fragrant.\\n3.  Add lentils and vegetable broth to the pot. Bring to a boil, then reduce heat and simmer for 20-25 minutes, or until lentils are tender.\\n4.  Season with salt and pepper to taste.\\n\\nThis soup is simple, hearty, and packed with nutrients!\\n', type='TextMessage')], stop_reason=None)"
      ]
     },
     "execution_count": 40,
     "metadata": {},
     "output_type": "execute_result"
    }
   ],
   "source": [
    "stream = assistant_agent.run_stream(task=\"Write brief meal recipe with ingredients and instructions for a vegan meal.\")\n",
    "await Console(stream)"
   ]
  },
  {
   "cell_type": "code",
   "execution_count": null,
   "id": "c893105a",
   "metadata": {},
   "outputs": [],
   "source": []
  }
 ],
 "metadata": {
  "kernelspec": {
   "display_name": "autogen-env",
   "language": "python",
   "name": "python3"
  },
  "language_info": {
   "codemirror_mode": {
    "name": "ipython",
    "version": 3
   },
   "file_extension": ".py",
   "mimetype": "text/x-python",
   "name": "python",
   "nbconvert_exporter": "python",
   "pygments_lexer": "ipython3",
   "version": "3.11.1"
  }
 },
 "nbformat": 4,
 "nbformat_minor": 5
}
