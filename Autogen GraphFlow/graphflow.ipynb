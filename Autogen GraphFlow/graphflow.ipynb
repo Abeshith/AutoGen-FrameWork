{
 "cells": [
  {
   "cell_type": "code",
   "execution_count": 1,
   "id": "d0ea1bec",
   "metadata": {},
   "outputs": [],
   "source": [
    "from autogen_agentchat.agents import AssistantAgent, UserProxyAgent\n",
    "from autogen_ext.models.openai import OpenAIChatCompletionClient\n",
    "from dotenv import load_dotenv\n",
    "import asyncio\n",
    "import os\n",
    "\n",
    "load_dotenv()\n",
    "api_key = os.getenv(\"GOOGLE_API_KEY\")\n",
    "open_router_key = os.getenv(\"OPENROUTER_API_KEY\")"
   ]
  },
  {
   "cell_type": "code",
   "execution_count": 2,
   "id": "694e0c19",
   "metadata": {},
   "outputs": [],
   "source": [
    "model_client = OpenAIChatCompletionClient(\n",
    "    model='gemini-1.5-flash',\n",
    "    api_key=api_key,\n",
    ")"
   ]
  },
  {
   "cell_type": "code",
   "execution_count": 3,
   "id": "0ba43465",
   "metadata": {},
   "outputs": [],
   "source": [
    "from autogen_agentchat.teams import DiGraphBuilder, GraphFlow"
   ]
  },
  {
   "cell_type": "markdown",
   "id": "9bedd10d",
   "metadata": {},
   "source": [
    "## Sequential Flow"
   ]
  },
  {
   "cell_type": "code",
   "execution_count": 4,
   "id": "dad86472",
   "metadata": {},
   "outputs": [],
   "source": [
    "writer = AssistantAgent(\n",
    "    name=\"Writer\",\n",
    "    model_client=model_client,\n",
    "    system_message=\"You are a helpful writer.\",\n",
    "    description=\"Writes content based on the user's input.\",\n",
    ")\n",
    "\n",
    "reviewer = AssistantAgent(\n",
    "    name=\"Reviewer\",\n",
    "    model_client=model_client,\n",
    "    system_message=\"You are a helpful reviewer.\",\n",
    "    description=\"Reviews the content written by the writer.\",\n",
    ")\n",
    "\n",
    "builder = DiGraphBuilder()\n",
    "builder.add_node(writer)\n",
    "builder.add_node(reviewer)\n",
    "\n",
    "builder.add_edge(writer, reviewer)\n",
    "\n",
    "graph = builder.build()"
   ]
  },
  {
   "cell_type": "code",
   "execution_count": 5,
   "id": "2ecfbbf8",
   "metadata": {},
   "outputs": [],
   "source": [
    "team = GraphFlow(participants=[writer, reviewer], graph=graph)"
   ]
  },
  {
   "cell_type": "code",
   "execution_count": null,
   "id": "e0b3c4e0",
   "metadata": {},
   "outputs": [
    {
     "name": "stdout",
     "output_type": "stream",
     "text": [
      "source='user' models_usage=None metadata={} content='Write a 5 line poem with rhyming words about indian culture.' type='TextMessage'\n",
      "source='Writer' models_usage=RequestUsage(prompt_tokens=19, completion_tokens=42) metadata={} content='With vibrant hues, a joyful sight,\\nA land of spices, shining bright.\\nFrom Ganges flows a sacred stream,\\nA tapestry of ancient dream,\\nIn rich traditions, hearts aflame.\\n' type='TextMessage'\n",
      "source='Reviewer' models_usage=RequestUsage(prompt_tokens=61, completion_tokens=111) metadata={} content='This is a lovely little poem!  The imagery is strong and evocative, successfully conveying a sense of vibrancy and tradition.  The rhyme scheme is consistent and pleasing to the ear.  My only minor suggestion would be to consider slightly less cliché imagery.  While \"spices\" and the \"Ganges\" are associated with India, they\\'re very common tropes.  Perhaps exploring a less expected image could elevate the poem\\'s originality.  But as it stands, it\\'s a well-written and enjoyable five-line poem.\\n' type='TextMessage'\n",
      "source='DiGraphStopAgent' models_usage=None metadata={} content='Digraph execution is complete' type='StopMessage'\n",
      "messages=[TextMessage(source='user', models_usage=None, metadata={}, content='Write a 5 line poem with rhyming words about indian culture.', type='TextMessage'), TextMessage(source='Writer', models_usage=RequestUsage(prompt_tokens=19, completion_tokens=42), metadata={}, content='With vibrant hues, a joyful sight,\\nA land of spices, shining bright.\\nFrom Ganges flows a sacred stream,\\nA tapestry of ancient dream,\\nIn rich traditions, hearts aflame.\\n', type='TextMessage'), TextMessage(source='Reviewer', models_usage=RequestUsage(prompt_tokens=61, completion_tokens=111), metadata={}, content='This is a lovely little poem!  The imagery is strong and evocative, successfully conveying a sense of vibrancy and tradition.  The rhyme scheme is consistent and pleasing to the ear.  My only minor suggestion would be to consider slightly less cliché imagery.  While \"spices\" and the \"Ganges\" are associated with India, they\\'re very common tropes.  Perhaps exploring a less expected image could elevate the poem\\'s originality.  But as it stands, it\\'s a well-written and enjoyable five-line poem.\\n', type='TextMessage'), StopMessage(source='DiGraphStopAgent', models_usage=None, metadata={}, content='Digraph execution is complete', type='StopMessage')] stop_reason='Stop message received'\n"
     ]
    }
   ],
   "source": [
    "import asyncio\n",
    "async def main():\n",
    "    stream = team.run_stream(task=\"Write a 5 line poem with rhyming words about indian culture.\")\n",
    "    async for event in stream:\n",
    "        print(event)\n",
    "\n",
    "asyncio.run(main())"
   ]
  },
  {
   "cell_type": "markdown",
   "id": "96f6ea53",
   "metadata": {},
   "source": [
    "## Parallel Flow"
   ]
  },
  {
   "cell_type": "code",
   "execution_count": 20,
   "id": "e1ffd415",
   "metadata": {},
   "outputs": [],
   "source": [
    "writer = AssistantAgent(\n",
    "    name=\"Writer\",\n",
    "    model_client=model_client,\n",
    "    system_message=\"You are a helpful poem writer keep the content concise and engaging and do some gramatical mistakes and not keep up with rhyming words and within 20 words max.\",\n",
    "    description=\"Writes content based on the user's input.\",\n",
    ")\n",
    "\n",
    "editor1 = AssistantAgent(\n",
    "    name=\"Editor1\",\n",
    "    model_client=model_client,\n",
    "    system_message=\"You are a helpful editor for editing the gramatical mistakes in the poem and tell the changes after doing and correct them and within 20 words max.\",\n",
    "    description=\"Edits the content written by the writer.\",\n",
    ")\n",
    "\n",
    "editor2 = AssistantAgent(\n",
    "    name=\"Editor2\",\n",
    "    model_client=model_client,\n",
    "    system_message=\"You are a helpful editor for editing the Rhyiming words and the styles and check content is valid in the poem and correct them tell the changes after doing and within 20 words max.\",\n",
    "    description=\"Edits the content written by the writer.\",\n",
    ")\n",
    "\n",
    "reviewer = AssistantAgent(\n",
    "    name=\"Reviewer\",\n",
    "    model_client=model_client,\n",
    "    system_message=\"You are a helpful reviewer for reviewing the content written by the writer and editors and give the final output of the poem after edited and within 20 words max.\",\n",
    "    description=\"Reviews the content written by the writer and editors.\",\n",
    ")"
   ]
  },
  {
   "cell_type": "code",
   "execution_count": 21,
   "id": "44726d47",
   "metadata": {},
   "outputs": [],
   "source": [
    "builder = DiGraphBuilder()\n",
    "\n",
    "builder.add_node(writer)\n",
    "builder.add_node(editor1)\n",
    "builder.add_node(editor2)\n",
    "builder.add_node(reviewer)\n",
    "\n",
    "builder.add_edge(writer, editor1)\n",
    "builder.add_edge(writer, editor2)\n",
    "builder.add_edge(editor1, reviewer)\n",
    "builder.add_edge(editor2, reviewer)\n",
    "\n",
    "graph = builder.build()"
   ]
  },
  {
   "cell_type": "code",
   "execution_count": 22,
   "id": "2211d55d",
   "metadata": {},
   "outputs": [
    {
     "name": "stdout",
     "output_type": "stream",
     "text": [
      "---------- TextMessage (user) ----------\n",
      "Write a 10 line poem with rhyming words about Tamil culture.\n",
      "---------- TextMessage (Writer) ----------\n",
      "Tamil pride, a vibrant sight,\n",
      "Temples old, shining bright.\n",
      "Dance and song, a joyful sound,\n",
      "Ancient stories, all around.\n",
      "Spicy food, a flavour burst,\n",
      "Rich traditions, never worst.\n",
      "Family bonds, strong and true,\n",
      "Culture's beauty, shines anew.\n",
      "Generations, keep it alive,\n",
      "Tamil spirit, will survive.\n",
      "\n",
      "---------- TextMessage (Editor1) ----------\n",
      "Corrected a few minor grammatical issues for smoother flow.  No major changes needed.\n",
      "\n",
      "---------- TextMessage (Editor2) ----------\n",
      "Improved flow and rhyme slightly.  Minor word changes for better rhythm.\n",
      "\n",
      "---------- TextMessage (Reviewer) ----------\n",
      "Tamil culture, vibrant and bold,\n",
      "Ancient stories, ages old.\n",
      "Dance and song, a joyful sound,\n",
      "Rich traditions, all around.\n",
      "Spicy food, a flavour bright,\n",
      "Family bonds, shining light.\n",
      "Generations, keep it alive,\n",
      "Spirit strong, it will survive.\n",
      "Temples gleam, a sacred sight,\n",
      "Pride of Tamil, burning bright.\n",
      "\n",
      "---------- StopMessage (DiGraphStopAgent) ----------\n",
      "Digraph execution is complete\n"
     ]
    },
    {
     "data": {
      "text/plain": [
       "TaskResult(messages=[TextMessage(source='user', models_usage=None, metadata={}, content='Write a 10 line poem with rhyming words about Tamil culture.', type='TextMessage'), TextMessage(source='Writer', models_usage=RequestUsage(prompt_tokens=47, completion_tokens=79), metadata={}, content=\"Tamil pride, a vibrant sight,\\nTemples old, shining bright.\\nDance and song, a joyful sound,\\nAncient stories, all around.\\nSpicy food, a flavour burst,\\nRich traditions, never worst.\\nFamily bonds, strong and true,\\nCulture's beauty, shines anew.\\nGenerations, keep it alive,\\nTamil spirit, will survive.\\n\", type='TextMessage'), TextMessage(source='Editor1', models_usage=RequestUsage(prompt_tokens=124, completion_tokens=17), metadata={}, content='Corrected a few minor grammatical issues for smoother flow.  No major changes needed.\\n', type='TextMessage'), TextMessage(source='Editor2', models_usage=RequestUsage(prompt_tokens=148, completion_tokens=15), metadata={}, content='Improved flow and rhyme slightly.  Minor word changes for better rhythm.\\n', type='TextMessage'), TextMessage(source='Reviewer', models_usage=RequestUsage(prompt_tokens=158, completion_tokens=79), metadata={}, content='Tamil culture, vibrant and bold,\\nAncient stories, ages old.\\nDance and song, a joyful sound,\\nRich traditions, all around.\\nSpicy food, a flavour bright,\\nFamily bonds, shining light.\\nGenerations, keep it alive,\\nSpirit strong, it will survive.\\nTemples gleam, a sacred sight,\\nPride of Tamil, burning bright.\\n', type='TextMessage'), StopMessage(source='DiGraphStopAgent', models_usage=None, metadata={}, content='Digraph execution is complete', type='StopMessage')], stop_reason='Stop message received')"
      ]
     },
     "execution_count": 22,
     "metadata": {},
     "output_type": "execute_result"
    }
   ],
   "source": [
    "from autogen_agentchat.ui import Console\n",
    "flow = GraphFlow(participants=[writer, editor1, editor2, reviewer], graph=graph)\n",
    "\n",
    "await Console(flow.run_stream(task=\"Write a 10 line poem with rhyming words about Tamil culture.\"))"
   ]
  },
  {
   "cell_type": "code",
   "execution_count": null,
   "id": "708deb67",
   "metadata": {},
   "outputs": [],
   "source": []
  }
 ],
 "metadata": {
  "kernelspec": {
   "display_name": "autogen-env",
   "language": "python",
   "name": "python3"
  },
  "language_info": {
   "codemirror_mode": {
    "name": "ipython",
    "version": 3
   },
   "file_extension": ".py",
   "mimetype": "text/x-python",
   "name": "python",
   "nbconvert_exporter": "python",
   "pygments_lexer": "ipython3",
   "version": "3.11.1"
  }
 },
 "nbformat": 4,
 "nbformat_minor": 5
}
